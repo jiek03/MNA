{
  "cells": [
    {
      "cell_type": "markdown",
      "metadata": {
        "id": "759SG4TyfbUn"
      },
      "source": [
        "#**Maestría en Inteligencia Artificial Aplicada**\n",
        "##**Curso: Procesamiento de Lenguaje Natural (NLP)**\n",
        "###Tecnológico de Monterrey\n",
        "###Prof Luis Eduardo Falcón Morales\n",
        "\n",
        "## **Actividad de la Semana 02**\n",
        "###**Introducción al procesamiento de texto.**"
      ]
    },
    {
      "cell_type": "markdown",
      "metadata": {
        "id": "z0yKllvbJKSm"
      },
      "source": [
        "###**Nombre del estudiante: Javier Alejandro Pérez Garza**\n",
        "\n",
        "###**Matrícula: A01284386**"
      ]
    },
    {
      "cell_type": "markdown",
      "metadata": {
        "id": "6ue1YAKx3XDo"
      },
      "source": [
        "En esta actividad deberás utilizar los datos del siguiente archivo que se encuentra en Canvas:\n",
        "\n",
        "MNA_NLP_semana_02_Actividad_datos.txt\n",
        "\n",
        "El archivo contiene comentarios en inglés sobre servicios de comida de la página de Yelp: https://www.yelp.com/ .\n",
        "\n",
        "Son mil comentarios y forman parte del conjunto de datos que se encuentra en el Machine Learning Repository de la UCI, llamado \"Sentiment Labelled Sentences\": https://archive.ics.uci.edu/ml/datasets/Sentiment+Labelled+Sentences#\n"
      ]
    },
    {
      "cell_type": "markdown",
      "metadata": {
        "id": "Zj-h4drXD-X9"
      },
      "source": [
        "#**Parte 1. Cargamos los datos.**   "
      ]
    },
    {
      "cell_type": "markdown",
      "metadata": {
        "id": "BY6yifxscfrx"
      },
      "source": [
        "Cargar los datos del archivo indicado y obtener una lista de longitud de 1000 strings/comentarios.\n",
        "\n",
        "Por el momento solamente requerimos las bibliotecas de Numpy y re, para el manejo de los arreglos y de las expresiones regulares en Python.\n",
        "\n",
        "En particular, no necesitarás en esta actividad la biblioteca de Pandas.\n",
        "\n",
        "###**NOTA: En esta actividad no debes importar nada más, con estas dos bibliotecas será *suficiente*.**"
      ]
    },
    {
      "cell_type": "code",
      "execution_count": 242,
      "metadata": {
        "colab": {
          "base_uri": "https://localhost:8080/"
        },
        "id": "OJ26dAfhdFnf",
        "outputId": "1beed00c-1314-47d9-bed6-435d30fb2ab1"
      },
      "outputs": [
        {
          "name": "stdout",
          "output_type": "stream",
          "text": [
            "Drive already mounted at /content/drive; to attempt to forcibly remount, call drive.mount(\"/content/drive\", force_remount=True).\n"
          ]
        }
      ],
      "source": [
        "import numpy as np    # importamos Numpy para el manejo de los arreglos.\n",
        "import re             # importamos re para el manejo de las expresiones regulares.\n",
        "from google.colab import drive\n",
        "drive.mount('/content/drive')"
      ]
    },
    {
      "cell_type": "code",
      "execution_count": 243,
      "metadata": {
        "id": "QHUmJyjDdGNP"
      },
      "outputs": [],
      "source": [
        "# Ejecuta las siguientes instrucciones para cargar la información del achivo dado:\n",
        "\n",
        "with open('/content/drive/MyDrive/Colab Notebooks/MNA/TC5043 - Procesamiento de lenguaje natural/Semana 2/MNA_NLP_semana_02_Actividad_datos.txt',        # puedes actualizar la ruta a tu archivo, en dado caso.\n",
        "          mode='r',     # abrimos el archivo en modo lectura.\n",
        "          encoding='utf-8') as f:\n",
        "    docs = f.readlines()    # separamos cada comentario por líneas\n",
        "\n",
        "f.close()  # ya que tenemos la información en la variable docs, cerramos el archivo"
      ]
    },
    {
      "cell_type": "code",
      "execution_count": 244,
      "metadata": {
        "colab": {
          "base_uri": "https://localhost:8080/"
        },
        "id": "L6WzrSrodG-Y",
        "outputId": "a6c7a0c2-c2b9-4a45-9e61-fa0ac9279a98"
      },
      "outputs": [
        {
          "data": {
            "text/plain": [
              "True"
            ]
          },
          "execution_count": 244,
          "metadata": {},
          "output_type": "execute_result"
        }
      ],
      "source": [
        "type(docs) == list   # Verifica que tu variable \"docs\" es una lista"
      ]
    },
    {
      "cell_type": "code",
      "execution_count": 245,
      "metadata": {
        "colab": {
          "base_uri": "https://localhost:8080/"
        },
        "id": "QIK1u9WS2FtS",
        "outputId": "c552dc0b-ad2f-4fbe-8a71-0ad7ccd827d2"
      },
      "outputs": [
        {
          "data": {
            "text/plain": [
              "True"
            ]
          },
          "execution_count": 245,
          "metadata": {},
          "output_type": "execute_result"
        }
      ],
      "source": [
        "len(docs)==1000  # verifica que la longitud de \"docs\" es de mil comentarios."
      ]
    },
    {
      "cell_type": "code",
      "execution_count": 246,
      "metadata": {
        "colab": {
          "base_uri": "https://localhost:8080/"
        },
        "id": "9AMLIfQvJqNZ",
        "outputId": "67a3b132-c66b-4585-80cd-225c98cfbf53"
      },
      "outputs": [
        {
          "data": {
            "text/plain": [
              "['Wow... Loved this place.\\n',\n",
              " 'Crust is not good.\\n',\n",
              " 'Not tasty and the texture was just nasty.\\n',\n",
              " 'Stopped by during the late May bank holiday off Rick Steve recommendation and loved it.\\n',\n",
              " 'The selection on the menu was great and so were the prices.\\n',\n",
              " 'Now I am getting angry and I want my damn pho.\\n',\n",
              " \"Honeslty it didn't taste THAT fresh.)\\n\",\n",
              " 'The potatoes were like rubber and you could tell they had been made up ahead of time being kept under a warmer.\\n',\n",
              " 'The fries were great too.\\n',\n",
              " 'A great touch.\\n']"
            ]
          },
          "execution_count": 246,
          "metadata": {},
          "output_type": "execute_result"
        }
      ],
      "source": [
        "docs[0:10]     # observa algunos de los primeros comentarios"
      ]
    },
    {
      "cell_type": "markdown",
      "metadata": {
        "id": "k_ewoagic5jc"
      },
      "source": [
        "#**Parte 2: sección de preguntas (regex).**   \n"
      ]
    },
    {
      "cell_type": "markdown",
      "metadata": {
        "id": "X-eMJa3DFCIV"
      },
      "source": [
        "##**Instrucciones:**\n",
        "\n",
        "###**A continuación deberás contestar cada una de las preguntas que te piden usando expresiones regulares (regex).**\n",
        "\n",
        "###**Por el momento no hay restricción en cuanto al número de líneas de código que agregues, pero trata de incluir las mínimas posibles.**"
      ]
    },
    {
      "cell_type": "markdown",
      "metadata": {
        "id": "78nJMemzn5a5"
      },
      "source": [
        "*   **Pregunta 1.**\n",
        "\n",
        "Busca y elimina todos los saltos de línea '\\n' que se encuentran al final de cada comentario.\n",
        "\n",
        "Una vez finalizado, imprime los primeros 10 comentarios del resultado obtenido.\n"
      ]
    },
    {
      "cell_type": "code",
      "execution_count": 247,
      "metadata": {
        "id": "PwbYYIuZn8pE"
      },
      "outputs": [],
      "source": [
        "docs = [re.sub(r'\\n$', '', doc) for doc in docs]"
      ]
    },
    {
      "cell_type": "code",
      "execution_count": 248,
      "metadata": {
        "colab": {
          "base_uri": "https://localhost:8080/"
        },
        "id": "j-0qeh2Jn8l1",
        "outputId": "65cc44d2-60d1-43ea-89fe-21752221d6e2"
      },
      "outputs": [
        {
          "data": {
            "text/plain": [
              "['Wow... Loved this place.',\n",
              " 'Crust is not good.',\n",
              " 'Not tasty and the texture was just nasty.',\n",
              " 'Stopped by during the late May bank holiday off Rick Steve recommendation and loved it.',\n",
              " 'The selection on the menu was great and so were the prices.',\n",
              " 'Now I am getting angry and I want my damn pho.',\n",
              " \"Honeslty it didn't taste THAT fresh.)\",\n",
              " 'The potatoes were like rubber and you could tell they had been made up ahead of time being kept under a warmer.',\n",
              " 'The fries were great too.',\n",
              " 'A great touch.']"
            ]
          },
          "execution_count": 248,
          "metadata": {},
          "output_type": "execute_result"
        }
      ],
      "source": [
        "docs[0:10]"
      ]
    },
    {
      "cell_type": "markdown",
      "metadata": {
        "id": "VWeKQC93ctEo"
      },
      "source": [
        "*   **Pregunta 2.**  \n",
        "\n",
        "Busca e imprime todas las palabras que terminan con dos o más signos de admiración seguidos, por ejemplo \"!!!\".\n",
        "\n",
        "Debes imprimir tanto la palabra como la totalidad de signos de admiración que le siguen.\n",
        "\n",
        "Indica cuántos resultados obtuviste.\n",
        "\n"
      ]
    },
    {
      "cell_type": "code",
      "execution_count": 249,
      "metadata": {
        "id": "0p3kMXfddICc"
      },
      "outputs": [],
      "source": [
        "onedoc = ''.join(docs)\n",
        "results = re.findall(r'\\b\\w+ ?!{2,}', onedoc)"
      ]
    },
    {
      "cell_type": "code",
      "execution_count": 250,
      "metadata": {
        "colab": {
          "base_uri": "https://localhost:8080/"
        },
        "id": "SPVM1MCWdH6Z",
        "outputId": "743c9abf-cd86-408d-b7fb-387e3b5411d7"
      },
      "outputs": [
        {
          "name": "stdout",
          "output_type": "stream",
          "text": [
            "Número de resultados obtenidos: 27\n",
            "\n",
            "Palabras encontradas seguidas de mas de dos signos de exclamacion:\n",
            "Firehouse!!!!!\n",
            "APPETIZERS!!!\n",
            "amazing!!!\n",
            "buffet!!!\n",
            "good!!\n",
            "it!!!!\n",
            "DELICIOUS!!\n",
            "amazing!!\n",
            "shawarrrrrrma!!!!!!\n",
            "yucky!!!\n",
            "steak!!!!!\n",
            "delicious!!!\n",
            "far!!\n",
            "biscuits!!!\n",
            "dry!!\n",
            "disappointing!!!\n",
            "gem !!!\n",
            "awesome!!\n",
            "Up!!\n",
            "FLY!!!!!!!!\n",
            "here!!!\n",
            "great!!!!!!!!!!!!!!\n",
            "packed!!\n",
            "otherwise!!\n",
            "amazing!!!!!!!!!!!!!!!!!!!\n",
            "style!!\n",
            "disappointed!!\n"
          ]
        }
      ],
      "source": [
        "print(\"Número de resultados obtenidos: \" + str(len(results)) + \"\\n\")\n",
        "print(\"Palabras encontradas seguidas de mas de dos signos de exclamacion:\")\n",
        "for j in results:\n",
        "  print(j)"
      ]
    },
    {
      "cell_type": "markdown",
      "metadata": {
        "id": "-s3okBqL96TT"
      },
      "source": [
        "*   **Pregunta 3.**  \n",
        "\n",
        "Busca e imprime todas las palabras que están escritas totalmente en mayúsculas. Cada coincidencia debe ser una sola palabra.\n",
        "\n",
        "Indica cuántas palabras encontraste.\n",
        "\n"
      ]
    },
    {
      "cell_type": "code",
      "execution_count": 251,
      "metadata": {
        "id": "yKHJkZKo_nW5"
      },
      "outputs": [],
      "source": [
        "results = re.findall(r'\\b([A-Z]{2,}|A|I)\\b', onedoc)"
      ]
    },
    {
      "cell_type": "code",
      "execution_count": 252,
      "metadata": {
        "colab": {
          "base_uri": "https://localhost:8080/"
        },
        "id": "L3q08aq69sNn",
        "outputId": "0a4bd29f-6ad1-46c1-8673-6131c1f13c78"
      },
      "outputs": [
        {
          "name": "stdout",
          "output_type": "stream",
          "text": [
            "Número de resultados obtenidos: 452\n",
            "\n",
            "Palabras escritas totalmente en mayúsculas:\n",
            "LOVED\n",
            "ESTABLISHMENT\n",
            "TIME\n",
            "APPETIZERS\n",
            "INCONSIDERATE\n",
            "AZ\n",
            "STALE\n",
            "HAD\n",
            "BARGAIN\n",
            "MANY\n",
            "LEGIT\n",
            "SHOULD\n",
            "AVOID\n",
            "MUST\n",
            "EXPERIENCE\n",
            "FORWARD\n",
            "AYCE\n",
            "FANTASTIC\n",
            "BITCHES\n",
            "TOLD\n",
            "MANAGEMENT\n",
            "I\n",
            "AGAIN\n",
            "AND\n",
            "OWNERS\n",
            "HAPPENED\n",
            "SCREAMS\n",
            "GO\n",
            "TOTAL\n",
            "FREEZING\n",
            "FS\n",
            "THAT\n",
            "WHAT\n",
            "IN\n",
            "OK\n",
            "MGM\n",
            "VERY\n",
            "BLAND\n",
            "WEAK\n",
            "REALLY\n",
            "NASTY\n",
            "FLY\n",
            "FLAVOR\n",
            "THIS\n",
            "WASTE\n",
            "NOW\n",
            "STEP\n",
            "BACK\n",
            "RUDE\n",
            "NO\n",
            "NEVER\n",
            "RI\n",
            "ALL\n",
            "HOUR\n",
            "GC\n",
            "GREAT\n",
            "A\n",
            "UNREAL\n",
            "HAVE\n",
            "NYC\n",
            "OMG\n",
            "NONE\n",
            "NOT\n",
            "THE\n",
            "WILL\n",
            "OF\n",
            "REAL\n",
            "OVERPRICED\n",
            "BETTER\n",
            "CONCLUSION\n",
            "BBQ\n",
            "DELICIOUS\n",
            "AN\n",
            "BEST\n",
            "TV\n",
            "BARE\n",
            "PEOPLE\n",
            "WAY\n",
            "IT\n",
            "WORST\n",
            "EVER\n",
            "HANDS\n",
            "PERFECT\n"
          ]
        }
      ],
      "source": [
        "print(\"Número de resultados obtenidos: \" + str(len(results)) + \"\\n\")\n",
        "print(\"Palabras escritas totalmente en mayúsculas:\")\n",
        "for j in set(results):\n",
        "    print(j)"
      ]
    },
    {
      "cell_type": "markdown",
      "metadata": {
        "id": "GX8eYyDoMZma"
      },
      "source": [
        "*   **Pregunta 4.**  \n",
        "\n",
        "Busca e imprime los comentarios en donde todos los caracteres alfabéticos (letras) están en mayúsculas.\n",
        "\n",
        "Cada coincidencia encontrada debe ser todo el comentario/enunciado.\n",
        "\n",
        "Indica cuántos resultados obtuviste.\n"
      ]
    },
    {
      "cell_type": "code",
      "execution_count": 253,
      "metadata": {
        "id": "K8VuZxvTMYj6"
      },
      "outputs": [],
      "source": [
        "results = [l for l in docs if re.match(r'^[A-Z \\W]+$', l)]"
      ]
    },
    {
      "cell_type": "code",
      "execution_count": 254,
      "metadata": {
        "colab": {
          "base_uri": "https://localhost:8080/"
        },
        "id": "PmKgX7sCMcDx",
        "outputId": "9f31f4db-665a-4798-ff0a-56b93d53991f"
      },
      "outputs": [
        {
          "name": "stdout",
          "output_type": "stream",
          "text": [
            "Número de enunciados obtenidos: 5\n",
            "\n",
            "Comentarios con todos los caracteres alfabéticos en mayusculas:\n",
            "DELICIOUS!!\n",
            "RUDE & INCONSIDERATE MANAGEMENT.\n",
            "WILL NEVER EVER GO BACK AND HAVE TOLD MANY PEOPLE WHAT HAD HAPPENED.\n",
            "TOTAL WASTE OF TIME.\n",
            "AVOID THIS ESTABLISHMENT!\n"
          ]
        }
      ],
      "source": [
        "print(\"Número de enunciados obtenidos: \" + str(len(results)) + \"\\n\")\n",
        "print(\"Comentarios con todos los caracteres alfabéticos en mayusculas:\")\n",
        "for j in results:\n",
        "  print(j)\n"
      ]
    },
    {
      "cell_type": "markdown",
      "metadata": {
        "id": "a1i6qv7-McmU"
      },
      "source": [
        "*   **Pregunta 5.**  \n",
        "\n",
        "Busca e imprime todas las palabras que tengan una vocal acentuada, del tipo á, é, í, ó, ú.\n",
        "\n",
        "Indica cuántos resultados obtuviste."
      ]
    },
    {
      "cell_type": "code",
      "execution_count": 255,
      "metadata": {
        "id": "nZZ5zKUOMeGD"
      },
      "outputs": [],
      "source": [
        "results = re.findall(r'\\b\\w*[áéíóú]\\w*\\b', onedoc)"
      ]
    },
    {
      "cell_type": "code",
      "execution_count": 256,
      "metadata": {
        "colab": {
          "base_uri": "https://localhost:8080/"
        },
        "id": "l1mFvUEZMe8s",
        "outputId": "90009dae-8d6b-472e-dffc-ed998934762c"
      },
      "outputs": [
        {
          "name": "stdout",
          "output_type": "stream",
          "text": [
            "Número de resultados obtenidos: 3\n",
            "\n",
            "Palabras que tengan una vocal acentuada:\n",
            "fiancé\n",
            "Café\n",
            "puréed\n"
          ]
        }
      ],
      "source": [
        "print(\"Número de resultados obtenidos: \" + str(len(results)) + \"\\n\")\n",
        "print(\"Palabras que tengan una vocal acentuada:\")\n",
        "for j in results:\n",
        "    print(j)"
      ]
    },
    {
      "cell_type": "markdown",
      "metadata": {
        "id": "ZmPiAI82Mfb3"
      },
      "source": [
        "*   **Pregunta 6.**  \n",
        "\n",
        "Busca e imprime todas las cantidades numéricas monetarias, enteras o con decimales, que inician con el símbolo $\\$$.\n",
        "\n",
        "Indica cuántos resultados obtuviste."
      ]
    },
    {
      "cell_type": "code",
      "execution_count": 257,
      "metadata": {
        "id": "6vhe9-Y-MhL9"
      },
      "outputs": [],
      "source": [
        "results = re.findall(r'\\$\\d+(?:\\.\\d+)?', onedoc)"
      ]
    },
    {
      "cell_type": "code",
      "execution_count": 258,
      "metadata": {
        "colab": {
          "base_uri": "https://localhost:8080/"
        },
        "id": "_t0a5xWDMhQ5",
        "outputId": "866a8056-5847-4277-fe66-42a751814957"
      },
      "outputs": [
        {
          "name": "stdout",
          "output_type": "stream",
          "text": [
            "Número de resultados obtenidos: 8\n",
            "\n",
            "Cantidades númericas monetarias:\n",
            "$20\n",
            "$4.00\n",
            "$17\n",
            "$3\n",
            "$35\n",
            "$7.85\n",
            "$12\n",
            "$11.99\n"
          ]
        }
      ],
      "source": [
        "print(\"Número de resultados obtenidos: \" + str(len(results)) + \"\\n\")\n",
        "print(\"Cantidades númericas monetarias:\")\n",
        "for j in results:\n",
        "    print(j)"
      ]
    },
    {
      "cell_type": "markdown",
      "metadata": {
        "id": "2j-HpvhwMhq2"
      },
      "source": [
        "*   **Pregunta 7.**  \n",
        "\n",
        "Busca e imprime todas las palabras que sean variantes de la palabra \"love\", sin importar si incluyen mayúsculas o minúsculas, o la manera en que esté conjugada o alguna otra variación que se haga con dicha palabra.\n",
        "\n",
        "Indica cuántos resultados obtuviste."
      ]
    },
    {
      "cell_type": "code",
      "execution_count": 259,
      "metadata": {
        "id": "kqqyRChVMjol"
      },
      "outputs": [],
      "source": [
        "#results = re.findall(r'(?i)\\b(\\w*love\\w*)\\b', onedoc)\n",
        "results = re.findall(r'\\b(?:(?:L|l)(?:O|o)(?:V|v))\\w*\\b', onedoc)"
      ]
    },
    {
      "cell_type": "markdown",
      "metadata": {
        "id": "Wsfm9Iel4-yh"
      },
      "source": [
        "En este caso se utilizó el segundo regex debido a que no hay variantes de \"love\" como unloved, por lo que todas las variantes empiezan por \"lov\". Además, en este caso en el regex comentado se presenta la palabra \"gloves\" y no \"loving\", por lo que si estrictamente se buscan palabras con love si se debe usar el regex comentado, aunque en el caso de esta actividad resulta mejor utilizar el segundo regex para realizar la busqueda."
      ]
    },
    {
      "cell_type": "code",
      "execution_count": 260,
      "metadata": {
        "colab": {
          "base_uri": "https://localhost:8080/"
        },
        "id": "UXd0VQluMj_x",
        "outputId": "f529de23-d614-4ebf-d8f7-79e6a5e2f6a6"
      },
      "outputs": [
        {
          "name": "stdout",
          "output_type": "stream",
          "text": [
            "Número total de palabras variantes de la palabra \"love\": 36\n",
            "\n",
            "Lista de palabras encontradas variantes de la palabra \"love\":\n",
            "Loved\n",
            "loved\n",
            "Loved\n",
            "love\n",
            "loves\n",
            "LOVED\n",
            "lovers\n",
            "loving\n",
            "love\n",
            "lovers\n",
            "Love\n",
            "loved\n",
            "loved\n",
            "love\n",
            "love\n",
            "love\n",
            "loved\n",
            "love\n",
            "loved\n",
            "Love\n",
            "LOVED\n",
            "love\n",
            "lovely\n",
            "love\n",
            "lovely\n",
            "love\n",
            "lover\n",
            "loved\n",
            "love\n",
            "love\n",
            "love\n",
            "love\n",
            "love\n",
            "love\n",
            "love\n",
            "love\n"
          ]
        }
      ],
      "source": [
        "print('Número total de palabras variantes de la palabra \"love\": ' + str(len(results)) + '\\n')\n",
        "print('Lista de palabras encontradas variantes de la palabra \"love\":')\n",
        "for j in results:\n",
        "  print(j)"
      ]
    },
    {
      "cell_type": "markdown",
      "metadata": {
        "id": "Ctb-NTY3MkYG"
      },
      "source": [
        "*   **Pregunta 8.**  \n",
        "\n",
        "Busca e imprime todas las palabras, variantes de \"so\" y \"good\", que tengan dos o más \"o\" en \"so\" y 3 o más \"o\" en good.\n",
        "\n",
        "Indica cuántas encontraste.\n"
      ]
    },
    {
      "cell_type": "code",
      "execution_count": 261,
      "metadata": {
        "id": "A8Nf3B_cMlqg"
      },
      "outputs": [],
      "source": [
        "results = re.findall(r'\\b(so{2,}|go{3,}d)', onedoc, re.IGNORECASE)"
      ]
    },
    {
      "cell_type": "code",
      "execution_count": 262,
      "metadata": {
        "colab": {
          "base_uri": "https://localhost:8080/"
        },
        "id": "svS4-vvPMl6f",
        "outputId": "ddf3f82c-6974-4ad2-85ef-86792115b78c"
      },
      "outputs": [
        {
          "name": "stdout",
          "output_type": "stream",
          "text": [
            "Número de variantes encontradas: 14\n",
            "\n",
            "Todas la variantes de good y so encontradas:\n",
            "Sooooo\n",
            "soo\n",
            "soooo\n",
            "soo\n",
            "soo\n",
            "goood\n",
            "soo\n",
            "soo\n",
            "soooooo\n",
            "soo\n",
            "soo\n",
            "soooo\n",
            "soo\n",
            "soo\n"
          ]
        }
      ],
      "source": [
        "print('Número de variantes encontradas: ' + str(len(results)) + '\\n')\n",
        "\n",
        "print(\"Todas la variantes de good y so encontradas:\")\n",
        "for j in results:\n",
        "  print(j)"
      ]
    },
    {
      "cell_type": "markdown",
      "metadata": {
        "id": "hkak1opjMmlk"
      },
      "source": [
        "*   **Pregunta 9.**  \n",
        "\n",
        "Busca e imprime todas las palabras que tengan una longitud mayor estrictamente a 10 caracteres alfabéticos.\n",
        "\n",
        "No se consideran los signos de puntuación o caracteres especiales en la longitud de estas cadenas, solo caracteres alfabéticos en mayúsculas o minúsculas.\n",
        "\n",
        "Indica la cantidad de palabras encontradas.\n"
      ]
    },
    {
      "cell_type": "code",
      "execution_count": 263,
      "metadata": {
        "id": "PYxdp3uhMoD0"
      },
      "outputs": [],
      "source": [
        "words = re.findall(r'\\b\\w+\\b', onedoc)\n",
        "results = []\n",
        "\n",
        "for word in words:\n",
        "    length = sum(1 for char in word if char.isalpha())\n",
        "    if length > 10:\n",
        "        results.append(word)"
      ]
    },
    {
      "cell_type": "code",
      "execution_count": 264,
      "metadata": {
        "colab": {
          "base_uri": "https://localhost:8080/"
        },
        "id": "BR7e2F4FMof-",
        "outputId": "2e9cc80f-71c9-4e0f-b757-1acf08656111"
      },
      "outputs": [
        {
          "name": "stdout",
          "output_type": "stream",
          "text": [
            "Número de palabras palabras encontradas: 141\n",
            "\n",
            "Lista palabras encontradas con longitud mayor estrictamente a 10 caracteres alfabéticos:\n",
            "disappointing\n",
            "shawarrrrrrma\n",
            "Veggitarian\n",
            "disgraceful\n",
            "experiencing\n",
            "ESTABLISHMENT\n",
            "unprofessional\n",
            "deliciously\n",
            "INCONSIDERATE\n",
            "professional\n",
            "caterpillar\n",
            "Outstanding\n",
            "restaurants\n",
            "Philadelphia\n",
            "informative\n",
            "establishment\n",
            "anticipated\n",
            "descriptions\n",
            "immediately\n",
            "acknowledged\n",
            "WAAAAAAyyyyyyyyyy\n",
            "interesting\n",
            "profiterole\n",
            "compliments\n",
            "grandmother\n",
            "unsatisfying\n",
            "unfortunately\n",
            "combination\n",
            "opportunity\n",
            "presentation\n",
            "cheeseburger\n",
            "connoisseur\n",
            "Smashburger\n",
            "transcendant\n",
            "neighborhood\n",
            "corporation\n",
            "highlighted\n",
            "disapppointment\n",
            "outstanding\n",
            "exceptional\n",
            "disappointed\n",
            "cheesecurds\n",
            "outrageously\n",
            "constructed\n",
            "ventilation\n",
            "Mediterranean\n",
            "disappointment\n",
            "drastically\n",
            "expectations\n",
            "inexpensive\n",
            "Disappointing\n",
            "Interesting\n",
            "enthusiastic\n",
            "imaginative\n",
            "Disappointed\n",
            "Unfortunately\n",
            "maintaining\n",
            "unexperienced\n",
            "overwhelmed\n",
            "reservation\n",
            "Furthermore\n",
            "unbelievably\n",
            "unbelievable\n",
            "disrespected\n",
            "comfortable\n",
            "replenished\n",
            "Wienerschnitzel\n",
            "deuchebaggery\n",
            "considering\n",
            "accordingly\n",
            "undercooked\n",
            "vinaigrette\n",
            "recommended\n",
            "suggestions\n",
            "traditional\n",
            "recommendation\n",
            "ingredients\n",
            "extraordinary\n",
            "accommodations\n",
            "hospitality\n",
            "beautifully\n",
            "experienced\n",
            "imagination\n",
            "underwhelming\n",
            "calligraphy\n",
            "recommending\n",
            "relationship\n",
            "circumstances\n"
          ]
        }
      ],
      "source": [
        "print(\"Número de palabras palabras encontradas: \" + str(len(results)) + '\\n')\n",
        "print(\"Lista palabras encontradas con longitud mayor estrictamente a 10 caracteres alfabéticos:\")\n",
        "for j in set(results):\n",
        "  print(j)"
      ]
    },
    {
      "cell_type": "markdown",
      "metadata": {
        "id": "ApjTNzSxMpDc"
      },
      "source": [
        "*   **Pregunta 10.**  \n",
        "\n",
        "Busca e imprime todas las palabras que inician con una letra mayúscula y terminan con una minúscula, pero que además no sea la primera palabra del comentario/string.\n",
        "\n",
        "Indica la cantidad de resultados obtenidos."
      ]
    },
    {
      "cell_type": "code",
      "execution_count": 265,
      "metadata": {
        "id": "Vb0ndRGAMqdL"
      },
      "outputs": [],
      "source": [
        "results = re.findall(r'(?<=\\s|\\n)([A-Z][a-zA-Z]*[a-záéíóú])\\b', onedoc)"
      ]
    },
    {
      "cell_type": "code",
      "execution_count": 266,
      "metadata": {
        "colab": {
          "base_uri": "https://localhost:8080/"
        },
        "id": "dLPTRPnTMqqx",
        "outputId": "bd5db39a-4dc3-4841-c5fa-9102f62e1627"
      },
      "outputs": [
        {
          "name": "stdout",
          "output_type": "stream",
          "text": [
            "Número de palabras palabras encontradas: 267\n",
            "\n",
            "Lista palabras encontradas que inician con una letra mayúscula y terminan con una minúscula, pero que además no sea la primera palabra del comentario:\n",
            "Bar\n",
            "Experience\n",
            "Nice\n",
            "Sour\n",
            "Vegetarian\n",
            "Coffee\n",
            "Veggitarian\n",
            "Subway\n",
            "Mexican\n",
            "Greek\n",
            "Blah\n",
            "Really\n",
            "Japanese\n",
            "Pita\n",
            "Tigerlilly\n",
            "Toast\n",
            "Food\n",
            "Lemon\n",
            "Gordon\n",
            "Baba\n",
            "Casino\n",
            "Yeah\n",
            "San\n",
            "Khao\n",
            "Crema\n",
            "Attack\n",
            "Outstanding\n",
            "Mandalay\n",
            "Salad\n",
            "Cibo\n",
            "Rice\n",
            "Bisque\n",
            "Breeze\n",
            "Philadelphia\n",
            "Joey\n",
            "Cartel\n",
            "Plater\n",
            "Lox\n",
            "Fridays\n",
            "Soups\n",
            "Edinburgh\n",
            "Wife\n",
            "Indian\n",
            "Prices\n",
            "Heart\n",
            "Buldogis\n",
            "Dog\n",
            "North\n",
            "Hard\n",
            "Taco\n",
            "Denny\n",
            "Noca\n",
            "Camelback\n",
            "Panna\n",
            "Nan\n",
            "Crystals\n",
            "This\n",
            "Chinese\n",
            "Rick\n",
            "Thai\n",
            "Shop\n",
            "Magic\n",
            "Bay\n",
            "Gyros\n",
            "Smashburger\n",
            "Café\n",
            "Paradise\n",
            "Brushfire\n",
            "Jamaican\n",
            "Mirage\n",
            "Green\n",
            "Sat\n",
            "Long\n",
            "Valley\n",
            "When\n",
            "Gringos\n",
            "Ians\n",
            "Aria\n",
            "Mellow\n",
            "Hot\n",
            "Sunday\n",
            "Tasty\n",
            "Our\n",
            "Also\n",
            "Customer\n",
            "Maria\n",
            "Magazine\n",
            "Loved\n",
            "Bouchon\n",
            "Pineapple\n",
            "Carly\n",
            "Cotta\n",
            "Han\n",
            "Big\n",
            "Ha\n",
            "Tucson\n",
            "Bean\n",
            "Place\n",
            "Francisco\n",
            "Pizza\n",
            "May\n",
            "Cape\n",
            "Salads\n",
            "Mom\n",
            "Mary\n",
            "Bad\n",
            "Ironman\n",
            "To\n",
            "Albondigas\n",
            "Palm\n",
            "Mediterranean\n",
            "Eggplant\n",
            "Stars\n",
            "Service\n",
            "Sun\n",
            "Mmmm\n",
            "They\n",
            "Excalibur\n",
            "Hunan\n",
            "Best\n",
            "Seat\n",
            "Dylan\n",
            "Costco\n",
            "Bloody\n",
            "Roll\n",
            "Halibut\n",
            "Sushi\n",
            "Chipotle\n",
            "Pros\n",
            "Disappointed\n",
            "Lobster\n",
            "Hiro\n",
            "Ninja\n",
            "Great\n",
            "Voodoo\n",
            "Phoenix\n",
            "Steak\n",
            "Mushroom\n",
            "Grill\n",
            "The\n",
            "Scottsdale\n",
            "Elk\n",
            "Luke\n",
            "Frenchman\n",
            "All\n",
            "Macarons\n",
            "Buffet\n",
            "Firehouse\n",
            "Las\n",
            "Very\n",
            "English\n",
            "Vegas\n",
            "In\n",
            "Soi\n",
            "Madison\n",
            "Heimer\n",
            "Standard\n",
            "Burger\n",
            "Rock\n",
            "Both\n",
            "Company\n",
            "Not\n",
            "Honestly\n",
            "Hut\n",
            "Perfect\n",
            "Wienerschnitzel\n",
            "Delight\n",
            "Risotto\n",
            "Steiners\n",
            "Eve\n",
            "Burrittos\n",
            "Egg\n",
            "Kabuki\n",
            "Up\n",
            "Strip\n",
            "Maine\n",
            "Caballero\n",
            "Dos\n",
            "Otto\n",
            "Steve\n",
            "Cod\n",
            "Mango\n",
            "Chicken\n",
            "Gourmet\n",
            "Ganoush\n",
            "Large\n",
            "Thumbs\n",
            "Bellagio\n",
            "Nobu\n",
            "Jenni\n",
            "Bussell\n",
            "Pho\n",
            "Yelpers\n",
            "Caesar\n",
            "Bachi\n",
            "Italian\n",
            "Sprouts\n",
            "Christmas\n",
            "Area\n",
            "Ramsey\n",
            "Jeff\n",
            "Yama\n",
            "Filet\n",
            "Flower\n"
          ]
        }
      ],
      "source": [
        "print(\"Número de palabras palabras encontradas: \" + str(len(results)) + '\\n')\n",
        "print(\"Lista palabras encontradas que inician con una letra mayúscula y terminan con una minúscula, pero que además no sea la primera palabra del comentario:\")\n",
        "for j in set(results):\n",
        "  print(j)"
      ]
    },
    {
      "cell_type": "markdown",
      "metadata": {
        "id": "u7nfm4KhMrNW"
      },
      "source": [
        "*   **Pregunta 11.**  \n",
        "\n",
        "Busca e imprime la secuencia de dos o más palabras que están separadas por un guion, \"-\", sin que tengan espacios en blanco entre ellas.\n",
        "\n",
        "Por ejemplo \"Go-Kart\" sería válido, pero \"Go  -Kart\" o \"Go  -  Kart\" no lo serían.\n",
        "\n",
        "Indica la cantidad de resultados obtenidos."
      ]
    },
    {
      "cell_type": "code",
      "execution_count": 267,
      "metadata": {
        "id": "OwU-a7eGMsub"
      },
      "outputs": [],
      "source": [
        "results = re.findall(r'\\b[A-Za-z]+-[A-Za-z]+(?:-[A-Za-z]+)*\\b', onedoc)"
      ]
    },
    {
      "cell_type": "code",
      "execution_count": 268,
      "metadata": {
        "colab": {
          "base_uri": "https://localhost:8080/"
        },
        "id": "SgzIL74ZMtGw",
        "outputId": "10c9c822-2287-4dc7-eba2-2ee67560ade1"
      },
      "outputs": [
        {
          "name": "stdout",
          "output_type": "stream",
          "text": [
            "Número de palabras palabras encontradas: 19\n",
            "\n",
            "Lista palabras encontradas que están separadas por un guión:\n",
            "flat-lined\n",
            "hands-down\n",
            "must-stop\n",
            "sub-par\n",
            "Service-check\n",
            "in-house\n",
            "been-stepped-in-and-tracked-everywhere\n",
            "multi-grain\n",
            "to-go\n",
            "non-customer\n",
            "High-quality\n",
            "sit-down\n",
            "over-whelm\n",
            "low-key\n",
            "non-fancy\n",
            "golden-crispy\n",
            "over-priced\n",
            "over-hip\n",
            "under-services\n"
          ]
        }
      ],
      "source": [
        "print(\"Número de palabras palabras encontradas: \" + str(len(results)) + '\\n')\n",
        "print(\"Lista palabras encontradas que están separadas por un guión:\")\n",
        "for j in results:\n",
        "  print(j)"
      ]
    },
    {
      "cell_type": "markdown",
      "metadata": {
        "id": "DEIgl79HMthr"
      },
      "source": [
        "*   **Pregunta 12.**  \n",
        "\n",
        "Busca e imprime todas las palabras que terminan en \"ing\" o \"ed\".\n",
        "\n",
        "Indica la cantidad de palabras que encontraste de cada una."
      ]
    },
    {
      "cell_type": "code",
      "execution_count": 269,
      "metadata": {
        "id": "I4TSofBMMv9y"
      },
      "outputs": [],
      "source": [
        "results_ing = re.findall(r'\\b\\w+ing\\b', onedoc, re.IGNORECASE)\n",
        "results_ed = re.findall(r'\\b\\w+ed\\b', onedoc, re.IGNORECASE)"
      ]
    },
    {
      "cell_type": "code",
      "execution_count": 270,
      "metadata": {
        "colab": {
          "base_uri": "https://localhost:8080/"
        },
        "id": "AhGq6De2Mvyh",
        "outputId": "b7232bed-2ba2-40b6-a571-5b9f0357f3b1"
      },
      "outputs": [
        {
          "name": "stdout",
          "output_type": "stream",
          "text": [
            "Numero de palabras que terminan en \"ing\": 279\n",
            "Numero de palabras que terminan en \"ed\": 339\n",
            "\n",
            "Lista de palabras que terminan en \"ing\" o \"ed: \"\n",
            "during\n",
            "getting\n",
            "being\n",
            "being\n",
            "amazing\n",
            "running\n",
            "redeeming\n",
            "getting\n",
            "thing\n",
            "dressing\n",
            "refreshing\n",
            "running\n",
            "nothing\n",
            "appalling\n",
            "wasting\n",
            "eating\n",
            "going\n",
            "Coming\n",
            "experiencing\n",
            "underwhelming\n",
            "eating\n",
            "raving\n",
            "spring\n",
            "unsatisfying\n",
            "amazing\n",
            "Everything\n",
            "disappointing\n",
            "dining\n",
            "flirting\n",
            "thing\n",
            "coming\n",
            "playing\n",
            "ordering\n",
            "arriving\n",
            "disappointing\n",
            "preparing\n",
            "loving\n",
            "liking\n",
            "reviewing\n",
            "venturing\n",
            "including\n",
            "during\n",
            "changing\n",
            "going\n",
            "considering\n",
            "coming\n",
            "going\n",
            "everything\n",
            "looking\n",
            "dressing\n",
            "dining\n",
            "Everything\n",
            "amazing\n",
            "judging\n",
            "maintaining\n",
            "asking\n",
            "having\n",
            "something\n",
            "lacking\n",
            "Interesting\n",
            "preparing\n",
            "missing\n",
            "feeling\n",
            "exceeding\n",
            "inviting\n",
            "climbing\n",
            "waiting\n",
            "coming\n",
            "being\n",
            "lacking\n",
            "going\n",
            "amazing\n",
            "dealing\n",
            "annoying\n",
            "falling\n",
            "sporting\n",
            "amazing\n",
            "providing\n",
            "building\n",
            "FREEZING\n",
            "lighting\n",
            "going\n",
            "nothing\n",
            "working\n",
            "eating\n",
            "dressing\n",
            "being\n",
            "outstanding\n",
            "getting\n",
            "amazing\n",
            "rating\n",
            "eating\n",
            "writing\n",
            "everything\n",
            "dining\n",
            "boring\n",
            "charming\n",
            "going\n",
            "making\n",
            "pricing\n",
            "considering\n",
            "amazing\n",
            "Everything\n",
            "nothing\n",
            "nothing\n",
            "driving\n",
            "during\n",
            "evening\n",
            "Outstanding\n",
            "buying\n",
            "handling\n",
            "wasting\n",
            "craving\n",
            "dining\n",
            "interesting\n",
            "amazing\n",
            "being\n",
            "outshining\n",
            "starving\n",
            "coming\n",
            "considering\n",
            "shopping\n",
            "nothing\n",
            "getting\n",
            "trying\n",
            "eating\n",
            "going\n",
            "everything\n",
            "Nothing\n",
            "going\n",
            "outstanding\n",
            "running\n",
            "forgetting\n",
            "upgrading\n",
            "eating\n",
            "bring\n",
            "hoping\n",
            "living\n",
            "dining\n",
            "filling\n",
            "amazing\n",
            "Everything\n",
            "thing\n",
            "amazing\n",
            "Everything\n",
            "interesting\n",
            "amazing\n",
            "amazing\n",
            "waiting\n",
            "going\n",
            "going\n",
            "dining\n",
            "saving\n",
            "something\n",
            "trying\n",
            "disgusting\n",
            "hankering\n",
            "being\n",
            "being\n",
            "being\n",
            "setting\n",
            "sitting\n",
            "waiting\n",
            "satisfying\n",
            "eating\n",
            "being\n",
            "freaking\n",
            "getting\n",
            "amazing\n",
            "disappointing\n",
            "seasoning\n",
            "going\n",
            "being\n",
            "bring\n",
            "letting\n",
            "evening\n",
            "waiting\n",
            "being\n",
            "eating\n",
            "going\n",
            "seating\n",
            "playing\n",
            "amazing\n",
            "staying\n",
            "giving\n",
            "talking\n",
            "amazing\n",
            "amazing\n",
            "amazing\n",
            "amazing\n",
            "filling\n",
            "dripping\n",
            "going\n",
            "serving\n",
            "recommending\n",
            "thing\n",
            "reading\n",
            "seating\n",
            "going\n",
            "everything\n",
            "thing\n",
            "sitting\n",
            "waiting\n",
            "bring\n",
            "revisiting\n",
            "coming\n",
            "anything\n",
            "feeling\n",
            "during\n",
            "thing\n",
            "being\n",
            "amazing\n",
            "being\n",
            "amazing\n",
            "satifying\n",
            "describing\n",
            "coming\n",
            "everything\n",
            "Paying\n",
            "going\n",
            "thing\n",
            "amazing\n",
            "getting\n",
            "cramming\n",
            "considering\n",
            "fucking\n",
            "going\n",
            "appealing\n",
            "getting\n",
            "coming\n",
            "Everything\n",
            "dealing\n",
            "everything\n",
            "something\n",
            "during\n",
            "dining\n",
            "cooking\n",
            "dining\n",
            "editing\n",
            "setting\n",
            "amazing\n",
            "rotating\n",
            "Pricing\n",
            "satisfying\n",
            "disappointing\n",
            "amazing\n",
            "returning\n",
            "running\n",
            "being\n",
            "thing\n",
            "nothing\n",
            "poisoning\n",
            "thinking\n",
            "something\n",
            "going\n",
            "disgusting\n",
            "caring\n",
            "bring\n",
            "Disappointing\n",
            "saying\n",
            "going\n",
            "coming\n",
            "building\n",
            "seating\n",
            "dipping\n",
            "setting\n",
            "anything\n",
            "drinking\n",
            "serving\n",
            "doing\n",
            "putting\n",
            "getting\n",
            "looking\n",
            "coming\n",
            "staying\n",
            "lacking\n",
            "underwhelming\n",
            "drawing\n",
            "bring\n",
            "Loved\n",
            "Stopped\n",
            "loved\n",
            "ended\n",
            "overpriced\n",
            "tried\n",
            "disgusted\n",
            "shocked\n",
            "recommended\n",
            "performed\n",
            "red\n",
            "asked\n",
            "overwhelmed\n",
            "grossed\n",
            "melted\n",
            "provided\n",
            "cooked\n",
            "ordered\n",
            "realized\n",
            "Loved\n",
            "lined\n",
            "cooked\n",
            "ripped\n",
            "ripped\n",
            "petrified\n",
            "included\n",
            "expected\n",
            "seasoned\n",
            "cheated\n",
            "walked\n",
            "smelled\n",
            "tailored\n",
            "arrived\n",
            "roasted\n",
            "added\n",
            "LOVED\n",
            "cooked\n",
            "passed\n",
            "liked\n",
            "managed\n",
            "served\n",
            "overpriced\n",
            "checked\n",
            "disappointed\n",
            "red\n",
            "decorated\n",
            "served\n",
            "watched\n",
            "greeted\n",
            "seated\n",
            "waited\n",
            "flavored\n",
            "ordered\n",
            "ordered\n",
            "relocated\n",
            "impressed\n",
            "seated\n",
            "priced\n",
            "treated\n",
            "ordered\n",
            "used\n",
            "handed\n",
            "listed\n",
            "missed\n",
            "thrilled\n",
            "inspired\n",
            "desired\n",
            "overcooked\n",
            "decided\n",
            "looked\n",
            "dressed\n",
            "treated\n",
            "ordered\n",
            "sucked\n",
            "expected\n",
            "sucked\n",
            "imagined\n",
            "served\n",
            "arrived\n",
            "satisfied\n",
            "voted\n",
            "insulted\n",
            "disrespected\n",
            "dreamed\n",
            "lived\n",
            "stepped\n",
            "mixed\n",
            "showed\n",
            "realized\n",
            "loved\n",
            "needed\n",
            "loved\n",
            "wrapped\n",
            "uninspired\n",
            "Ordered\n",
            "uploaded\n",
            "covered\n",
            "supposed\n",
            "rolled\n",
            "stayed\n",
            "Based\n",
            "received\n",
            "privileged\n",
            "charged\n",
            "visited\n",
            "proclaimed\n",
            "disappointed\n",
            "Stopped\n",
            "dedicated\n",
            "liked\n",
            "disappointed\n",
            "waited\n",
            "waited\n",
            "burned\n",
            "waited\n",
            "disappointed\n",
            "Waited\n",
            "disappointed\n",
            "pulled\n",
            "prepared\n",
            "fried\n",
            "passed\n",
            "ordered\n",
            "toasted\n",
            "untoasted\n",
            "figured\n",
            "returned\n",
            "eyed\n",
            "disappointed\n",
            "pleased\n",
            "replenished\n",
            "disappointed\n",
            "treated\n",
            "offered\n",
            "tasted\n",
            "dropped\n",
            "decorated\n",
            "served\n",
            "HAPPENED\n",
            "walked\n",
            "stuffed\n",
            "located\n",
            "Cooked\n",
            "disappointed\n",
            "screwed\n",
            "frustrated\n",
            "iced\n",
            "stuffed\n",
            "disappointed\n",
            "grossed\n",
            "enjoyed\n",
            "looked\n",
            "overwhelmed\n",
            "stayed\n",
            "smeared\n",
            "stepped\n",
            "tracked\n",
            "tried\n",
            "rushed\n",
            "loved\n",
            "Ordered\n",
            "cooked\n",
            "insulted\n",
            "contained\n",
            "enjoyed\n",
            "relaxed\n",
            "loved\n",
            "acknowledged\n",
            "trimmed\n",
            "cooked\n",
            "claimed\n",
            "handled\n",
            "LOVED\n",
            "asked\n",
            "limited\n",
            "boiled\n",
            "liked\n",
            "sliced\n",
            "attached\n",
            "humiliated\n",
            "fried\n",
            "impressed\n",
            "disappointed\n",
            "priced\n",
            "disappointed\n",
            "need\n",
            "need\n",
            "experienced\n",
            "waited\n",
            "seated\n",
            "decided\n",
            "pleased\n",
            "recommended\n",
            "helped\n",
            "witnessed\n",
            "Waited\n",
            "waited\n",
            "waited\n",
            "checked\n",
            "tasted\n",
            "disappointed\n",
            "served\n",
            "rated\n",
            "recommended\n",
            "pulled\n",
            "waited\n",
            "acknowledged\n",
            "perpared\n",
            "dusted\n",
            "powdered\n",
            "enjoyed\n",
            "expanded\n",
            "ended\n",
            "arrived\n",
            "wanted\n",
            "disappointed\n",
            "need\n",
            "checked\n",
            "impressed\n",
            "reheated\n",
            "tasted\n",
            "grilled\n",
            "focused\n",
            "roasted\n",
            "asked\n",
            "ignored\n",
            "tasted\n",
            "Ordered\n",
            "greeted\n",
            "seated\n",
            "Tried\n",
            "seated\n",
            "Disappointed\n",
            "ordered\n",
            "constructed\n",
            "fried\n",
            "requested\n",
            "used\n",
            "tasted\n",
            "drenched\n",
            "tried\n",
            "walked\n",
            "expected\n",
            "disappointed\n",
            "mortified\n",
            "impressed\n",
            "refrained\n",
            "pleased\n",
            "loved\n",
            "grilled\n",
            "reminded\n",
            "sucked\n",
            "hooked\n",
            "ordered\n",
            "disappointed\n",
            "seasoned\n",
            "added\n",
            "touched\n",
            "fried\n",
            "opened\n",
            "impressed\n",
            "watched\n",
            "Tasted\n",
            "ordered\n",
            "received\n",
            "impressed\n",
            "overcooked\n",
            "cooked\n",
            "needed\n",
            "served\n",
            "ordered\n",
            "overpriced\n",
            "OVERPRICED\n",
            "packed\n",
            "opposed\n",
            "priced\n",
            "surprised\n",
            "focused\n",
            "overpriced\n",
            "tried\n",
            "enjoyed\n",
            "qualified\n",
            "tasted\n",
            "hated\n",
            "watched\n",
            "fried\n",
            "tried\n",
            "helped\n",
            "started\n",
            "highlighted\n",
            "used\n",
            "enjoyed\n",
            "ordered\n",
            "tasted\n",
            "asked\n",
            "refused\n",
            "tried\n",
            "toasted\n",
            "anticipated\n",
            "unexperienced\n",
            "insulted\n",
            "disrespected\n",
            "impressed\n",
            "puréed\n",
            "asked\n",
            "rated\n",
            "lacked\n",
            "sliced\n",
            "pulled\n",
            "undercooked\n",
            "seemed\n",
            "watered\n",
            "lacked\n",
            "disappointed\n",
            "overpriced\n",
            "ensued\n",
            "disappointed\n",
            "placed\n",
            "avoided\n",
            "received\n",
            "wanted\n",
            "sucked\n",
            "happened\n",
            "owned\n",
            "wanted\n",
            "Overpriced\n",
            "vomited\n",
            "started\n",
            "unwrapped\n",
            "lacked\n",
            "seemed\n",
            "undercooked\n",
            "closed\n",
            "refried\n",
            "dried\n",
            "disappointed\n",
            "impressed\n",
            "wasted\n",
            "poured\n"
          ]
        }
      ],
      "source": [
        "print('Numero de palabras que terminan en \"ing\": ' + str(len(results_ing)))\n",
        "print('Numero de palabras que terminan en \"ed\": ' + str(len(results_ed)) + '\\n')\n",
        "print('Lista de palabras que terminan en \"ing\" o \"ed: \"')\n",
        "for j in results_ing + results_ed:\n",
        "  print(j)"
      ]
    },
    {
      "cell_type": "markdown",
      "metadata": {
        "id": "70StdqAZa9E9"
      },
      "source": [
        "#**Parte 3. Proceso de limpieza.**"
      ]
    },
    {
      "cell_type": "markdown",
      "metadata": {
        "id": "xaDUFXHrMvX2"
      },
      "source": [
        "*   **Pregunta 13.**  \n",
        "\n",
        "Ahora realiza un proceso de limpieza del corpus que incluya los siguientes procesos:\n",
        "\n",
        "*   Solo se deben considerar caracteres alfabéticos. Es decir, se eliminan todos los signos de puntuación y caracteres especiales.\n",
        "*   Todos los caracteres alfabéticos se transforman a minúsculas.\n",
        "*   Se deben eliminar todos los espacios en blanco adicionales que se puedan encontrar en cada comentario.\n",
        "\n",
        "Al finalizar dicho proceso de limpieza, imprime el resultado de los primeros 10 comentarios resultantes.\n",
        "   \n",
        "\n",
        "\n"
      ]
    },
    {
      "cell_type": "code",
      "execution_count": 271,
      "metadata": {
        "id": "K3kQzPOPMx0w"
      },
      "outputs": [],
      "source": [
        "for i, j in enumerate(docs):\n",
        "    # Eliminamos caracteres no alfabéticos\n",
        "    docs[i] = re.sub(r'[^A-Za-zÁÉÍÓÚáéíóú\\s]', '', docs[i])\n",
        "    # Convertimos mayúsculas a minúsculas\n",
        "    docs[i] = re.sub(r'[A-Z]', lambda x: x.group(0).lower(), docs[i])\n",
        "    # Eliminamos espacios redundantes, tanto dentro del texto\n",
        "    #como al principio y al final\n",
        "    docs[i] = re.sub(r'\\s+', ' ', docs[i])\n",
        "    docs[i] = re.sub(r'^\\s+|\\s+$', '', docs[i])"
      ]
    },
    {
      "cell_type": "code",
      "execution_count": 272,
      "metadata": {
        "colab": {
          "base_uri": "https://localhost:8080/"
        },
        "id": "mYEDlHSFMyJN",
        "outputId": "731a4350-7aaa-4d7c-bd4f-b5fbb4b70488"
      },
      "outputs": [
        {
          "data": {
            "text/plain": [
              "['wow loved this place',\n",
              " 'crust is not good',\n",
              " 'not tasty and the texture was just nasty',\n",
              " 'stopped by during the late may bank holiday off rick steve recommendation and loved it',\n",
              " 'the selection on the menu was great and so were the prices',\n",
              " 'now i am getting angry and i want my damn pho',\n",
              " 'honeslty it didnt taste that fresh',\n",
              " 'the potatoes were like rubber and you could tell they had been made up ahead of time being kept under a warmer',\n",
              " 'the fries were great too',\n",
              " 'a great touch']"
            ]
          },
          "execution_count": 272,
          "metadata": {},
          "output_type": "execute_result"
        }
      ],
      "source": [
        "docs[:10]"
      ]
    },
    {
      "cell_type": "markdown",
      "metadata": {
        "id": "WZwEhg2lUSAX"
      },
      "source": [
        "*   **Pregunta 14.**  \n",
        "\n",
        "Con el resultado de la limpieza obtenido en la pregunta anterior, realiza ahora un proceso de tokenización por palabras del corpus.\n",
        "\n",
        "Es decir, al final de este proceso de tokenización, debes tener como resultado una lista de listas, donde cada comentario estará tokenizado por palabras.\n",
        "\n",
        "Al terminar calcula el total de tokens obtenido en todo el corpus."
      ]
    },
    {
      "cell_type": "code",
      "execution_count": 273,
      "metadata": {
        "id": "kbAL9-v0V-jx"
      },
      "outputs": [],
      "source": [
        "token_count = 0\n",
        "for i, j in enumerate(docs):\n",
        "  docs[i] = re.split('\\s', j)\n",
        "  token_count = token_count + len(docs[i])"
      ]
    },
    {
      "cell_type": "code",
      "execution_count": 274,
      "metadata": {
        "colab": {
          "base_uri": "https://localhost:8080/"
        },
        "id": "DZs_etmiV-fd",
        "outputId": "370b5346-2503-4bae-8130-027d1fab5e71"
      },
      "outputs": [
        {
          "name": "stdout",
          "output_type": "stream",
          "text": [
            "Número total de tokens: 10777\n"
          ]
        }
      ],
      "source": [
        "print(\"Número total de tokens: \" + str(token_count))"
      ]
    },
    {
      "cell_type": "markdown",
      "metadata": {
        "id": "EFeu0OJ7WDPD"
      },
      "source": [
        "*   **Pregunta 15.**  \n",
        "\n",
        "Finalmente, en este ejercicio definiremos nuestro conjunto de palabras \"stopwords\", las cuales deberás eliminar de todo el corpus.\n",
        "\n",
        "Recuerda que ejemplos de stopwords son artículos, adverbios, conectivos, etcétera, que tienen frecuencias de aparición muy altas en cualquier documento, pero que no brindan mucho significado en cuanto al significado de un enunciado.\n",
        "\n",
        "Con base a la lista de stopwords que se te proporciona, realiza un proceso de limpieza eliminando todas estas palabras del corpus obtenido en el ejercicio anterior.\n",
        "\n",
        "Obtener cuántos tokens/palabras quedan finalmente en todo el corpus.\n",
        "\n",
        "Obtener cuántos de estos tokens/palabras son diferentes, es decir, cuántos tokens únicos tendrá lo que llamaremos más adelante nuestro vocabulario."
      ]
    },
    {
      "cell_type": "code",
      "execution_count": 275,
      "metadata": {
        "id": "6FP4FF3KXGxm"
      },
      "outputs": [],
      "source": [
        "# Considera la siguiente lista como tu conjunto de stopwords:\n",
        "mis_stopwords = ['i', 'me', 'my', 'myself', 'we', 'our', 'ours', 'ourselves', 'you', 'your', 'yours', 'he', 'him', 'his', 'himself', 'she', 'her', 'hers', 'herself', 'it', 'its', 'itself', 'they', 'them', 'their', 'theirs', 'themselves', 'what', 'which', 'who', 'whom', 'this', 'that', 'these', 'those', 'am', 'is', 'are', 'was', 'were', 'be', 'been', 'being', 'have', 'has', 'had', 'having', 'do', 'does', 'did', 'doing', 'a', 'an', 'the', 'and', 'but', 'if', 'or', 'because', 'as', 'until', 'while', 'of', 'at', 'by', 'for', 'with', 'about', 'against', 'between', 'into', 'through', 'during', 'before', 'after', 'above', 'below', 'to', 'from', 'up', 'down', 'in', 'out', 'on', 'over', 'under', 'again', 'further', 'then', 'once', 'here', 'there', 'when', 'where', 'why', 'how', 'all', 'any', 'both', 'each', 'few', 'more', 'most', 'other', 'some', 'such', 'only', 'own', 'same', 'so', 'than', 'too', 'very', 's', 't', 'can', 'will', 'just', 'should', 'now', 'll']"
      ]
    },
    {
      "cell_type": "code",
      "execution_count": 276,
      "metadata": {
        "id": "CD8yjyq1ZrwY"
      },
      "outputs": [],
      "source": [
        "total_tokens = 0\n",
        "unique_tokens = set()\n",
        "for i, lista in enumerate(docs):\n",
        "    # Eliminamos stopwords de listas\n",
        "    docs[i] = [token for token in lista if token not in mis_stopwords]\n",
        "    # contamos número de tokens\n",
        "    total_tokens = total_tokens + len(docs[i])\n",
        "    # guardamos los tokens individuales\n",
        "    unique_tokens.update(docs[i])"
      ]
    },
    {
      "cell_type": "code",
      "execution_count": 277,
      "metadata": {
        "colab": {
          "base_uri": "https://localhost:8080/"
        },
        "id": "4ZPi5prKZro5",
        "outputId": "85384c4b-cdfc-408a-a55b-967d8cc44c99"
      },
      "outputs": [
        {
          "name": "stdout",
          "output_type": "stream",
          "text": [
            "Número total de tokens: 5776\n",
            "Número de tokens diferentes: 1941\n"
          ]
        }
      ],
      "source": [
        "print(\"Número total de tokens: \" + str(total_tokens))\n",
        "print(\"Número de tokens diferentes: \" + str(len(unique_tokens)))"
      ]
    },
    {
      "cell_type": "markdown",
      "metadata": {
        "id": "NDbKkuxRbLoX"
      },
      "source": [
        "*   **Comentarios**\n",
        "\n",
        "Incluye finalmente tus comentarios de la actividad."
      ]
    },
    {
      "cell_type": "markdown",
      "metadata": {
        "id": "o7fzbvqVbUGr"
      },
      "source": [
        "Las expresiones regulares son fundamentales en el campo del Procesamiento de Lenguaje Natural y es importante aprender cómo usarlas y las variaciones que pueden haber; por ejemplo, los resultados de los ejercicios 13, 14 y 15 pueden variar significativamente si al eliminar caracteres no alfabéticos en la pregunta 13 se incluyen las letras acentuadas o no. De esta manera, la forma de usar regex si tu idioma principal es el inglés o español puede variar bastante y es importante tomar esto en cuenta en aplicaciones de la vida real.\n",
        "\n",
        "Por otro lado, veo esta actividad como una gran oportunidad para introducir el Procesamiento de Lenguaje Natural, ya que nos introduce a practicar las bases de lo que en un futuro se va a aprender en esta materia. Además, a través de esta actividad se pueden modificar los ejercicios para poder seguir practicando las expresiones regulares y poder consolidar mi conocimiento base en este campo, parte fundamental en mi desarrollo dentro de esta maestría.\n"
      ]
    },
    {
      "cell_type": "markdown",
      "metadata": {
        "id": "PHaKw_6Ldbaf"
      },
      "source": [
        "##**Fin de la Actividad de la semana 2.**"
      ]
    }
  ],
  "metadata": {
    "colab": {
      "collapsed_sections": [
        "759SG4TyfbUn"
      ],
      "provenance": []
    },
    "kernelspec": {
      "display_name": "Python 3",
      "name": "python3"
    },
    "language_info": {
      "name": "python"
    }
  },
  "nbformat": 4,
  "nbformat_minor": 0
}
