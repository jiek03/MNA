{
  "nbformat": 4,
  "nbformat_minor": 0,
  "metadata": {
    "colab": {
      "provenance": [],
      "gpuType": "T4"
    },
    "kernelspec": {
      "name": "python3",
      "display_name": "Python 3"
    },
    "language_info": {
      "name": "python"
    },
    "accelerator": "GPU",
    "widgets": {
      "application/vnd.jupyter.widget-state+json": {
        "d3b04d5133c44bab9d7305f6574c63ca": {
          "model_module": "@jupyter-widgets/controls",
          "model_name": "HBoxModel",
          "model_module_version": "1.5.0",
          "state": {
            "_dom_classes": [],
            "_model_module": "@jupyter-widgets/controls",
            "_model_module_version": "1.5.0",
            "_model_name": "HBoxModel",
            "_view_count": null,
            "_view_module": "@jupyter-widgets/controls",
            "_view_module_version": "1.5.0",
            "_view_name": "HBoxView",
            "box_style": "",
            "children": [
              "IPY_MODEL_b96455ecdeed42f08dea581da7c17865",
              "IPY_MODEL_b5e50599ec6745caa07a377b0417a9f8",
              "IPY_MODEL_4853b7cb345d47fea22cb4bbd42a1946"
            ],
            "layout": "IPY_MODEL_964dd90b9257480aa728440b20427ef9"
          }
        },
        "b96455ecdeed42f08dea581da7c17865": {
          "model_module": "@jupyter-widgets/controls",
          "model_name": "HTMLModel",
          "model_module_version": "1.5.0",
          "state": {
            "_dom_classes": [],
            "_model_module": "@jupyter-widgets/controls",
            "_model_module_version": "1.5.0",
            "_model_name": "HTMLModel",
            "_view_count": null,
            "_view_module": "@jupyter-widgets/controls",
            "_view_module_version": "1.5.0",
            "_view_name": "HTMLView",
            "description": "",
            "description_tooltip": null,
            "layout": "IPY_MODEL_280be0de2fa34d83a7ec40689278a5f9",
            "placeholder": "​",
            "style": "IPY_MODEL_549649b281c64d869b0ccb05e1cba14c",
            "value": "Fetching 3 files: 100%"
          }
        },
        "b5e50599ec6745caa07a377b0417a9f8": {
          "model_module": "@jupyter-widgets/controls",
          "model_name": "FloatProgressModel",
          "model_module_version": "1.5.0",
          "state": {
            "_dom_classes": [],
            "_model_module": "@jupyter-widgets/controls",
            "_model_module_version": "1.5.0",
            "_model_name": "FloatProgressModel",
            "_view_count": null,
            "_view_module": "@jupyter-widgets/controls",
            "_view_module_version": "1.5.0",
            "_view_name": "ProgressView",
            "bar_style": "success",
            "description": "",
            "description_tooltip": null,
            "layout": "IPY_MODEL_24b7b6ecd305415496539a2d45494966",
            "max": 3,
            "min": 0,
            "orientation": "horizontal",
            "style": "IPY_MODEL_398200866ad046759d27b9a2c9a088aa",
            "value": 3
          }
        },
        "4853b7cb345d47fea22cb4bbd42a1946": {
          "model_module": "@jupyter-widgets/controls",
          "model_name": "HTMLModel",
          "model_module_version": "1.5.0",
          "state": {
            "_dom_classes": [],
            "_model_module": "@jupyter-widgets/controls",
            "_model_module_version": "1.5.0",
            "_model_name": "HTMLModel",
            "_view_count": null,
            "_view_module": "@jupyter-widgets/controls",
            "_view_module_version": "1.5.0",
            "_view_name": "HTMLView",
            "description": "",
            "description_tooltip": null,
            "layout": "IPY_MODEL_db0d22556a3d4ae1984901cfebb931ec",
            "placeholder": "​",
            "style": "IPY_MODEL_684a9168d8ee4c6babdfa77f987eeddd",
            "value": " 3/3 [01:07&lt;00:00, 67.37s/it]"
          }
        },
        "964dd90b9257480aa728440b20427ef9": {
          "model_module": "@jupyter-widgets/base",
          "model_name": "LayoutModel",
          "model_module_version": "1.2.0",
          "state": {
            "_model_module": "@jupyter-widgets/base",
            "_model_module_version": "1.2.0",
            "_model_name": "LayoutModel",
            "_view_count": null,
            "_view_module": "@jupyter-widgets/base",
            "_view_module_version": "1.2.0",
            "_view_name": "LayoutView",
            "align_content": null,
            "align_items": null,
            "align_self": null,
            "border": null,
            "bottom": null,
            "display": null,
            "flex": null,
            "flex_flow": null,
            "grid_area": null,
            "grid_auto_columns": null,
            "grid_auto_flow": null,
            "grid_auto_rows": null,
            "grid_column": null,
            "grid_gap": null,
            "grid_row": null,
            "grid_template_areas": null,
            "grid_template_columns": null,
            "grid_template_rows": null,
            "height": null,
            "justify_content": null,
            "justify_items": null,
            "left": null,
            "margin": null,
            "max_height": null,
            "max_width": null,
            "min_height": null,
            "min_width": null,
            "object_fit": null,
            "object_position": null,
            "order": null,
            "overflow": null,
            "overflow_x": null,
            "overflow_y": null,
            "padding": null,
            "right": null,
            "top": null,
            "visibility": null,
            "width": null
          }
        },
        "280be0de2fa34d83a7ec40689278a5f9": {
          "model_module": "@jupyter-widgets/base",
          "model_name": "LayoutModel",
          "model_module_version": "1.2.0",
          "state": {
            "_model_module": "@jupyter-widgets/base",
            "_model_module_version": "1.2.0",
            "_model_name": "LayoutModel",
            "_view_count": null,
            "_view_module": "@jupyter-widgets/base",
            "_view_module_version": "1.2.0",
            "_view_name": "LayoutView",
            "align_content": null,
            "align_items": null,
            "align_self": null,
            "border": null,
            "bottom": null,
            "display": null,
            "flex": null,
            "flex_flow": null,
            "grid_area": null,
            "grid_auto_columns": null,
            "grid_auto_flow": null,
            "grid_auto_rows": null,
            "grid_column": null,
            "grid_gap": null,
            "grid_row": null,
            "grid_template_areas": null,
            "grid_template_columns": null,
            "grid_template_rows": null,
            "height": null,
            "justify_content": null,
            "justify_items": null,
            "left": null,
            "margin": null,
            "max_height": null,
            "max_width": null,
            "min_height": null,
            "min_width": null,
            "object_fit": null,
            "object_position": null,
            "order": null,
            "overflow": null,
            "overflow_x": null,
            "overflow_y": null,
            "padding": null,
            "right": null,
            "top": null,
            "visibility": null,
            "width": null
          }
        },
        "549649b281c64d869b0ccb05e1cba14c": {
          "model_module": "@jupyter-widgets/controls",
          "model_name": "DescriptionStyleModel",
          "model_module_version": "1.5.0",
          "state": {
            "_model_module": "@jupyter-widgets/controls",
            "_model_module_version": "1.5.0",
            "_model_name": "DescriptionStyleModel",
            "_view_count": null,
            "_view_module": "@jupyter-widgets/base",
            "_view_module_version": "1.2.0",
            "_view_name": "StyleView",
            "description_width": ""
          }
        },
        "24b7b6ecd305415496539a2d45494966": {
          "model_module": "@jupyter-widgets/base",
          "model_name": "LayoutModel",
          "model_module_version": "1.2.0",
          "state": {
            "_model_module": "@jupyter-widgets/base",
            "_model_module_version": "1.2.0",
            "_model_name": "LayoutModel",
            "_view_count": null,
            "_view_module": "@jupyter-widgets/base",
            "_view_module_version": "1.2.0",
            "_view_name": "LayoutView",
            "align_content": null,
            "align_items": null,
            "align_self": null,
            "border": null,
            "bottom": null,
            "display": null,
            "flex": null,
            "flex_flow": null,
            "grid_area": null,
            "grid_auto_columns": null,
            "grid_auto_flow": null,
            "grid_auto_rows": null,
            "grid_column": null,
            "grid_gap": null,
            "grid_row": null,
            "grid_template_areas": null,
            "grid_template_columns": null,
            "grid_template_rows": null,
            "height": null,
            "justify_content": null,
            "justify_items": null,
            "left": null,
            "margin": null,
            "max_height": null,
            "max_width": null,
            "min_height": null,
            "min_width": null,
            "object_fit": null,
            "object_position": null,
            "order": null,
            "overflow": null,
            "overflow_x": null,
            "overflow_y": null,
            "padding": null,
            "right": null,
            "top": null,
            "visibility": null,
            "width": null
          }
        },
        "398200866ad046759d27b9a2c9a088aa": {
          "model_module": "@jupyter-widgets/controls",
          "model_name": "ProgressStyleModel",
          "model_module_version": "1.5.0",
          "state": {
            "_model_module": "@jupyter-widgets/controls",
            "_model_module_version": "1.5.0",
            "_model_name": "ProgressStyleModel",
            "_view_count": null,
            "_view_module": "@jupyter-widgets/base",
            "_view_module_version": "1.2.0",
            "_view_name": "StyleView",
            "bar_color": null,
            "description_width": ""
          }
        },
        "db0d22556a3d4ae1984901cfebb931ec": {
          "model_module": "@jupyter-widgets/base",
          "model_name": "LayoutModel",
          "model_module_version": "1.2.0",
          "state": {
            "_model_module": "@jupyter-widgets/base",
            "_model_module_version": "1.2.0",
            "_model_name": "LayoutModel",
            "_view_count": null,
            "_view_module": "@jupyter-widgets/base",
            "_view_module_version": "1.2.0",
            "_view_name": "LayoutView",
            "align_content": null,
            "align_items": null,
            "align_self": null,
            "border": null,
            "bottom": null,
            "display": null,
            "flex": null,
            "flex_flow": null,
            "grid_area": null,
            "grid_auto_columns": null,
            "grid_auto_flow": null,
            "grid_auto_rows": null,
            "grid_column": null,
            "grid_gap": null,
            "grid_row": null,
            "grid_template_areas": null,
            "grid_template_columns": null,
            "grid_template_rows": null,
            "height": null,
            "justify_content": null,
            "justify_items": null,
            "left": null,
            "margin": null,
            "max_height": null,
            "max_width": null,
            "min_height": null,
            "min_width": null,
            "object_fit": null,
            "object_position": null,
            "order": null,
            "overflow": null,
            "overflow_x": null,
            "overflow_y": null,
            "padding": null,
            "right": null,
            "top": null,
            "visibility": null,
            "width": null
          }
        },
        "684a9168d8ee4c6babdfa77f987eeddd": {
          "model_module": "@jupyter-widgets/controls",
          "model_name": "DescriptionStyleModel",
          "model_module_version": "1.5.0",
          "state": {
            "_model_module": "@jupyter-widgets/controls",
            "_model_module_version": "1.5.0",
            "_model_name": "DescriptionStyleModel",
            "_view_count": null,
            "_view_module": "@jupyter-widgets/base",
            "_view_module_version": "1.2.0",
            "_view_name": "StyleView",
            "description_width": ""
          }
        },
        "4e1bcb57bd9b4683b20fa43c3d4bb059": {
          "model_module": "@jupyter-widgets/controls",
          "model_name": "HBoxModel",
          "model_module_version": "1.5.0",
          "state": {
            "_dom_classes": [],
            "_model_module": "@jupyter-widgets/controls",
            "_model_module_version": "1.5.0",
            "_model_name": "HBoxModel",
            "_view_count": null,
            "_view_module": "@jupyter-widgets/controls",
            "_view_module_version": "1.5.0",
            "_view_name": "HBoxView",
            "box_style": "",
            "children": [
              "IPY_MODEL_4c0b2cbd83244a4a8fc81fac41405441",
              "IPY_MODEL_306a8af7342c426284b948fae663d47c",
              "IPY_MODEL_41e5da2889c8497ea5dc7970c08cd495"
            ],
            "layout": "IPY_MODEL_e690064555f642f4980681c11fccdc0b"
          }
        },
        "4c0b2cbd83244a4a8fc81fac41405441": {
          "model_module": "@jupyter-widgets/controls",
          "model_name": "HTMLModel",
          "model_module_version": "1.5.0",
          "state": {
            "_dom_classes": [],
            "_model_module": "@jupyter-widgets/controls",
            "_model_module_version": "1.5.0",
            "_model_name": "HTMLModel",
            "_view_count": null,
            "_view_module": "@jupyter-widgets/controls",
            "_view_module_version": "1.5.0",
            "_view_name": "HTMLView",
            "description": "",
            "description_tooltip": null,
            "layout": "IPY_MODEL_8c7c996bcbe340f3af02eb202b9a763b",
            "placeholder": "​",
            "style": "IPY_MODEL_4d8c2e45511e4da380b74591d972b38a",
            "value": "model-00001-of-00003.safetensors:  55%"
          }
        },
        "306a8af7342c426284b948fae663d47c": {
          "model_module": "@jupyter-widgets/controls",
          "model_name": "FloatProgressModel",
          "model_module_version": "1.5.0",
          "state": {
            "_dom_classes": [],
            "_model_module": "@jupyter-widgets/controls",
            "_model_module_version": "1.5.0",
            "_model_name": "FloatProgressModel",
            "_view_count": null,
            "_view_module": "@jupyter-widgets/controls",
            "_view_module_version": "1.5.0",
            "_view_name": "ProgressView",
            "bar_style": "danger",
            "description": "",
            "description_tooltip": null,
            "layout": "IPY_MODEL_a2f6338d8bb141c9bc69aebb2e892756",
            "max": 8921226208,
            "min": 0,
            "orientation": "horizontal",
            "style": "IPY_MODEL_bfba985f05854e65b1d21c87a8a37a17",
            "value": 4943162336
          }
        },
        "41e5da2889c8497ea5dc7970c08cd495": {
          "model_module": "@jupyter-widgets/controls",
          "model_name": "HTMLModel",
          "model_module_version": "1.5.0",
          "state": {
            "_dom_classes": [],
            "_model_module": "@jupyter-widgets/controls",
            "_model_module_version": "1.5.0",
            "_model_name": "HTMLModel",
            "_view_count": null,
            "_view_module": "@jupyter-widgets/controls",
            "_view_module_version": "1.5.0",
            "_view_name": "HTMLView",
            "description": "",
            "description_tooltip": null,
            "layout": "IPY_MODEL_f0ca5cadfd4a4f05aabc20b4960e94b6",
            "placeholder": "​",
            "style": "IPY_MODEL_bdc40093980645eaa931c388e0f5607d",
            "value": " 4.94G/8.92G [01:07&lt;03:42, 17.9MB/s]"
          }
        },
        "e690064555f642f4980681c11fccdc0b": {
          "model_module": "@jupyter-widgets/base",
          "model_name": "LayoutModel",
          "model_module_version": "1.2.0",
          "state": {
            "_model_module": "@jupyter-widgets/base",
            "_model_module_version": "1.2.0",
            "_model_name": "LayoutModel",
            "_view_count": null,
            "_view_module": "@jupyter-widgets/base",
            "_view_module_version": "1.2.0",
            "_view_name": "LayoutView",
            "align_content": null,
            "align_items": null,
            "align_self": null,
            "border": null,
            "bottom": null,
            "display": null,
            "flex": null,
            "flex_flow": null,
            "grid_area": null,
            "grid_auto_columns": null,
            "grid_auto_flow": null,
            "grid_auto_rows": null,
            "grid_column": null,
            "grid_gap": null,
            "grid_row": null,
            "grid_template_areas": null,
            "grid_template_columns": null,
            "grid_template_rows": null,
            "height": null,
            "justify_content": null,
            "justify_items": null,
            "left": null,
            "margin": null,
            "max_height": null,
            "max_width": null,
            "min_height": null,
            "min_width": null,
            "object_fit": null,
            "object_position": null,
            "order": null,
            "overflow": null,
            "overflow_x": null,
            "overflow_y": null,
            "padding": null,
            "right": null,
            "top": null,
            "visibility": null,
            "width": null
          }
        },
        "8c7c996bcbe340f3af02eb202b9a763b": {
          "model_module": "@jupyter-widgets/base",
          "model_name": "LayoutModel",
          "model_module_version": "1.2.0",
          "state": {
            "_model_module": "@jupyter-widgets/base",
            "_model_module_version": "1.2.0",
            "_model_name": "LayoutModel",
            "_view_count": null,
            "_view_module": "@jupyter-widgets/base",
            "_view_module_version": "1.2.0",
            "_view_name": "LayoutView",
            "align_content": null,
            "align_items": null,
            "align_self": null,
            "border": null,
            "bottom": null,
            "display": null,
            "flex": null,
            "flex_flow": null,
            "grid_area": null,
            "grid_auto_columns": null,
            "grid_auto_flow": null,
            "grid_auto_rows": null,
            "grid_column": null,
            "grid_gap": null,
            "grid_row": null,
            "grid_template_areas": null,
            "grid_template_columns": null,
            "grid_template_rows": null,
            "height": null,
            "justify_content": null,
            "justify_items": null,
            "left": null,
            "margin": null,
            "max_height": null,
            "max_width": null,
            "min_height": null,
            "min_width": null,
            "object_fit": null,
            "object_position": null,
            "order": null,
            "overflow": null,
            "overflow_x": null,
            "overflow_y": null,
            "padding": null,
            "right": null,
            "top": null,
            "visibility": null,
            "width": null
          }
        },
        "4d8c2e45511e4da380b74591d972b38a": {
          "model_module": "@jupyter-widgets/controls",
          "model_name": "DescriptionStyleModel",
          "model_module_version": "1.5.0",
          "state": {
            "_model_module": "@jupyter-widgets/controls",
            "_model_module_version": "1.5.0",
            "_model_name": "DescriptionStyleModel",
            "_view_count": null,
            "_view_module": "@jupyter-widgets/base",
            "_view_module_version": "1.2.0",
            "_view_name": "StyleView",
            "description_width": ""
          }
        },
        "a2f6338d8bb141c9bc69aebb2e892756": {
          "model_module": "@jupyter-widgets/base",
          "model_name": "LayoutModel",
          "model_module_version": "1.2.0",
          "state": {
            "_model_module": "@jupyter-widgets/base",
            "_model_module_version": "1.2.0",
            "_model_name": "LayoutModel",
            "_view_count": null,
            "_view_module": "@jupyter-widgets/base",
            "_view_module_version": "1.2.0",
            "_view_name": "LayoutView",
            "align_content": null,
            "align_items": null,
            "align_self": null,
            "border": null,
            "bottom": null,
            "display": null,
            "flex": null,
            "flex_flow": null,
            "grid_area": null,
            "grid_auto_columns": null,
            "grid_auto_flow": null,
            "grid_auto_rows": null,
            "grid_column": null,
            "grid_gap": null,
            "grid_row": null,
            "grid_template_areas": null,
            "grid_template_columns": null,
            "grid_template_rows": null,
            "height": null,
            "justify_content": null,
            "justify_items": null,
            "left": null,
            "margin": null,
            "max_height": null,
            "max_width": null,
            "min_height": null,
            "min_width": null,
            "object_fit": null,
            "object_position": null,
            "order": null,
            "overflow": null,
            "overflow_x": null,
            "overflow_y": null,
            "padding": null,
            "right": null,
            "top": null,
            "visibility": null,
            "width": null
          }
        },
        "bfba985f05854e65b1d21c87a8a37a17": {
          "model_module": "@jupyter-widgets/controls",
          "model_name": "ProgressStyleModel",
          "model_module_version": "1.5.0",
          "state": {
            "_model_module": "@jupyter-widgets/controls",
            "_model_module_version": "1.5.0",
            "_model_name": "ProgressStyleModel",
            "_view_count": null,
            "_view_module": "@jupyter-widgets/base",
            "_view_module_version": "1.2.0",
            "_view_name": "StyleView",
            "bar_color": null,
            "description_width": ""
          }
        },
        "f0ca5cadfd4a4f05aabc20b4960e94b6": {
          "model_module": "@jupyter-widgets/base",
          "model_name": "LayoutModel",
          "model_module_version": "1.2.0",
          "state": {
            "_model_module": "@jupyter-widgets/base",
            "_model_module_version": "1.2.0",
            "_model_name": "LayoutModel",
            "_view_count": null,
            "_view_module": "@jupyter-widgets/base",
            "_view_module_version": "1.2.0",
            "_view_name": "LayoutView",
            "align_content": null,
            "align_items": null,
            "align_self": null,
            "border": null,
            "bottom": null,
            "display": null,
            "flex": null,
            "flex_flow": null,
            "grid_area": null,
            "grid_auto_columns": null,
            "grid_auto_flow": null,
            "grid_auto_rows": null,
            "grid_column": null,
            "grid_gap": null,
            "grid_row": null,
            "grid_template_areas": null,
            "grid_template_columns": null,
            "grid_template_rows": null,
            "height": null,
            "justify_content": null,
            "justify_items": null,
            "left": null,
            "margin": null,
            "max_height": null,
            "max_width": null,
            "min_height": null,
            "min_width": null,
            "object_fit": null,
            "object_position": null,
            "order": null,
            "overflow": null,
            "overflow_x": null,
            "overflow_y": null,
            "padding": null,
            "right": null,
            "top": null,
            "visibility": null,
            "width": null
          }
        },
        "bdc40093980645eaa931c388e0f5607d": {
          "model_module": "@jupyter-widgets/controls",
          "model_name": "DescriptionStyleModel",
          "model_module_version": "1.5.0",
          "state": {
            "_model_module": "@jupyter-widgets/controls",
            "_model_module_version": "1.5.0",
            "_model_name": "DescriptionStyleModel",
            "_view_count": null,
            "_view_module": "@jupyter-widgets/base",
            "_view_module_version": "1.2.0",
            "_view_name": "StyleView",
            "description_width": ""
          }
        },
        "4bdc6f3767c64b7c8e886f87336c2542": {
          "model_module": "@jupyter-widgets/controls",
          "model_name": "HBoxModel",
          "model_module_version": "1.5.0",
          "state": {
            "_dom_classes": [],
            "_model_module": "@jupyter-widgets/controls",
            "_model_module_version": "1.5.0",
            "_model_name": "HBoxModel",
            "_view_count": null,
            "_view_module": "@jupyter-widgets/controls",
            "_view_module_version": "1.5.0",
            "_view_name": "HBoxView",
            "box_style": "",
            "children": [
              "IPY_MODEL_ac4ec5d185dc40fe9085871d950fe5a2",
              "IPY_MODEL_781e18d3cd7f40cc93df9f2e272161ef",
              "IPY_MODEL_d8b876ada1cd4c5aa2cb3d02d737bbcf"
            ],
            "layout": "IPY_MODEL_64f7317163e74e958283df13970f3fb4"
          }
        },
        "ac4ec5d185dc40fe9085871d950fe5a2": {
          "model_module": "@jupyter-widgets/controls",
          "model_name": "HTMLModel",
          "model_module_version": "1.5.0",
          "state": {
            "_dom_classes": [],
            "_model_module": "@jupyter-widgets/controls",
            "_model_module_version": "1.5.0",
            "_model_name": "HTMLModel",
            "_view_count": null,
            "_view_module": "@jupyter-widgets/controls",
            "_view_module_version": "1.5.0",
            "_view_name": "HTMLView",
            "description": "",
            "description_tooltip": null,
            "layout": "IPY_MODEL_2bae4cbeb2df48219ee1109f1d893057",
            "placeholder": "​",
            "style": "IPY_MODEL_8b3a56bb04054e3486586217c8314aa8",
            "value": "model-00002-of-00003.safetensors:  53%"
          }
        },
        "781e18d3cd7f40cc93df9f2e272161ef": {
          "model_module": "@jupyter-widgets/controls",
          "model_name": "FloatProgressModel",
          "model_module_version": "1.5.0",
          "state": {
            "_dom_classes": [],
            "_model_module": "@jupyter-widgets/controls",
            "_model_module_version": "1.5.0",
            "_model_name": "FloatProgressModel",
            "_view_count": null,
            "_view_module": "@jupyter-widgets/controls",
            "_view_module_version": "1.5.0",
            "_view_name": "ProgressView",
            "bar_style": "danger",
            "description": "",
            "description_tooltip": null,
            "layout": "IPY_MODEL_c652de9ef249491b9a38bd6dd4bc4176",
            "max": 9389875272,
            "min": 0,
            "orientation": "horizontal",
            "style": "IPY_MODEL_595fc52a0c96454fa3f4c96dace9fa09",
            "value": 4999819336
          }
        },
        "d8b876ada1cd4c5aa2cb3d02d737bbcf": {
          "model_module": "@jupyter-widgets/controls",
          "model_name": "HTMLModel",
          "model_module_version": "1.5.0",
          "state": {
            "_dom_classes": [],
            "_model_module": "@jupyter-widgets/controls",
            "_model_module_version": "1.5.0",
            "_model_name": "HTMLModel",
            "_view_count": null,
            "_view_module": "@jupyter-widgets/controls",
            "_view_module_version": "1.5.0",
            "_view_name": "HTMLView",
            "description": "",
            "description_tooltip": null,
            "layout": "IPY_MODEL_741ab896bbdd47dfa5d18e373d3ff7ce",
            "placeholder": "​",
            "style": "IPY_MODEL_6e4340aeb00c46e09e12f02b1dba8fb4",
            "value": " 5.00G/9.39G [00:40&lt;05:59, 12.2MB/s]"
          }
        },
        "64f7317163e74e958283df13970f3fb4": {
          "model_module": "@jupyter-widgets/base",
          "model_name": "LayoutModel",
          "model_module_version": "1.2.0",
          "state": {
            "_model_module": "@jupyter-widgets/base",
            "_model_module_version": "1.2.0",
            "_model_name": "LayoutModel",
            "_view_count": null,
            "_view_module": "@jupyter-widgets/base",
            "_view_module_version": "1.2.0",
            "_view_name": "LayoutView",
            "align_content": null,
            "align_items": null,
            "align_self": null,
            "border": null,
            "bottom": null,
            "display": null,
            "flex": null,
            "flex_flow": null,
            "grid_area": null,
            "grid_auto_columns": null,
            "grid_auto_flow": null,
            "grid_auto_rows": null,
            "grid_column": null,
            "grid_gap": null,
            "grid_row": null,
            "grid_template_areas": null,
            "grid_template_columns": null,
            "grid_template_rows": null,
            "height": null,
            "justify_content": null,
            "justify_items": null,
            "left": null,
            "margin": null,
            "max_height": null,
            "max_width": null,
            "min_height": null,
            "min_width": null,
            "object_fit": null,
            "object_position": null,
            "order": null,
            "overflow": null,
            "overflow_x": null,
            "overflow_y": null,
            "padding": null,
            "right": null,
            "top": null,
            "visibility": null,
            "width": null
          }
        },
        "2bae4cbeb2df48219ee1109f1d893057": {
          "model_module": "@jupyter-widgets/base",
          "model_name": "LayoutModel",
          "model_module_version": "1.2.0",
          "state": {
            "_model_module": "@jupyter-widgets/base",
            "_model_module_version": "1.2.0",
            "_model_name": "LayoutModel",
            "_view_count": null,
            "_view_module": "@jupyter-widgets/base",
            "_view_module_version": "1.2.0",
            "_view_name": "LayoutView",
            "align_content": null,
            "align_items": null,
            "align_self": null,
            "border": null,
            "bottom": null,
            "display": null,
            "flex": null,
            "flex_flow": null,
            "grid_area": null,
            "grid_auto_columns": null,
            "grid_auto_flow": null,
            "grid_auto_rows": null,
            "grid_column": null,
            "grid_gap": null,
            "grid_row": null,
            "grid_template_areas": null,
            "grid_template_columns": null,
            "grid_template_rows": null,
            "height": null,
            "justify_content": null,
            "justify_items": null,
            "left": null,
            "margin": null,
            "max_height": null,
            "max_width": null,
            "min_height": null,
            "min_width": null,
            "object_fit": null,
            "object_position": null,
            "order": null,
            "overflow": null,
            "overflow_x": null,
            "overflow_y": null,
            "padding": null,
            "right": null,
            "top": null,
            "visibility": null,
            "width": null
          }
        },
        "8b3a56bb04054e3486586217c8314aa8": {
          "model_module": "@jupyter-widgets/controls",
          "model_name": "DescriptionStyleModel",
          "model_module_version": "1.5.0",
          "state": {
            "_model_module": "@jupyter-widgets/controls",
            "_model_module_version": "1.5.0",
            "_model_name": "DescriptionStyleModel",
            "_view_count": null,
            "_view_module": "@jupyter-widgets/base",
            "_view_module_version": "1.2.0",
            "_view_name": "StyleView",
            "description_width": ""
          }
        },
        "c652de9ef249491b9a38bd6dd4bc4176": {
          "model_module": "@jupyter-widgets/base",
          "model_name": "LayoutModel",
          "model_module_version": "1.2.0",
          "state": {
            "_model_module": "@jupyter-widgets/base",
            "_model_module_version": "1.2.0",
            "_model_name": "LayoutModel",
            "_view_count": null,
            "_view_module": "@jupyter-widgets/base",
            "_view_module_version": "1.2.0",
            "_view_name": "LayoutView",
            "align_content": null,
            "align_items": null,
            "align_self": null,
            "border": null,
            "bottom": null,
            "display": null,
            "flex": null,
            "flex_flow": null,
            "grid_area": null,
            "grid_auto_columns": null,
            "grid_auto_flow": null,
            "grid_auto_rows": null,
            "grid_column": null,
            "grid_gap": null,
            "grid_row": null,
            "grid_template_areas": null,
            "grid_template_columns": null,
            "grid_template_rows": null,
            "height": null,
            "justify_content": null,
            "justify_items": null,
            "left": null,
            "margin": null,
            "max_height": null,
            "max_width": null,
            "min_height": null,
            "min_width": null,
            "object_fit": null,
            "object_position": null,
            "order": null,
            "overflow": null,
            "overflow_x": null,
            "overflow_y": null,
            "padding": null,
            "right": null,
            "top": null,
            "visibility": null,
            "width": null
          }
        },
        "595fc52a0c96454fa3f4c96dace9fa09": {
          "model_module": "@jupyter-widgets/controls",
          "model_name": "ProgressStyleModel",
          "model_module_version": "1.5.0",
          "state": {
            "_model_module": "@jupyter-widgets/controls",
            "_model_module_version": "1.5.0",
            "_model_name": "ProgressStyleModel",
            "_view_count": null,
            "_view_module": "@jupyter-widgets/base",
            "_view_module_version": "1.2.0",
            "_view_name": "StyleView",
            "bar_color": null,
            "description_width": ""
          }
        },
        "741ab896bbdd47dfa5d18e373d3ff7ce": {
          "model_module": "@jupyter-widgets/base",
          "model_name": "LayoutModel",
          "model_module_version": "1.2.0",
          "state": {
            "_model_module": "@jupyter-widgets/base",
            "_model_module_version": "1.2.0",
            "_model_name": "LayoutModel",
            "_view_count": null,
            "_view_module": "@jupyter-widgets/base",
            "_view_module_version": "1.2.0",
            "_view_name": "LayoutView",
            "align_content": null,
            "align_items": null,
            "align_self": null,
            "border": null,
            "bottom": null,
            "display": null,
            "flex": null,
            "flex_flow": null,
            "grid_area": null,
            "grid_auto_columns": null,
            "grid_auto_flow": null,
            "grid_auto_rows": null,
            "grid_column": null,
            "grid_gap": null,
            "grid_row": null,
            "grid_template_areas": null,
            "grid_template_columns": null,
            "grid_template_rows": null,
            "height": null,
            "justify_content": null,
            "justify_items": null,
            "left": null,
            "margin": null,
            "max_height": null,
            "max_width": null,
            "min_height": null,
            "min_width": null,
            "object_fit": null,
            "object_position": null,
            "order": null,
            "overflow": null,
            "overflow_x": null,
            "overflow_y": null,
            "padding": null,
            "right": null,
            "top": null,
            "visibility": null,
            "width": null
          }
        },
        "6e4340aeb00c46e09e12f02b1dba8fb4": {
          "model_module": "@jupyter-widgets/controls",
          "model_name": "DescriptionStyleModel",
          "model_module_version": "1.5.0",
          "state": {
            "_model_module": "@jupyter-widgets/controls",
            "_model_module_version": "1.5.0",
            "_model_name": "DescriptionStyleModel",
            "_view_count": null,
            "_view_module": "@jupyter-widgets/base",
            "_view_module_version": "1.2.0",
            "_view_name": "StyleView",
            "description_width": ""
          }
        },
        "dc8292f3415b4751bfcb9f86379f17ab": {
          "model_module": "@jupyter-widgets/controls",
          "model_name": "HBoxModel",
          "model_module_version": "1.5.0",
          "state": {
            "_dom_classes": [],
            "_model_module": "@jupyter-widgets/controls",
            "_model_module_version": "1.5.0",
            "_model_name": "HBoxModel",
            "_view_count": null,
            "_view_module": "@jupyter-widgets/controls",
            "_view_module_version": "1.5.0",
            "_view_name": "HBoxView",
            "box_style": "",
            "children": [
              "IPY_MODEL_e7c68f8ea4e24ed4a1171d367fe43b80",
              "IPY_MODEL_b7e4abe4b7d34137a712b703fdcf11e9",
              "IPY_MODEL_166bdb78cb844bd6b5f60231101b3688"
            ],
            "layout": "IPY_MODEL_efe974d076a24fa786a9b3ee5fcb0288"
          }
        },
        "e7c68f8ea4e24ed4a1171d367fe43b80": {
          "model_module": "@jupyter-widgets/controls",
          "model_name": "HTMLModel",
          "model_module_version": "1.5.0",
          "state": {
            "_dom_classes": [],
            "_model_module": "@jupyter-widgets/controls",
            "_model_module_version": "1.5.0",
            "_model_name": "HTMLModel",
            "_view_count": null,
            "_view_module": "@jupyter-widgets/controls",
            "_view_module_version": "1.5.0",
            "_view_name": "HTMLView",
            "description": "",
            "description_tooltip": null,
            "layout": "IPY_MODEL_a69a60903f0846d9aff2180de9dd3391",
            "placeholder": "​",
            "style": "IPY_MODEL_b1418728b10d45239933cbe0f8dbf79c",
            "value": "model-00003-of-00003.safetensors:  51%"
          }
        },
        "b7e4abe4b7d34137a712b703fdcf11e9": {
          "model_module": "@jupyter-widgets/controls",
          "model_name": "FloatProgressModel",
          "model_module_version": "1.5.0",
          "state": {
            "_dom_classes": [],
            "_model_module": "@jupyter-widgets/controls",
            "_model_module_version": "1.5.0",
            "_model_name": "FloatProgressModel",
            "_view_count": null,
            "_view_module": "@jupyter-widgets/controls",
            "_view_module_version": "1.5.0",
            "_view_name": "ProgressView",
            "bar_style": "danger",
            "description": "",
            "description_tooltip": null,
            "layout": "IPY_MODEL_a175453f1b5d41bba673e2b4eef32329",
            "max": 8938858488,
            "min": 0,
            "orientation": "horizontal",
            "style": "IPY_MODEL_f7e15b598ad243458f044e45d5a12021",
            "value": 4540516344
          }
        },
        "166bdb78cb844bd6b5f60231101b3688": {
          "model_module": "@jupyter-widgets/controls",
          "model_name": "HTMLModel",
          "model_module_version": "1.5.0",
          "state": {
            "_dom_classes": [],
            "_model_module": "@jupyter-widgets/controls",
            "_model_module_version": "1.5.0",
            "_model_name": "HTMLModel",
            "_view_count": null,
            "_view_module": "@jupyter-widgets/controls",
            "_view_module_version": "1.5.0",
            "_view_name": "HTMLView",
            "description": "",
            "description_tooltip": null,
            "layout": "IPY_MODEL_34e5889aabdf48d5a5660a7c35abef09",
            "placeholder": "​",
            "style": "IPY_MODEL_39a0248d64b548a18842ea3c80b3aded",
            "value": " 4.54G/8.94G [00:05&lt;03:30, 20.9MB/s]"
          }
        },
        "efe974d076a24fa786a9b3ee5fcb0288": {
          "model_module": "@jupyter-widgets/base",
          "model_name": "LayoutModel",
          "model_module_version": "1.2.0",
          "state": {
            "_model_module": "@jupyter-widgets/base",
            "_model_module_version": "1.2.0",
            "_model_name": "LayoutModel",
            "_view_count": null,
            "_view_module": "@jupyter-widgets/base",
            "_view_module_version": "1.2.0",
            "_view_name": "LayoutView",
            "align_content": null,
            "align_items": null,
            "align_self": null,
            "border": null,
            "bottom": null,
            "display": null,
            "flex": null,
            "flex_flow": null,
            "grid_area": null,
            "grid_auto_columns": null,
            "grid_auto_flow": null,
            "grid_auto_rows": null,
            "grid_column": null,
            "grid_gap": null,
            "grid_row": null,
            "grid_template_areas": null,
            "grid_template_columns": null,
            "grid_template_rows": null,
            "height": null,
            "justify_content": null,
            "justify_items": null,
            "left": null,
            "margin": null,
            "max_height": null,
            "max_width": null,
            "min_height": null,
            "min_width": null,
            "object_fit": null,
            "object_position": null,
            "order": null,
            "overflow": null,
            "overflow_x": null,
            "overflow_y": null,
            "padding": null,
            "right": null,
            "top": null,
            "visibility": null,
            "width": null
          }
        },
        "a69a60903f0846d9aff2180de9dd3391": {
          "model_module": "@jupyter-widgets/base",
          "model_name": "LayoutModel",
          "model_module_version": "1.2.0",
          "state": {
            "_model_module": "@jupyter-widgets/base",
            "_model_module_version": "1.2.0",
            "_model_name": "LayoutModel",
            "_view_count": null,
            "_view_module": "@jupyter-widgets/base",
            "_view_module_version": "1.2.0",
            "_view_name": "LayoutView",
            "align_content": null,
            "align_items": null,
            "align_self": null,
            "border": null,
            "bottom": null,
            "display": null,
            "flex": null,
            "flex_flow": null,
            "grid_area": null,
            "grid_auto_columns": null,
            "grid_auto_flow": null,
            "grid_auto_rows": null,
            "grid_column": null,
            "grid_gap": null,
            "grid_row": null,
            "grid_template_areas": null,
            "grid_template_columns": null,
            "grid_template_rows": null,
            "height": null,
            "justify_content": null,
            "justify_items": null,
            "left": null,
            "margin": null,
            "max_height": null,
            "max_width": null,
            "min_height": null,
            "min_width": null,
            "object_fit": null,
            "object_position": null,
            "order": null,
            "overflow": null,
            "overflow_x": null,
            "overflow_y": null,
            "padding": null,
            "right": null,
            "top": null,
            "visibility": null,
            "width": null
          }
        },
        "b1418728b10d45239933cbe0f8dbf79c": {
          "model_module": "@jupyter-widgets/controls",
          "model_name": "DescriptionStyleModel",
          "model_module_version": "1.5.0",
          "state": {
            "_model_module": "@jupyter-widgets/controls",
            "_model_module_version": "1.5.0",
            "_model_name": "DescriptionStyleModel",
            "_view_count": null,
            "_view_module": "@jupyter-widgets/base",
            "_view_module_version": "1.2.0",
            "_view_name": "StyleView",
            "description_width": ""
          }
        },
        "a175453f1b5d41bba673e2b4eef32329": {
          "model_module": "@jupyter-widgets/base",
          "model_name": "LayoutModel",
          "model_module_version": "1.2.0",
          "state": {
            "_model_module": "@jupyter-widgets/base",
            "_model_module_version": "1.2.0",
            "_model_name": "LayoutModel",
            "_view_count": null,
            "_view_module": "@jupyter-widgets/base",
            "_view_module_version": "1.2.0",
            "_view_name": "LayoutView",
            "align_content": null,
            "align_items": null,
            "align_self": null,
            "border": null,
            "bottom": null,
            "display": null,
            "flex": null,
            "flex_flow": null,
            "grid_area": null,
            "grid_auto_columns": null,
            "grid_auto_flow": null,
            "grid_auto_rows": null,
            "grid_column": null,
            "grid_gap": null,
            "grid_row": null,
            "grid_template_areas": null,
            "grid_template_columns": null,
            "grid_template_rows": null,
            "height": null,
            "justify_content": null,
            "justify_items": null,
            "left": null,
            "margin": null,
            "max_height": null,
            "max_width": null,
            "min_height": null,
            "min_width": null,
            "object_fit": null,
            "object_position": null,
            "order": null,
            "overflow": null,
            "overflow_x": null,
            "overflow_y": null,
            "padding": null,
            "right": null,
            "top": null,
            "visibility": null,
            "width": null
          }
        },
        "f7e15b598ad243458f044e45d5a12021": {
          "model_module": "@jupyter-widgets/controls",
          "model_name": "ProgressStyleModel",
          "model_module_version": "1.5.0",
          "state": {
            "_model_module": "@jupyter-widgets/controls",
            "_model_module_version": "1.5.0",
            "_model_name": "ProgressStyleModel",
            "_view_count": null,
            "_view_module": "@jupyter-widgets/base",
            "_view_module_version": "1.2.0",
            "_view_name": "StyleView",
            "bar_color": null,
            "description_width": ""
          }
        },
        "34e5889aabdf48d5a5660a7c35abef09": {
          "model_module": "@jupyter-widgets/base",
          "model_name": "LayoutModel",
          "model_module_version": "1.2.0",
          "state": {
            "_model_module": "@jupyter-widgets/base",
            "_model_module_version": "1.2.0",
            "_model_name": "LayoutModel",
            "_view_count": null,
            "_view_module": "@jupyter-widgets/base",
            "_view_module_version": "1.2.0",
            "_view_name": "LayoutView",
            "align_content": null,
            "align_items": null,
            "align_self": null,
            "border": null,
            "bottom": null,
            "display": null,
            "flex": null,
            "flex_flow": null,
            "grid_area": null,
            "grid_auto_columns": null,
            "grid_auto_flow": null,
            "grid_auto_rows": null,
            "grid_column": null,
            "grid_gap": null,
            "grid_row": null,
            "grid_template_areas": null,
            "grid_template_columns": null,
            "grid_template_rows": null,
            "height": null,
            "justify_content": null,
            "justify_items": null,
            "left": null,
            "margin": null,
            "max_height": null,
            "max_width": null,
            "min_height": null,
            "min_width": null,
            "object_fit": null,
            "object_position": null,
            "order": null,
            "overflow": null,
            "overflow_x": null,
            "overflow_y": null,
            "padding": null,
            "right": null,
            "top": null,
            "visibility": null,
            "width": null
          }
        },
        "39a0248d64b548a18842ea3c80b3aded": {
          "model_module": "@jupyter-widgets/controls",
          "model_name": "DescriptionStyleModel",
          "model_module_version": "1.5.0",
          "state": {
            "_model_module": "@jupyter-widgets/controls",
            "_model_module_version": "1.5.0",
            "_model_name": "DescriptionStyleModel",
            "_view_count": null,
            "_view_module": "@jupyter-widgets/base",
            "_view_module_version": "1.2.0",
            "_view_name": "StyleView",
            "description_width": ""
          }
        },
        "fcb89d8e59ec4373811012801b5f18b7": {
          "model_module": "@jupyter-widgets/controls",
          "model_name": "HBoxModel",
          "model_module_version": "1.5.0",
          "state": {
            "_dom_classes": [],
            "_model_module": "@jupyter-widgets/controls",
            "_model_module_version": "1.5.0",
            "_model_name": "HBoxModel",
            "_view_count": null,
            "_view_module": "@jupyter-widgets/controls",
            "_view_module_version": "1.5.0",
            "_view_name": "HBoxView",
            "box_style": "",
            "children": [
              "IPY_MODEL_24df94705f2241689cd6354706a806d0",
              "IPY_MODEL_dc03f1cc71f84859aa54fb4c96b9c07d",
              "IPY_MODEL_3340d798996d4de2a236feccab4ac1dc"
            ],
            "layout": "IPY_MODEL_4ee7a82d2c884f31ba951ff248773e4b"
          }
        },
        "24df94705f2241689cd6354706a806d0": {
          "model_module": "@jupyter-widgets/controls",
          "model_name": "HTMLModel",
          "model_module_version": "1.5.0",
          "state": {
            "_dom_classes": [],
            "_model_module": "@jupyter-widgets/controls",
            "_model_module_version": "1.5.0",
            "_model_name": "HTMLModel",
            "_view_count": null,
            "_view_module": "@jupyter-widgets/controls",
            "_view_module_version": "1.5.0",
            "_view_name": "HTMLView",
            "description": "",
            "description_tooltip": null,
            "layout": "IPY_MODEL_a96b01ee0f0649428c16f6da96044bca",
            "placeholder": "​",
            "style": "IPY_MODEL_72306ba9e1e2436da1aa36f80dc11a2a",
            "value": "Loading checkpoint shards: 100%"
          }
        },
        "dc03f1cc71f84859aa54fb4c96b9c07d": {
          "model_module": "@jupyter-widgets/controls",
          "model_name": "FloatProgressModel",
          "model_module_version": "1.5.0",
          "state": {
            "_dom_classes": [],
            "_model_module": "@jupyter-widgets/controls",
            "_model_module_version": "1.5.0",
            "_model_name": "FloatProgressModel",
            "_view_count": null,
            "_view_module": "@jupyter-widgets/controls",
            "_view_module_version": "1.5.0",
            "_view_name": "ProgressView",
            "bar_style": "success",
            "description": "",
            "description_tooltip": null,
            "layout": "IPY_MODEL_a7e5ff6baa4e4ac2a7e8bac73e369e3c",
            "max": 3,
            "min": 0,
            "orientation": "horizontal",
            "style": "IPY_MODEL_039a66417f664a32abc15740fbefd07b",
            "value": 3
          }
        },
        "3340d798996d4de2a236feccab4ac1dc": {
          "model_module": "@jupyter-widgets/controls",
          "model_name": "HTMLModel",
          "model_module_version": "1.5.0",
          "state": {
            "_dom_classes": [],
            "_model_module": "@jupyter-widgets/controls",
            "_model_module_version": "1.5.0",
            "_model_name": "HTMLModel",
            "_view_count": null,
            "_view_module": "@jupyter-widgets/controls",
            "_view_module_version": "1.5.0",
            "_view_name": "HTMLView",
            "description": "",
            "description_tooltip": null,
            "layout": "IPY_MODEL_a0928b55f2b445bebf2e237594c519d0",
            "placeholder": "​",
            "style": "IPY_MODEL_9464c12c041a43a8ad98f22c2204dde5",
            "value": " 3/3 [01:29&lt;00:00, 29.55s/it]"
          }
        },
        "4ee7a82d2c884f31ba951ff248773e4b": {
          "model_module": "@jupyter-widgets/base",
          "model_name": "LayoutModel",
          "model_module_version": "1.2.0",
          "state": {
            "_model_module": "@jupyter-widgets/base",
            "_model_module_version": "1.2.0",
            "_model_name": "LayoutModel",
            "_view_count": null,
            "_view_module": "@jupyter-widgets/base",
            "_view_module_version": "1.2.0",
            "_view_name": "LayoutView",
            "align_content": null,
            "align_items": null,
            "align_self": null,
            "border": null,
            "bottom": null,
            "display": null,
            "flex": null,
            "flex_flow": null,
            "grid_area": null,
            "grid_auto_columns": null,
            "grid_auto_flow": null,
            "grid_auto_rows": null,
            "grid_column": null,
            "grid_gap": null,
            "grid_row": null,
            "grid_template_areas": null,
            "grid_template_columns": null,
            "grid_template_rows": null,
            "height": null,
            "justify_content": null,
            "justify_items": null,
            "left": null,
            "margin": null,
            "max_height": null,
            "max_width": null,
            "min_height": null,
            "min_width": null,
            "object_fit": null,
            "object_position": null,
            "order": null,
            "overflow": null,
            "overflow_x": null,
            "overflow_y": null,
            "padding": null,
            "right": null,
            "top": null,
            "visibility": null,
            "width": null
          }
        },
        "a96b01ee0f0649428c16f6da96044bca": {
          "model_module": "@jupyter-widgets/base",
          "model_name": "LayoutModel",
          "model_module_version": "1.2.0",
          "state": {
            "_model_module": "@jupyter-widgets/base",
            "_model_module_version": "1.2.0",
            "_model_name": "LayoutModel",
            "_view_count": null,
            "_view_module": "@jupyter-widgets/base",
            "_view_module_version": "1.2.0",
            "_view_name": "LayoutView",
            "align_content": null,
            "align_items": null,
            "align_self": null,
            "border": null,
            "bottom": null,
            "display": null,
            "flex": null,
            "flex_flow": null,
            "grid_area": null,
            "grid_auto_columns": null,
            "grid_auto_flow": null,
            "grid_auto_rows": null,
            "grid_column": null,
            "grid_gap": null,
            "grid_row": null,
            "grid_template_areas": null,
            "grid_template_columns": null,
            "grid_template_rows": null,
            "height": null,
            "justify_content": null,
            "justify_items": null,
            "left": null,
            "margin": null,
            "max_height": null,
            "max_width": null,
            "min_height": null,
            "min_width": null,
            "object_fit": null,
            "object_position": null,
            "order": null,
            "overflow": null,
            "overflow_x": null,
            "overflow_y": null,
            "padding": null,
            "right": null,
            "top": null,
            "visibility": null,
            "width": null
          }
        },
        "72306ba9e1e2436da1aa36f80dc11a2a": {
          "model_module": "@jupyter-widgets/controls",
          "model_name": "DescriptionStyleModel",
          "model_module_version": "1.5.0",
          "state": {
            "_model_module": "@jupyter-widgets/controls",
            "_model_module_version": "1.5.0",
            "_model_name": "DescriptionStyleModel",
            "_view_count": null,
            "_view_module": "@jupyter-widgets/base",
            "_view_module_version": "1.2.0",
            "_view_name": "StyleView",
            "description_width": ""
          }
        },
        "a7e5ff6baa4e4ac2a7e8bac73e369e3c": {
          "model_module": "@jupyter-widgets/base",
          "model_name": "LayoutModel",
          "model_module_version": "1.2.0",
          "state": {
            "_model_module": "@jupyter-widgets/base",
            "_model_module_version": "1.2.0",
            "_model_name": "LayoutModel",
            "_view_count": null,
            "_view_module": "@jupyter-widgets/base",
            "_view_module_version": "1.2.0",
            "_view_name": "LayoutView",
            "align_content": null,
            "align_items": null,
            "align_self": null,
            "border": null,
            "bottom": null,
            "display": null,
            "flex": null,
            "flex_flow": null,
            "grid_area": null,
            "grid_auto_columns": null,
            "grid_auto_flow": null,
            "grid_auto_rows": null,
            "grid_column": null,
            "grid_gap": null,
            "grid_row": null,
            "grid_template_areas": null,
            "grid_template_columns": null,
            "grid_template_rows": null,
            "height": null,
            "justify_content": null,
            "justify_items": null,
            "left": null,
            "margin": null,
            "max_height": null,
            "max_width": null,
            "min_height": null,
            "min_width": null,
            "object_fit": null,
            "object_position": null,
            "order": null,
            "overflow": null,
            "overflow_x": null,
            "overflow_y": null,
            "padding": null,
            "right": null,
            "top": null,
            "visibility": null,
            "width": null
          }
        },
        "039a66417f664a32abc15740fbefd07b": {
          "model_module": "@jupyter-widgets/controls",
          "model_name": "ProgressStyleModel",
          "model_module_version": "1.5.0",
          "state": {
            "_model_module": "@jupyter-widgets/controls",
            "_model_module_version": "1.5.0",
            "_model_name": "ProgressStyleModel",
            "_view_count": null,
            "_view_module": "@jupyter-widgets/base",
            "_view_module_version": "1.2.0",
            "_view_name": "StyleView",
            "bar_color": null,
            "description_width": ""
          }
        },
        "a0928b55f2b445bebf2e237594c519d0": {
          "model_module": "@jupyter-widgets/base",
          "model_name": "LayoutModel",
          "model_module_version": "1.2.0",
          "state": {
            "_model_module": "@jupyter-widgets/base",
            "_model_module_version": "1.2.0",
            "_model_name": "LayoutModel",
            "_view_count": null,
            "_view_module": "@jupyter-widgets/base",
            "_view_module_version": "1.2.0",
            "_view_name": "LayoutView",
            "align_content": null,
            "align_items": null,
            "align_self": null,
            "border": null,
            "bottom": null,
            "display": null,
            "flex": null,
            "flex_flow": null,
            "grid_area": null,
            "grid_auto_columns": null,
            "grid_auto_flow": null,
            "grid_auto_rows": null,
            "grid_column": null,
            "grid_gap": null,
            "grid_row": null,
            "grid_template_areas": null,
            "grid_template_columns": null,
            "grid_template_rows": null,
            "height": null,
            "justify_content": null,
            "justify_items": null,
            "left": null,
            "margin": null,
            "max_height": null,
            "max_width": null,
            "min_height": null,
            "min_width": null,
            "object_fit": null,
            "object_position": null,
            "order": null,
            "overflow": null,
            "overflow_x": null,
            "overflow_y": null,
            "padding": null,
            "right": null,
            "top": null,
            "visibility": null,
            "width": null
          }
        },
        "9464c12c041a43a8ad98f22c2204dde5": {
          "model_module": "@jupyter-widgets/controls",
          "model_name": "DescriptionStyleModel",
          "model_module_version": "1.5.0",
          "state": {
            "_model_module": "@jupyter-widgets/controls",
            "_model_module_version": "1.5.0",
            "_model_name": "DescriptionStyleModel",
            "_view_count": null,
            "_view_module": "@jupyter-widgets/base",
            "_view_module_version": "1.2.0",
            "_view_name": "StyleView",
            "description_width": ""
          }
        },
        "50555905006743d5b6b9107e08f8b4e0": {
          "model_module": "@jupyter-widgets/controls",
          "model_name": "HBoxModel",
          "model_module_version": "1.5.0",
          "state": {
            "_dom_classes": [],
            "_model_module": "@jupyter-widgets/controls",
            "_model_module_version": "1.5.0",
            "_model_name": "HBoxModel",
            "_view_count": null,
            "_view_module": "@jupyter-widgets/controls",
            "_view_module_version": "1.5.0",
            "_view_name": "HBoxView",
            "box_style": "",
            "children": [
              "IPY_MODEL_056ff4a5630445699a1a4e13a10bc178",
              "IPY_MODEL_a06fccaf21fb45cab6a0c513588eccc1",
              "IPY_MODEL_e1d44d372de14f509f13eeb0f80eb275"
            ],
            "layout": "IPY_MODEL_0cf9e01d15564ed3bfac12de52d6039e"
          }
        },
        "056ff4a5630445699a1a4e13a10bc178": {
          "model_module": "@jupyter-widgets/controls",
          "model_name": "HTMLModel",
          "model_module_version": "1.5.0",
          "state": {
            "_dom_classes": [],
            "_model_module": "@jupyter-widgets/controls",
            "_model_module_version": "1.5.0",
            "_model_name": "HTMLModel",
            "_view_count": null,
            "_view_module": "@jupyter-widgets/controls",
            "_view_module_version": "1.5.0",
            "_view_name": "HTMLView",
            "description": "",
            "description_tooltip": null,
            "layout": "IPY_MODEL_0a14b6af42a24ef897a8ae3e1addea6f",
            "placeholder": "​",
            "style": "IPY_MODEL_c7999ad6d787475c83b840378e3081a7",
            "value": "generation_config.json: 100%"
          }
        },
        "a06fccaf21fb45cab6a0c513588eccc1": {
          "model_module": "@jupyter-widgets/controls",
          "model_name": "FloatProgressModel",
          "model_module_version": "1.5.0",
          "state": {
            "_dom_classes": [],
            "_model_module": "@jupyter-widgets/controls",
            "_model_module_version": "1.5.0",
            "_model_name": "FloatProgressModel",
            "_view_count": null,
            "_view_module": "@jupyter-widgets/controls",
            "_view_module_version": "1.5.0",
            "_view_name": "ProgressView",
            "bar_style": "success",
            "description": "",
            "description_tooltip": null,
            "layout": "IPY_MODEL_17821d77fb684055b0becd2743c2a1f1",
            "max": 111,
            "min": 0,
            "orientation": "horizontal",
            "style": "IPY_MODEL_c60db0dda9094742b4508872fa720275",
            "value": 111
          }
        },
        "e1d44d372de14f509f13eeb0f80eb275": {
          "model_module": "@jupyter-widgets/controls",
          "model_name": "HTMLModel",
          "model_module_version": "1.5.0",
          "state": {
            "_dom_classes": [],
            "_model_module": "@jupyter-widgets/controls",
            "_model_module_version": "1.5.0",
            "_model_name": "HTMLModel",
            "_view_count": null,
            "_view_module": "@jupyter-widgets/controls",
            "_view_module_version": "1.5.0",
            "_view_name": "HTMLView",
            "description": "",
            "description_tooltip": null,
            "layout": "IPY_MODEL_049158ef91d143ffb3ce7256e4714218",
            "placeholder": "​",
            "style": "IPY_MODEL_a5722a22795f443fbe92608a27455252",
            "value": " 111/111 [00:00&lt;00:00, 10.3kB/s]"
          }
        },
        "0cf9e01d15564ed3bfac12de52d6039e": {
          "model_module": "@jupyter-widgets/base",
          "model_name": "LayoutModel",
          "model_module_version": "1.2.0",
          "state": {
            "_model_module": "@jupyter-widgets/base",
            "_model_module_version": "1.2.0",
            "_model_name": "LayoutModel",
            "_view_count": null,
            "_view_module": "@jupyter-widgets/base",
            "_view_module_version": "1.2.0",
            "_view_name": "LayoutView",
            "align_content": null,
            "align_items": null,
            "align_self": null,
            "border": null,
            "bottom": null,
            "display": null,
            "flex": null,
            "flex_flow": null,
            "grid_area": null,
            "grid_auto_columns": null,
            "grid_auto_flow": null,
            "grid_auto_rows": null,
            "grid_column": null,
            "grid_gap": null,
            "grid_row": null,
            "grid_template_areas": null,
            "grid_template_columns": null,
            "grid_template_rows": null,
            "height": null,
            "justify_content": null,
            "justify_items": null,
            "left": null,
            "margin": null,
            "max_height": null,
            "max_width": null,
            "min_height": null,
            "min_width": null,
            "object_fit": null,
            "object_position": null,
            "order": null,
            "overflow": null,
            "overflow_x": null,
            "overflow_y": null,
            "padding": null,
            "right": null,
            "top": null,
            "visibility": null,
            "width": null
          }
        },
        "0a14b6af42a24ef897a8ae3e1addea6f": {
          "model_module": "@jupyter-widgets/base",
          "model_name": "LayoutModel",
          "model_module_version": "1.2.0",
          "state": {
            "_model_module": "@jupyter-widgets/base",
            "_model_module_version": "1.2.0",
            "_model_name": "LayoutModel",
            "_view_count": null,
            "_view_module": "@jupyter-widgets/base",
            "_view_module_version": "1.2.0",
            "_view_name": "LayoutView",
            "align_content": null,
            "align_items": null,
            "align_self": null,
            "border": null,
            "bottom": null,
            "display": null,
            "flex": null,
            "flex_flow": null,
            "grid_area": null,
            "grid_auto_columns": null,
            "grid_auto_flow": null,
            "grid_auto_rows": null,
            "grid_column": null,
            "grid_gap": null,
            "grid_row": null,
            "grid_template_areas": null,
            "grid_template_columns": null,
            "grid_template_rows": null,
            "height": null,
            "justify_content": null,
            "justify_items": null,
            "left": null,
            "margin": null,
            "max_height": null,
            "max_width": null,
            "min_height": null,
            "min_width": null,
            "object_fit": null,
            "object_position": null,
            "order": null,
            "overflow": null,
            "overflow_x": null,
            "overflow_y": null,
            "padding": null,
            "right": null,
            "top": null,
            "visibility": null,
            "width": null
          }
        },
        "c7999ad6d787475c83b840378e3081a7": {
          "model_module": "@jupyter-widgets/controls",
          "model_name": "DescriptionStyleModel",
          "model_module_version": "1.5.0",
          "state": {
            "_model_module": "@jupyter-widgets/controls",
            "_model_module_version": "1.5.0",
            "_model_name": "DescriptionStyleModel",
            "_view_count": null,
            "_view_module": "@jupyter-widgets/base",
            "_view_module_version": "1.2.0",
            "_view_name": "StyleView",
            "description_width": ""
          }
        },
        "17821d77fb684055b0becd2743c2a1f1": {
          "model_module": "@jupyter-widgets/base",
          "model_name": "LayoutModel",
          "model_module_version": "1.2.0",
          "state": {
            "_model_module": "@jupyter-widgets/base",
            "_model_module_version": "1.2.0",
            "_model_name": "LayoutModel",
            "_view_count": null,
            "_view_module": "@jupyter-widgets/base",
            "_view_module_version": "1.2.0",
            "_view_name": "LayoutView",
            "align_content": null,
            "align_items": null,
            "align_self": null,
            "border": null,
            "bottom": null,
            "display": null,
            "flex": null,
            "flex_flow": null,
            "grid_area": null,
            "grid_auto_columns": null,
            "grid_auto_flow": null,
            "grid_auto_rows": null,
            "grid_column": null,
            "grid_gap": null,
            "grid_row": null,
            "grid_template_areas": null,
            "grid_template_columns": null,
            "grid_template_rows": null,
            "height": null,
            "justify_content": null,
            "justify_items": null,
            "left": null,
            "margin": null,
            "max_height": null,
            "max_width": null,
            "min_height": null,
            "min_width": null,
            "object_fit": null,
            "object_position": null,
            "order": null,
            "overflow": null,
            "overflow_x": null,
            "overflow_y": null,
            "padding": null,
            "right": null,
            "top": null,
            "visibility": null,
            "width": null
          }
        },
        "c60db0dda9094742b4508872fa720275": {
          "model_module": "@jupyter-widgets/controls",
          "model_name": "ProgressStyleModel",
          "model_module_version": "1.5.0",
          "state": {
            "_model_module": "@jupyter-widgets/controls",
            "_model_module_version": "1.5.0",
            "_model_name": "ProgressStyleModel",
            "_view_count": null,
            "_view_module": "@jupyter-widgets/base",
            "_view_module_version": "1.2.0",
            "_view_name": "StyleView",
            "bar_color": null,
            "description_width": ""
          }
        },
        "049158ef91d143ffb3ce7256e4714218": {
          "model_module": "@jupyter-widgets/base",
          "model_name": "LayoutModel",
          "model_module_version": "1.2.0",
          "state": {
            "_model_module": "@jupyter-widgets/base",
            "_model_module_version": "1.2.0",
            "_model_name": "LayoutModel",
            "_view_count": null,
            "_view_module": "@jupyter-widgets/base",
            "_view_module_version": "1.2.0",
            "_view_name": "LayoutView",
            "align_content": null,
            "align_items": null,
            "align_self": null,
            "border": null,
            "bottom": null,
            "display": null,
            "flex": null,
            "flex_flow": null,
            "grid_area": null,
            "grid_auto_columns": null,
            "grid_auto_flow": null,
            "grid_auto_rows": null,
            "grid_column": null,
            "grid_gap": null,
            "grid_row": null,
            "grid_template_areas": null,
            "grid_template_columns": null,
            "grid_template_rows": null,
            "height": null,
            "justify_content": null,
            "justify_items": null,
            "left": null,
            "margin": null,
            "max_height": null,
            "max_width": null,
            "min_height": null,
            "min_width": null,
            "object_fit": null,
            "object_position": null,
            "order": null,
            "overflow": null,
            "overflow_x": null,
            "overflow_y": null,
            "padding": null,
            "right": null,
            "top": null,
            "visibility": null,
            "width": null
          }
        },
        "a5722a22795f443fbe92608a27455252": {
          "model_module": "@jupyter-widgets/controls",
          "model_name": "DescriptionStyleModel",
          "model_module_version": "1.5.0",
          "state": {
            "_model_module": "@jupyter-widgets/controls",
            "_model_module_version": "1.5.0",
            "_model_name": "DescriptionStyleModel",
            "_view_count": null,
            "_view_module": "@jupyter-widgets/base",
            "_view_module_version": "1.2.0",
            "_view_name": "StyleView",
            "description_width": ""
          }
        }
      }
    }
  },
  "cells": [
    {
      "cell_type": "markdown",
      "source": [
        "# **Procesamiento de Lenguaje Natural**\n",
        "\n",
        "## Maestría en Inteligencia Artificial Aplicada\n",
        "#### Tecnológico de Monterrey\n",
        "#### Prof Luis Eduardo Falcón Morales\n",
        "\n",
        "### **Adtividad en Equipos Semanas 7 y 8 : LDA y LMM audio-a-texto**"
      ],
      "metadata": {
        "id": "-hVND8xY2OKY"
      }
    },
    {
      "cell_type": "markdown",
      "source": [
        "* **Nombres y matrículas:**\n",
        "\n",
        "  *   Elemento de lista\n",
        "  *   Elemento de lista\n",
        "  *   Elemento de lista\n",
        "\n",
        "* **Número de Equipo:**\n"
      ],
      "metadata": {
        "id": "aimHVFOv23lm"
      }
    },
    {
      "cell_type": "markdown",
      "source": [
        "* ##### **En cada ejercicio pueden importar los paquetes o librerías que requieran.**\n",
        "\n",
        "* ##### **En cada ejercicio pueden incluir las celdas y líneas de código que deseen.**"
      ],
      "metadata": {
        "id": "7jimvsiVgjMg"
      }
    },
    {
      "cell_type": "markdown",
      "source": [
        "# **Ejercicio 1:**"
      ],
      "metadata": {
        "id": "1BtP-Sk0DT-M"
      }
    },
    {
      "cell_type": "markdown",
      "source": [
        "* #### **Liga de los audios de las fábulas de Esopo:** https://www.gutenberg.org/ebooks/21144\n",
        "\n",
        "* #### **Descargar los 10 archivos de audio solicitados: 1, 4, 5, 6, 14, 22, 24, 25, 26, 27.**\n",
        "\n"
      ],
      "metadata": {
        "id": "Oh78pKeMghfe"
      }
    },
    {
      "cell_type": "code",
      "source": [
        "#!pip uninstall -y scipy numpy\n",
        "#!pip install numpy==1.25.2\n",
        "#!pip install scipy==1.11.3  # Compatible con numpy>=1.25\n",
        "#!pip install gensim==4.3.2\n",
        "#!pip install bitsandbytes\n"
      ],
      "metadata": {
        "id": "jv3ylkd--A2C"
      },
      "execution_count": 1,
      "outputs": []
    },
    {
      "cell_type": "code",
      "source": [
        "# Incluyan a continuación todas las celdas (de código o texto) que deseen...\n",
        "from google.colab import drive\n",
        "import os\n",
        "\n",
        "# Montar Google Drive\n",
        "drive.mount('/content/drive')\n",
        "\n",
        "# Directorio con los audios\n",
        "DIR = '/content/drive/MyDrive/Colab Notebooks/MNA/TC5043 - Procesamiento de lenguaje natural/Semana 6 y 7'\n",
        "\n",
        "import json\n",
        "import re\n",
        "import nltk\n",
        "from nltk.corpus import stopwords\n",
        "import gensim\n",
        "from gensim import corpora"
      ],
      "metadata": {
        "id": "Bfs5Zxc9j7Uf",
        "colab": {
          "base_uri": "https://localhost:8080/"
        },
        "outputId": "3ee9bf4c-e748-4ed0-8a24-954e76ddacf6"
      },
      "execution_count": 2,
      "outputs": [
        {
          "output_type": "stream",
          "name": "stdout",
          "text": [
            "Drive already mounted at /content/drive; to attempt to forcibly remount, call drive.mount(\"/content/drive\", force_remount=True).\n"
          ]
        }
      ]
    },
    {
      "cell_type": "code",
      "source": [
        "from transformers import pipeline, AutoProcessor, AutoModelForSpeechSeq2Seq, AutoTokenizer, AutoModelForCausalLM, BitsAndBytesConfig\n",
        "import librosa\n",
        "import torch\n",
        "from google.colab import userdata\n",
        "from huggingface_hub import login\n",
        "login(userdata.get('miHuggingFace'))\n",
        "device = \"cuda\" if torch.cuda.is_available() else \"cpu\"\n",
        "print(f\"Usando dispositivo: {device}\")"
      ],
      "metadata": {
        "id": "fUup4C8nHKB5",
        "colab": {
          "base_uri": "https://localhost:8080/"
        },
        "outputId": "ca0c115f-54b7-4eba-ff08-7eae6a77064c"
      },
      "execution_count": 3,
      "outputs": [
        {
          "output_type": "stream",
          "name": "stdout",
          "text": [
            "Usando dispositivo: cuda\n"
          ]
        }
      ]
    },
    {
      "cell_type": "code",
      "source": [
        "# Audios a trabajar\n",
        "audio_ids = [1, 4, 5, 6, 14, 22, 24, 25, 26, 27]\n",
        "audio_paths = {f'audio{str(i).zfill(2)}': os.path.join(DIR, f'21144-{i}.mp3') for i in audio_ids}"
      ],
      "metadata": {
        "id": "uR9ULdUY6nVe"
      },
      "execution_count": 4,
      "outputs": []
    },
    {
      "cell_type": "markdown",
      "source": [
        "# **Ejercicio 2a:**"
      ],
      "metadata": {
        "id": "6uYgtCvvJSmq"
      }
    },
    {
      "cell_type": "markdown",
      "source": [
        "* #### **Comenten el por qué del modelo seleccionado para extracción del texto de los audios.**\n",
        "\n",
        "* #### **Extraer el contenido de los audios en texto.**\n",
        "\n",
        "* #### **Sugerencia:** pueden extraerlo en un formato de diccionario, clave:valor $→$ {audio01:fabula01, ...}"
      ],
      "metadata": {
        "id": "rAQjVP2HkoZY"
      }
    },
    {
      "cell_type": "code",
      "source": [
        "audios_data = {}\n",
        "for audio_key, audio_path in audio_paths.items():\n",
        "    if os.path.exists(audio_path):\n",
        "        audio, sample_rate = librosa.load(audio_path,\n",
        "                                          sr=16000   # los modelos Wav2Vec2 requieren un muestreo (sample rate) de 16Hz.\n",
        "                                          )\n",
        "        audios_data[audio_key] = (audio, sample_rate)"
      ],
      "metadata": {
        "id": "R2XGo3g3H-VO"
      },
      "execution_count": 5,
      "outputs": []
    },
    {
      "cell_type": "code",
      "source": [
        "model_id = \"openai/whisper-large-v3\"    # una versión ligera de v3\n",
        "\n",
        "# Cargamos el modelo:\n",
        "processor = AutoProcessor.from_pretrained(model_id)\n",
        "modelo = AutoModelForSpeechSeq2Seq.from_pretrained(model_id).to(device)"
      ],
      "metadata": {
        "id": "hvVsMsJwKhcy",
        "colab": {
          "base_uri": "https://localhost:8080/"
        },
        "outputId": "906b84b9-c160-4783-dd48-a2570341548b"
      },
      "execution_count": 6,
      "outputs": [
        {
          "output_type": "stream",
          "name": "stderr",
          "text": [
            "/usr/local/lib/python3.11/dist-packages/huggingface_hub/utils/_auth.py:94: UserWarning: \n",
            "The secret `HF_TOKEN` does not exist in your Colab secrets.\n",
            "To authenticate with the Hugging Face Hub, create a token in your settings tab (https://huggingface.co/settings/tokens), set it as secret in your Google Colab and restart your session.\n",
            "You will be able to reuse this secret in all of your notebooks.\n",
            "Please note that authentication is recommended but still optional to access public models or datasets.\n",
            "  warnings.warn(\n"
          ]
        }
      ]
    },
    {
      "cell_type": "code",
      "source": [
        "asr_pipeline = pipeline(\n",
        "    \"automatic-speech-recognition\",\n",
        "    model=modelo,\n",
        "    tokenizer=processor.tokenizer,\n",
        "    feature_extractor=processor.feature_extractor,\n",
        "    torch_dtype=torch.float32,\n",
        "    device=device,\n",
        "    return_timestamps=True\n",
        ")"
      ],
      "metadata": {
        "id": "VGpR1wB1NbBi",
        "colab": {
          "base_uri": "https://localhost:8080/"
        },
        "outputId": "66c059e9-d092-412c-b6e7-81ed508b24a5"
      },
      "execution_count": 7,
      "outputs": [
        {
          "output_type": "stream",
          "name": "stderr",
          "text": [
            "Device set to use cuda\n"
          ]
        }
      ]
    },
    {
      "cell_type": "code",
      "source": [
        "# Diccionario para almacenar los textos extraídos\n",
        "fabulas_raw = {}\n",
        "\n",
        "# Extraer texto de cada audio usando el pipeline\n",
        "for audio_key, (audio, sample_rate) in audios_data.items():\n",
        "    # Configurar los parámetros de generación\n",
        "    generate_kwargs = {\"language\": \"es\"}\n",
        "\n",
        "    # Usar el pipeline\n",
        "    result = asr_pipeline(audio, generate_kwargs=generate_kwargs)\n",
        "\n",
        "    # Extraer solo el texto de la transcripción\n",
        "    transcription = result[\"text\"]\n",
        "    fabulas_raw[audio_key] = transcription\n",
        "\n",
        "print(f\"Total de audios procesados: {len([k for k, v in fabulas_raw.items() if v])}\")"
      ],
      "metadata": {
        "id": "C3k5sLGhnO1d",
        "colab": {
          "base_uri": "https://localhost:8080/"
        },
        "outputId": "c5f8531d-436d-41e4-e1f2-b01a47515e04"
      },
      "execution_count": 8,
      "outputs": [
        {
          "output_type": "stream",
          "name": "stderr",
          "text": [
            "/usr/local/lib/python3.11/dist-packages/transformers/models/whisper/generation_whisper.py:573: FutureWarning: The input name `inputs` is deprecated. Please make sure to use `input_features` instead.\n",
            "  warnings.warn(\n",
            "You have passed language=es, but also have set `forced_decoder_ids` to [[1, None], [2, 50360]] which creates a conflict. `forced_decoder_ids` will be ignored in favor of language=es.\n",
            "Whisper did not predict an ending timestamp, which can happen if audio is cut off in the middle of a word. Also make sure WhisperTimeStampLogitsProcessor was used during generation.\n",
            "Whisper did not predict an ending timestamp, which can happen if audio is cut off in the middle of a word. Also make sure WhisperTimeStampLogitsProcessor was used during generation.\n",
            "Whisper did not predict an ending timestamp, which can happen if audio is cut off in the middle of a word. Also make sure WhisperTimeStampLogitsProcessor was used during generation.\n",
            "Whisper did not predict an ending timestamp, which can happen if audio is cut off in the middle of a word. Also make sure WhisperTimeStampLogitsProcessor was used during generation.\n"
          ]
        },
        {
          "output_type": "stream",
          "name": "stdout",
          "text": [
            "Total de audios procesados: 10\n"
          ]
        }
      ]
    },
    {
      "cell_type": "code",
      "source": [
        "fabulas_raw"
      ],
      "metadata": {
        "id": "-K7mALE8Opzf",
        "colab": {
          "base_uri": "https://localhost:8080/"
        },
        "outputId": "a3202699-bad9-496c-b5ba-c6eda4c36943"
      },
      "execution_count": 9,
      "outputs": [
        {
          "output_type": "execute_result",
          "data": {
            "text/plain": [
              "{'audio01': ' Las Fábulas de Esopo. Grabado para LibriVox.org por Paulino. www.paulino.info Fábula número 61. El lobo y el cordero en el templo. Dándose cuenta de que era perseguido por un lobo, un pequeño corderito decidió refugiarse en un templo cercano. Lo llamó lobo y le dijo que si el sacrificador lo encontraba allí adentro, lo inmolaría a su dios. Mejor así, replicó el cordero, prefiero ser víctima para un dios a tener que perecer en tus colmillos. Si sin remedio vamos a ser sacrificados, más nos vale que sea con el mayor honor. Fin de la fábula. Esta es una grabación del dominio público.',\n",
              " 'audio04': ' Las fábulas de Esopo grabado para LibriVox.org por Roberto Antonio Muñoz Fábula número 64 El lobo y la grulla A un lobo que comía un hueso, se le atragantó el hueso en la garganta y corría por todas partes en busca de auxilio. Encontró en su correa una grulla y le pidió que le salvara de aquella situación, y que enseguida le pagaría por ello. Aceptó la grulla e introdujo su cabeza en la boca del lobo, sacando de la garganta el hueso atravesado Pidió entonces la cancelación de la paga convenida Oye Anida, dijo el lobo, ¿no crees que es suficiente paga con haber sacado tu cabeza sana y salva de mi boca? Nunca hagas favores a malvados, traficantes o corruptos, pues mucha paga tendrías si te dejan sano y salvo Fin de fábula Esta grabación es de dominio público',\n",
              " 'audio05': ' Las fábulas de Sopo, grabado para LibriVox.org por Karen Savage. Fábula número 65. El lobo y el caballo. Pasaba un lobo por un sembrado de cebada, pero como no era comida de su gusto, la dejó y siguió su camino. Encontró al rato a un caballo, y le llevó al campo comentándole la gran cantidad de cebada que había hallado, pero que en vez de comérsela a él mejor se la había dejado porque le agradaba más oír el ruido de sus dientes al masticarla pero el caballo le repuso amigo si los lobos comieran cebada no hubieras preferido complacer a tus oídos sino a tu estómago a todo malvado aunque parezca actuar como bueno no debe de creérsele fin de fábula esta grabación es de dominio público Gracias por ver el video.',\n",
              " 'audio06': ' Las fábulas de Esopo, grabado para LibriVox.org por Alejandro González Calderón. Fábula número 66, El lobo y el asno. Un lobo fue elegido rey entre sus congéneres y decretó una ley ordenando que lo que cada uno capturase en la casa, lo pusiera en común y lo repartiese por partes iguales entre todos. de esta manera ya no tendrían los lobos que devorarse unos a otros en épocas de hambre pero en eso le escuchó un asno que estaba por ahí cerca y moviendo sus orejas le dijo magnífica idea ha brotado de tu corazón pero ¿por qué has escondido todo tu botín en tu cueva? llévalo a la comunidad y repártelo también como lo has decretado el lobo descubierto y confundido derogó su ley Si alguna vez llegas a tener poder de legislar, sé el primero en cumplir tus propias leyes Fin de la fábula, esta grabación es de dominio público',\n",
              " 'audio14': ' Las fábulas de Sopo Grabado para LibriVox.org por Elochito Fábula número 74 El lobo y el cabrito encerrado Protegido por la seguridad del corral de una casa, un cabrito vio pasar a un lobo y comenzó a insultarle burlándose ampliamente de él. El lobo serenamente le replicó Infeliz, sé que no eres tú quien me está insultando sino el sitio en que te encuentras Muy a menudo no es el valor sino la ocasión y el lugar quienes proveen el enfrentamiento arrogante ante los poderosos Fin de la fábula Esta grabación es del dominio público Gracias.',\n",
              " 'audio22': ' Las fábulas de Esopo Grabado para LibriVox.org por Elochito Fábula número 82 El perro y la almeja Un perro de esos, acostumbrados a comer huevos, al ver una almeja, no lo pensó dos veces, y creyendo que se trataba de un huevo, se la tragó inmediatamente. Desgarradas luego sus entrañas, se sintió muy mal, y se dijo, bien merecido lo tengo por creer que todo lo que veo redondo son huevos nunca tomes un asunto sin antes reflexionar para no entrar luego en extrañas dificultades Fin de la fábula. Esta grabación es del dominio público.',\n",
              " 'audio24': ' Las fábulas de Sopo. Grabado para LibriVox.org por Karen Savage. Fábula número 84. El perro y el reflejo en el río. Badeaba un perro un río, llevando en su hocico un sabroso pedazo de carne. Vio su propio reflejo en el agua del río, y creyó que aquel reflejo era en realidad otro perro que llevaba un trozo de carne mayor que el suyo. Y deseando adueñarse del pedazo ajeno, soltó el suyo para arrebatar el trozo a su supuesto compadre, pero el resultado fue que se quedó sin el propio y sin el ajeno, este porque no existía, sólo era un reflejo, y el otro, el verdadero, porque se lo llevó a la corriente. Nunca codices el bien ajeno, pues puedes perder lo que ya has adquirido con tu esfuerzo. Fin de fábula Esta grabación es de dominio público',\n",
              " 'audio25': ' Las Fábulas de Esopo Grabado para LibreVox.org Fábula número 85 El perro y el carnicero Penetró un perro en una carnicería y notando que el carnicero estaba muy ocupado con sus clientes, cogió un trozo de carne y salió corriendo. Se volvió el carnicero y viéndole huir y sin poder hacer nada exclamó. Oye amigo, allí donde te encuentre no dejaré de mirarte. No esperes a que suceda un accidente para pensar en cómo evitarlo. Fin de fábula. Esta grabación es de dominio público. Gracias por ver el video.',\n",
              " 'audio26': ' Las fábulas de Esopo Grabado para LibriVox.org por Elochito Fábula número 86 El perro con campanilla Había un perro que acostumbraba a morder sin razón. Le puso su amo una campanilla para advertirle a la gente de su presencia cercana, y el can, sonando la campanilla, se fue a la plaza pública a presumir. Mas una sabia perra, ya avanzada de años, le dijo ¿De qué presumes tanto, amigo? Sé que no llevas esa campanilla por tus grandes virtudes Sino para anunciar tu maldad oculta Los halagos que se hacen a sí mismo, los fanfarrones Sólo delatan sus mayores defectos Fin de la fábula Esta grabación es del dominio público Gracias por ver el video.',\n",
              " 'audio27': ' Las fábulas de Esopo Grabado para LibriVox.org por Elo Chito Fábula número 87 El perro que perseguía al león Un perro de caza se encontró con un león y partió en su persecución. Pero el león se volvió rugiendo, y el perro, todo atemorizado, retrocedió rápidamente por el mismo camino. Le vio una zorra y le dijo, ¡Perro infeliz! Primero perseguías al león y ya ni siquiera soportas sus surgidos. Cuando entres a una empresa, mantente siempre listo a afrontar imprevistos que no te imaginabas. Fin de la fábula. Esta grabación es del dominio público. Gracias.'}"
            ]
          },
          "metadata": {},
          "execution_count": 9
        }
      ]
    },
    {
      "cell_type": "markdown",
      "source": [
        "# **Ejercicio 2b:**"
      ],
      "metadata": {
        "id": "NM0D83j8EWiN"
      }
    },
    {
      "cell_type": "markdown",
      "source": [
        "* #### **Eliminar el inicio y final comunes de los textos extraídos de cada fábula.**\n",
        "\n",
        "* #### **Sugerencia:** Pueden guardar esta información en un archivo tipo JSON, para que al estar probando diferentes opciones en los ejercicios siguientes, puedan recuperar rápidamente la información de cada video/fábula."
      ],
      "metadata": {
        "id": "xiFG5q88EYHU"
      }
    },
    {
      "cell_type": "code",
      "source": [
        "# Incluyan a continuación todas las celdas (de código o texto) que deseen...\n",
        "\n",
        "\n",
        "patron_inicio = re.compile(\n",
        "    r'^\\s*(?:las\\s+f[áa]bulas\\s+de\\s+(?:esopo|sopo)[\\s.,-]*)?'\n",
        "    r'(?:grabado\\s+para\\s+(?:librivox|librevox)\\.org\\s*)'\n",
        "    r'(?:\\s*por\\s+[^.]+\\s*\\.?\\s*)?'\n",
        "    r'(?:www\\.[^\\s]+\\s*)?'\n",
        "    r'f[áa]bula\\s+n[úu]mero\\s*\\d+[\\s.,-]*',\n",
        "    re.IGNORECASE\n",
        ")\n",
        "\n",
        "patron_final = re.compile(\n",
        "    r'\\s*fin\\s+(?:de\\s+(?:la\\s+)?)?f[áa]bula\\b.*$',\n",
        "    re.IGNORECASE\n",
        ")\n",
        "\n",
        "# Procesar cada fábula\n",
        "fabulas_limpias = {}\n",
        "for key, texto in fabulas_raw.items():\n",
        "    # Eliminar patrón inicial\n",
        "    texto_limpio = patron_inicio.sub('', texto, count=1)\n",
        "\n",
        "    # Eliminar patrón final\n",
        "    texto_limpio = patron_final.sub('', texto_limpio)\n",
        "\n",
        "    # Guardar resultado\n",
        "    fabulas_limpias[key] = texto_limpio.strip()\n",
        "\n"
      ],
      "metadata": {
        "id": "KkbeTmeon_RP"
      },
      "execution_count": 10,
      "outputs": []
    },
    {
      "cell_type": "code",
      "source": [
        "fabulas_limpias"
      ],
      "metadata": {
        "id": "rareRWfERTZt",
        "colab": {
          "base_uri": "https://localhost:8080/"
        },
        "outputId": "0ef8dced-c0f6-45cd-b589-c5db0159a097"
      },
      "execution_count": 11,
      "outputs": [
        {
          "output_type": "execute_result",
          "data": {
            "text/plain": [
              "{'audio01': 'El lobo y el cordero en el templo. Dándose cuenta de que era perseguido por un lobo, un pequeño corderito decidió refugiarse en un templo cercano. Lo llamó lobo y le dijo que si el sacrificador lo encontraba allí adentro, lo inmolaría a su dios. Mejor así, replicó el cordero, prefiero ser víctima para un dios a tener que perecer en tus colmillos. Si sin remedio vamos a ser sacrificados, más nos vale que sea con el mayor honor.',\n",
              " 'audio04': 'El lobo y la grulla A un lobo que comía un hueso, se le atragantó el hueso en la garganta y corría por todas partes en busca de auxilio. Encontró en su correa una grulla y le pidió que le salvara de aquella situación, y que enseguida le pagaría por ello. Aceptó la grulla e introdujo su cabeza en la boca del lobo, sacando de la garganta el hueso atravesado Pidió entonces la cancelación de la paga convenida Oye Anida, dijo el lobo, ¿no crees que es suficiente paga con haber sacado tu cabeza sana y salva de mi boca? Nunca hagas favores a malvados, traficantes o corruptos, pues mucha paga tendrías si te dejan sano y salvo',\n",
              " 'audio05': 'El lobo y el caballo. Pasaba un lobo por un sembrado de cebada, pero como no era comida de su gusto, la dejó y siguió su camino. Encontró al rato a un caballo, y le llevó al campo comentándole la gran cantidad de cebada que había hallado, pero que en vez de comérsela a él mejor se la había dejado porque le agradaba más oír el ruido de sus dientes al masticarla pero el caballo le repuso amigo si los lobos comieran cebada no hubieras preferido complacer a tus oídos sino a tu estómago a todo malvado aunque parezca actuar como bueno no debe de creérsele',\n",
              " 'audio06': 'El lobo y el asno. Un lobo fue elegido rey entre sus congéneres y decretó una ley ordenando que lo que cada uno capturase en la casa, lo pusiera en común y lo repartiese por partes iguales entre todos. de esta manera ya no tendrían los lobos que devorarse unos a otros en épocas de hambre pero en eso le escuchó un asno que estaba por ahí cerca y moviendo sus orejas le dijo magnífica idea ha brotado de tu corazón pero ¿por qué has escondido todo tu botín en tu cueva? llévalo a la comunidad y repártelo también como lo has decretado el lobo descubierto y confundido derogó su ley Si alguna vez llegas a tener poder de legislar, sé el primero en cumplir tus propias leyes',\n",
              " 'audio14': 'El lobo y el cabrito encerrado Protegido por la seguridad del corral de una casa, un cabrito vio pasar a un lobo y comenzó a insultarle burlándose ampliamente de él. El lobo serenamente le replicó Infeliz, sé que no eres tú quien me está insultando sino el sitio en que te encuentras Muy a menudo no es el valor sino la ocasión y el lugar quienes proveen el enfrentamiento arrogante ante los poderosos',\n",
              " 'audio22': 'El perro y la almeja Un perro de esos, acostumbrados a comer huevos, al ver una almeja, no lo pensó dos veces, y creyendo que se trataba de un huevo, se la tragó inmediatamente. Desgarradas luego sus entrañas, se sintió muy mal, y se dijo, bien merecido lo tengo por creer que todo lo que veo redondo son huevos nunca tomes un asunto sin antes reflexionar para no entrar luego en extrañas dificultades',\n",
              " 'audio24': 'El perro y el reflejo en el río. Badeaba un perro un río, llevando en su hocico un sabroso pedazo de carne. Vio su propio reflejo en el agua del río, y creyó que aquel reflejo era en realidad otro perro que llevaba un trozo de carne mayor que el suyo. Y deseando adueñarse del pedazo ajeno, soltó el suyo para arrebatar el trozo a su supuesto compadre, pero el resultado fue que se quedó sin el propio y sin el ajeno, este porque no existía, sólo era un reflejo, y el otro, el verdadero, porque se lo llevó a la corriente. Nunca codices el bien ajeno, pues puedes perder lo que ya has adquirido con tu esfuerzo.',\n",
              " 'audio25': 'El perro y el carnicero Penetró un perro en una carnicería y notando que el carnicero estaba muy ocupado con sus clientes, cogió un trozo de carne y salió corriendo. Se volvió el carnicero y viéndole huir y sin poder hacer nada exclamó. Oye amigo, allí donde te encuentre no dejaré de mirarte. No esperes a que suceda un accidente para pensar en cómo evitarlo.',\n",
              " 'audio26': 'El perro con campanilla Había un perro que acostumbraba a morder sin razón. Le puso su amo una campanilla para advertirle a la gente de su presencia cercana, y el can, sonando la campanilla, se fue a la plaza pública a presumir. Mas una sabia perra, ya avanzada de años, le dijo ¿De qué presumes tanto, amigo? Sé que no llevas esa campanilla por tus grandes virtudes Sino para anunciar tu maldad oculta Los halagos que se hacen a sí mismo, los fanfarrones Sólo delatan sus mayores defectos',\n",
              " 'audio27': 'El perro que perseguía al león Un perro de caza se encontró con un león y partió en su persecución. Pero el león se volvió rugiendo, y el perro, todo atemorizado, retrocedió rápidamente por el mismo camino. Le vio una zorra y le dijo, ¡Perro infeliz! Primero perseguías al león y ya ni siquiera soportas sus surgidos. Cuando entres a una empresa, mantente siempre listo a afrontar imprevistos que no te imaginabas.'}"
            ]
          },
          "metadata": {},
          "execution_count": 11
        }
      ]
    },
    {
      "cell_type": "markdown",
      "source": [
        "# **Ejercicio 3:**"
      ],
      "metadata": {
        "id": "6PKaB_Ge0Shc"
      }
    },
    {
      "cell_type": "markdown",
      "source": [
        "* #### **Apliquen el proceso de limpieza que consideren adecuado.**\n",
        "\n",
        "* #### **Justifiquen los pasos de limpieza utilizados. Tomen en cuenta que el texto extraído de cada fábula es relativamente pequeño.**\n",
        "\n",
        "* #### **En caso de que decidan no aplicar esta etapa de limpieza, deberán justificarlo.**"
      ],
      "metadata": {
        "id": "zNrqcQFe0VWR"
      }
    },
    {
      "cell_type": "code",
      "source": [
        "# Incluyan a continuación todas las celdas (de código o texto) que deseen...\n",
        "\n",
        "nltk.download('stopwords')\n",
        "\n",
        "stopwords_es = set(stopwords.words('spanish'))\n",
        "\n",
        "stopwords_extra = {\n",
        "    \"si\", \"allí\", \"así\", \"ello\", \"oye\", \"pues\",\n",
        "    \"sino\", \"sé\",\n",
        "}\n",
        "\n",
        "stopwords_es = stopwords_es.union(stopwords_extra)\n",
        "\n",
        "\n",
        "def limpiar_fabula(texto):\n",
        "    # Eliminamos todo lo que no sean letras\n",
        "    texto = re.sub(r'[^a-zA-ZáéíóúÁÉÍÓÚñÑüÜ]',r' ' , texto).strip().lower()\n",
        "\n",
        "    # Normalización de espacios\n",
        "    texto = re.sub(r'\\s+', ' ', texto)\n",
        "\n",
        "    texto = [tex for tex in texto.split() if tex not in stopwords_es]\n",
        "    return  ' '.join(texto)\n",
        "\n",
        "\n"
      ],
      "metadata": {
        "id": "pqwiCCdpq8D_",
        "colab": {
          "base_uri": "https://localhost:8080/"
        },
        "outputId": "c8e694a7-6aab-444a-de99-3d3b1a8895da"
      },
      "execution_count": 12,
      "outputs": [
        {
          "output_type": "stream",
          "name": "stderr",
          "text": [
            "[nltk_data] Downloading package stopwords to /root/nltk_data...\n",
            "[nltk_data]   Package stopwords is already up-to-date!\n"
          ]
        }
      ]
    },
    {
      "cell_type": "code",
      "source": [
        "fabulas_limpias = {k: limpiar_fabula(v) for k, v in fabulas_limpias.items()}"
      ],
      "metadata": {
        "id": "E7V2kCRJYnBG"
      },
      "execution_count": 13,
      "outputs": []
    },
    {
      "cell_type": "code",
      "source": [
        "fabulas_limpias"
      ],
      "metadata": {
        "id": "21igu-BeYoZ_",
        "colab": {
          "base_uri": "https://localhost:8080/"
        },
        "outputId": "6d6f1514-e2c0-468c-f817-335d3b7a1e00"
      },
      "execution_count": 14,
      "outputs": [
        {
          "output_type": "execute_result",
          "data": {
            "text/plain": [
              "{'audio01': 'lobo cordero templo dándose cuenta perseguido lobo pequeño corderito decidió refugiarse templo cercano llamó lobo dijo sacrificador encontraba adentro inmolaría dios mejor replicó cordero prefiero ser víctima dios tener perecer colmillos remedio vamos ser sacrificados vale mayor honor',\n",
              " 'audio04': 'lobo grulla lobo comía hueso atragantó hueso garganta corría todas partes busca auxilio encontró correa grulla pidió salvara aquella situación enseguida pagaría aceptó grulla introdujo cabeza boca lobo sacando garganta hueso atravesado pidió entonces cancelación paga convenida anida dijo lobo crees suficiente paga haber sacado cabeza sana salva boca nunca hagas favores malvados traficantes corruptos mucha paga dejan sano salvo',\n",
              " 'audio05': 'lobo caballo pasaba lobo sembrado cebada comida gusto dejó siguió camino encontró rato caballo llevó campo comentándole gran cantidad cebada hallado vez comérsela mejor dejado agradaba oír ruido dientes masticarla caballo repuso amigo lobos comieran cebada preferido complacer oídos estómago malvado aunque parezca actuar bueno debe creérsele',\n",
              " 'audio06': 'lobo asno lobo elegido rey congéneres decretó ley ordenando cada capturase casa pusiera común repartiese partes iguales manera lobos devorarse épocas hambre escuchó asno ahí cerca moviendo orejas dijo magnífica idea brotado corazón escondido botín cueva llévalo comunidad repártelo decretado lobo descubierto confundido derogó ley alguna vez llegas tener poder legislar primero cumplir propias leyes',\n",
              " 'audio14': 'lobo cabrito encerrado protegido seguridad corral casa cabrito vio pasar lobo comenzó insultarle burlándose ampliamente lobo serenamente replicó infeliz insultando sitio encuentras menudo valor ocasión lugar proveen enfrentamiento arrogante poderosos',\n",
              " 'audio22': 'perro almeja perro acostumbrados comer huevos ver almeja pensó dos veces creyendo trataba huevo tragó inmediatamente desgarradas luego entrañas sintió mal dijo bien merecido creer veo redondo huevos nunca tomes asunto reflexionar entrar luego extrañas dificultades',\n",
              " 'audio24': 'perro reflejo río badeaba perro río llevando hocico sabroso pedazo carne vio propio reflejo agua río creyó aquel reflejo realidad perro llevaba trozo carne mayor deseando adueñarse pedazo ajeno soltó arrebatar trozo supuesto compadre resultado quedó propio ajeno existía sólo reflejo verdadero llevó corriente nunca codices bien ajeno puedes perder adquirido esfuerzo',\n",
              " 'audio25': 'perro carnicero penetró perro carnicería notando carnicero ocupado clientes cogió trozo carne salió corriendo volvió carnicero viéndole huir poder hacer exclamó amigo encuentre dejaré mirarte esperes suceda accidente pensar cómo evitarlo',\n",
              " 'audio26': 'perro campanilla perro acostumbraba morder razón puso amo campanilla advertirle gente presencia cercana can sonando campanilla plaza pública presumir mas sabia perra avanzada años dijo presumes amigo llevas campanilla grandes virtudes anunciar maldad oculta halagos hacen mismo fanfarrones sólo delatan mayores defectos',\n",
              " 'audio27': 'perro perseguía león perro caza encontró león partió persecución león volvió rugiendo perro atemorizado retrocedió rápidamente mismo camino vio zorra dijo perro infeliz primero perseguías león siquiera soportas surgidos entres empresa mantente siempre listo afrontar imprevistos imaginabas'}"
            ]
          },
          "metadata": {},
          "execution_count": 14
        }
      ]
    },
    {
      "cell_type": "markdown",
      "source": [
        "# **Ejercicio 4:**"
      ],
      "metadata": {
        "id": "i2ywrmsMP_EF"
      }
    },
    {
      "cell_type": "code",
      "source": [
        "# Incluyan a continuación todas las celdas (de código o texto) que deseen...\n",
        "\n",
        "\n",
        "docs = []\n",
        "for key, text in fabulas_limpias.items():\n",
        "    words = text.split()\n",
        "    docs.append(words)\n",
        "\n"
      ],
      "metadata": {
        "id": "-xFpnt0A0Ub7"
      },
      "execution_count": 15,
      "outputs": []
    },
    {
      "cell_type": "code",
      "source": [
        "# Crear el diccionario y el corpus (índice, frecuencia)\n",
        "id2word = corpora.Dictionary(docs)\n",
        "corpus = [id2word.doc2bow(doc) for doc in docs]"
      ],
      "metadata": {
        "id": "XD-fRI8ZcbgV"
      },
      "execution_count": 16,
      "outputs": []
    },
    {
      "cell_type": "code",
      "source": [
        "# Entrenar el modelo LDA\n",
        "lda_model = gensim.models.ldamodel.LdaModel(\n",
        "    corpus=corpus,\n",
        "    id2word=id2word,\n",
        "    num_topics=10,\n",
        "    chunksize=5,\n",
        "    passes=10,\n",
        "    alpha=0.2,\n",
        "    eta=0.2,\n",
        "    random_state=17\n",
        ")\n",
        "\n",
        "topicos = {}\n",
        "for idx, topic in lda_model.show_topics(num_topics=10, num_words=20, formatted=False):\n",
        "    palabras = [palabra for palabra, _ in topic]\n",
        "    topicos[f\"fabula_{idx+1}\"] = palabras\n",
        "    print(f\"Fábula {idx+1}:\")\n",
        "    print(\"Palabras clave:\", palabras)\n",
        "    print()"
      ],
      "metadata": {
        "id": "8e2Pn_YLcdHU",
        "colab": {
          "base_uri": "https://localhost:8080/"
        },
        "outputId": "3ba97bba-0c02-4f80-f883-863fd8bbc24c"
      },
      "execution_count": 17,
      "outputs": [
        {
          "output_type": "stream",
          "name": "stdout",
          "text": [
            "Fábula 1:\n",
            "Palabras clave: ['perro', 'huevos', 'luego', 'almeja', 'bien', 'nunca', 'dijo', 'reflexionar', 'sintió', 'tomes', 'tragó', 'trataba', 'ver', 'veo', 'dos', 'creer', 'pensó', 'redondo', 'veces', 'entrañas']\n",
            "\n",
            "Fábula 2:\n",
            "Palabras clave: ['hueso', 'grulla', 'paga', 'lobo', 'boca', 'pidió', 'cabeza', 'garganta', 'encontró', 'aceptó', 'malvados', 'entonces', 'mucha', 'favores', 'correa', 'dijo', 'sano', 'atragantó', 'haber', 'corría']\n",
            "\n",
            "Fábula 3:\n",
            "Palabras clave: ['campanilla', 'perro', 'dijo', 'carnicero', 'sólo', 'presencia', 'halagos', 'mayores', 'maldad', 'plaza', 'fanfarrones', 'presumes', 'pública', 'puso', 'llevas', 'razón', 'sabia', 'sonando', 'gente', 'perra']\n",
            "\n",
            "Fábula 4:\n",
            "Palabras clave: ['perro', 'león', 'reflejo', 'campanilla', 'ajeno', 'río', 'trozo', 'carne', 'carnicero', 'pedazo', 'propio', 'volvió', 'mismo', 'sólo', 'amigo', 'vio', 'dijo', 'soportas', 'afrontar', 'siempre']\n",
            "\n",
            "Fábula 5:\n",
            "Palabras clave: ['cebada', 'caballo', 'lobo', 'encontró', 'siguió', 'amigo', 'llevó', 'camino', 'oídos', 'campo', 'sembrado', 'malvado', 'dejado', 'ruido', 'aunque', 'estómago', 'actuar', 'hallado', 'complacer', 'creérsele']\n",
            "\n",
            "Fábula 6:\n",
            "Palabras clave: ['poder', 'carnicero', 'perro', 'lobo', 'ley', 'asno', 'dijo', 'encuentre', 'suceda', 'dejaré', 'cómo', 'corriendo', 'penetró', 'clientes', 'carnicería', 'hacer', 'accidente', 'esperes', 'cogió', 'huir']\n",
            "\n",
            "Fábula 7:\n",
            "Palabras clave: ['lobo', 'paga', 'grulla', 'hueso', 'dijo', 'cabrito', 'replicó', 'dios', 'cordero', 'templo', 'ser', 'garganta', 'cabeza', 'pidió', 'boca', 'infeliz', 'encontró', 'vio', 'partes', 'nunca']\n",
            "\n",
            "Fábula 8:\n",
            "Palabras clave: ['lobo', 'cebada', 'caballo', 'lobos', 'vez', 'asno', 'ley', 'encontró', 'camino', 'poder', 'llevó', 'mejor', 'amigo', 'masticarla', 'agradaba', 'gran', 'preferido', 'ruido', 'complacer', 'comentándole']\n",
            "\n",
            "Fábula 9:\n",
            "Palabras clave: ['ser', 'templo', 'cordero', 'lobo', 'víctima', 'cuenta', 'mayor', 'dijo', 'pequeño', 'cercano', 'inmolaría', 'decidió', 'sacrificados', 'tener', 'dándose', 'dios', 'honor', 'adentro', 'mejor', 'perseguido']\n",
            "\n",
            "Fábula 10:\n",
            "Palabras clave: ['amigo', 'camino', 'perro', 'caballo', 'cebada', 'llevó', 'carnicero', 'encontró', 'lobo', 'león', 'creérsele', 'oír', 'cantidad', 'estómago', 'malvado', 'volvió', 'campo', 'gusto', 'siguió', 'hallado']\n",
            "\n"
          ]
        }
      ]
    },
    {
      "cell_type": "markdown",
      "source": [
        "# **Ejercicio 5a y 5b:**"
      ],
      "metadata": {
        "id": "Blrrs1sWwkSx"
      }
    },
    {
      "cell_type": "markdown",
      "source": [
        "* #### **5a: Mediante el LLM que hayan seleccionado, generar un único enunciado que describa o resuma cada fábula.**\n",
        "\n",
        "* #### **5b: Mediante el LLM que hayan seleccionado, generar tres posibles enunciados diferentes relacionados con la historia de la fábula.**\n",
        "\n",
        "* #### **Sugerencia:** En realidad los dos incisos a y b se pueden obtener con un solo prompt que solicite la información y el formato correspondiente para cada una de estas partes. Por ejemplo, para cada fábula la salida puede ser un primer enunciado genérico que resume o describe dicha temática; seguido de tres enunciados, cada uno hablando sobre una situación o parte diferente de la fábula."
      ],
      "metadata": {
        "id": "gWvzQ-aNwsVk"
      }
    },
    {
      "cell_type": "code",
      "source": [
        "# Incluyan a continuación todas las celdas (de código o texto) que deseen...\n",
        "\n",
        "modelo_llm_id = \"mistralai/Mistral-7B-Instruct-v0.2\"\n",
        "\n",
        "tokenizer = AutoTokenizer.from_pretrained(modelo_llm_id)\n",
        "\n",
        "quant_config = BitsAndBytesConfig(\n",
        "    load_in_4bit=True,\n",
        "    bnb_4bit_compute_dtype=torch.float16,\n",
        "    bnb_4bit_use_double_quant=True,\n",
        "    bnb_4bit_quant_type=\"nf4\"\n",
        ")\n",
        "\n",
        "modelo_llm = AutoModelForCausalLM.from_pretrained(\n",
        "    modelo_llm_id,\n",
        "    quantization_config=quant_config,\n",
        "    device_map=\"auto\"\n",
        ")\n",
        "\n",
        "text_generator = pipeline(\n",
        "    \"text-generation\",\n",
        "    model=modelo_llm,\n",
        "    tokenizer=tokenizer\n",
        ")"
      ],
      "metadata": {
        "id": "Q9UkVPxM0Xii",
        "colab": {
          "base_uri": "https://localhost:8080/",
          "height": 226,
          "referenced_widgets": [
            "d3b04d5133c44bab9d7305f6574c63ca",
            "b96455ecdeed42f08dea581da7c17865",
            "b5e50599ec6745caa07a377b0417a9f8",
            "4853b7cb345d47fea22cb4bbd42a1946",
            "964dd90b9257480aa728440b20427ef9",
            "280be0de2fa34d83a7ec40689278a5f9",
            "549649b281c64d869b0ccb05e1cba14c",
            "24b7b6ecd305415496539a2d45494966",
            "398200866ad046759d27b9a2c9a088aa",
            "db0d22556a3d4ae1984901cfebb931ec",
            "684a9168d8ee4c6babdfa77f987eeddd",
            "4e1bcb57bd9b4683b20fa43c3d4bb059",
            "4c0b2cbd83244a4a8fc81fac41405441",
            "306a8af7342c426284b948fae663d47c",
            "41e5da2889c8497ea5dc7970c08cd495",
            "e690064555f642f4980681c11fccdc0b",
            "8c7c996bcbe340f3af02eb202b9a763b",
            "4d8c2e45511e4da380b74591d972b38a",
            "a2f6338d8bb141c9bc69aebb2e892756",
            "bfba985f05854e65b1d21c87a8a37a17",
            "f0ca5cadfd4a4f05aabc20b4960e94b6",
            "bdc40093980645eaa931c388e0f5607d",
            "4bdc6f3767c64b7c8e886f87336c2542",
            "ac4ec5d185dc40fe9085871d950fe5a2",
            "781e18d3cd7f40cc93df9f2e272161ef",
            "d8b876ada1cd4c5aa2cb3d02d737bbcf",
            "64f7317163e74e958283df13970f3fb4",
            "2bae4cbeb2df48219ee1109f1d893057",
            "8b3a56bb04054e3486586217c8314aa8",
            "c652de9ef249491b9a38bd6dd4bc4176",
            "595fc52a0c96454fa3f4c96dace9fa09",
            "741ab896bbdd47dfa5d18e373d3ff7ce",
            "6e4340aeb00c46e09e12f02b1dba8fb4",
            "dc8292f3415b4751bfcb9f86379f17ab",
            "e7c68f8ea4e24ed4a1171d367fe43b80",
            "b7e4abe4b7d34137a712b703fdcf11e9",
            "166bdb78cb844bd6b5f60231101b3688",
            "efe974d076a24fa786a9b3ee5fcb0288",
            "a69a60903f0846d9aff2180de9dd3391",
            "b1418728b10d45239933cbe0f8dbf79c",
            "a175453f1b5d41bba673e2b4eef32329",
            "f7e15b598ad243458f044e45d5a12021",
            "34e5889aabdf48d5a5660a7c35abef09",
            "39a0248d64b548a18842ea3c80b3aded",
            "fcb89d8e59ec4373811012801b5f18b7",
            "24df94705f2241689cd6354706a806d0",
            "dc03f1cc71f84859aa54fb4c96b9c07d",
            "3340d798996d4de2a236feccab4ac1dc",
            "4ee7a82d2c884f31ba951ff248773e4b",
            "a96b01ee0f0649428c16f6da96044bca",
            "72306ba9e1e2436da1aa36f80dc11a2a",
            "a7e5ff6baa4e4ac2a7e8bac73e369e3c",
            "039a66417f664a32abc15740fbefd07b",
            "a0928b55f2b445bebf2e237594c519d0",
            "9464c12c041a43a8ad98f22c2204dde5",
            "50555905006743d5b6b9107e08f8b4e0",
            "056ff4a5630445699a1a4e13a10bc178",
            "a06fccaf21fb45cab6a0c513588eccc1",
            "e1d44d372de14f509f13eeb0f80eb275",
            "0cf9e01d15564ed3bfac12de52d6039e",
            "0a14b6af42a24ef897a8ae3e1addea6f",
            "c7999ad6d787475c83b840378e3081a7",
            "17821d77fb684055b0becd2743c2a1f1",
            "c60db0dda9094742b4508872fa720275",
            "049158ef91d143ffb3ce7256e4714218",
            "a5722a22795f443fbe92608a27455252"
          ]
        },
        "outputId": "eca6d222-9274-4a68-8bf0-9fe0a78f7a18"
      },
      "execution_count": 18,
      "outputs": [
        {
          "output_type": "display_data",
          "data": {
            "text/plain": [
              "Fetching 3 files:   0%|          | 0/3 [00:00<?, ?it/s]"
            ],
            "application/vnd.jupyter.widget-view+json": {
              "version_major": 2,
              "version_minor": 0,
              "model_id": "d3b04d5133c44bab9d7305f6574c63ca"
            }
          },
          "metadata": {}
        },
        {
          "output_type": "display_data",
          "data": {
            "text/plain": [
              "model-00001-of-00003.safetensors:  45%|####4     | 3.98G/8.92G [00:00<?, ?B/s]"
            ],
            "application/vnd.jupyter.widget-view+json": {
              "version_major": 2,
              "version_minor": 0,
              "model_id": "4e1bcb57bd9b4683b20fa43c3d4bb059"
            }
          },
          "metadata": {}
        },
        {
          "output_type": "display_data",
          "data": {
            "text/plain": [
              "model-00002-of-00003.safetensors:  47%|####6     | 4.39G/9.39G [00:00<?, ?B/s]"
            ],
            "application/vnd.jupyter.widget-view+json": {
              "version_major": 2,
              "version_minor": 0,
              "model_id": "4bdc6f3767c64b7c8e886f87336c2542"
            }
          },
          "metadata": {}
        },
        {
          "output_type": "display_data",
          "data": {
            "text/plain": [
              "model-00003-of-00003.safetensors:  49%|####9     | 4.40G/8.94G [00:00<?, ?B/s]"
            ],
            "application/vnd.jupyter.widget-view+json": {
              "version_major": 2,
              "version_minor": 0,
              "model_id": "dc8292f3415b4751bfcb9f86379f17ab"
            }
          },
          "metadata": {}
        },
        {
          "output_type": "display_data",
          "data": {
            "text/plain": [
              "Loading checkpoint shards:   0%|          | 0/3 [00:00<?, ?it/s]"
            ],
            "application/vnd.jupyter.widget-view+json": {
              "version_major": 2,
              "version_minor": 0,
              "model_id": "fcb89d8e59ec4373811012801b5f18b7"
            }
          },
          "metadata": {}
        },
        {
          "output_type": "display_data",
          "data": {
            "text/plain": [
              "generation_config.json:   0%|          | 0.00/111 [00:00<?, ?B/s]"
            ],
            "application/vnd.jupyter.widget-view+json": {
              "version_major": 2,
              "version_minor": 0,
              "model_id": "50555905006743d5b6b9107e08f8b4e0"
            }
          },
          "metadata": {}
        },
        {
          "output_type": "stream",
          "name": "stderr",
          "text": [
            "Device set to use cuda:0\n"
          ]
        }
      ]
    },
    {
      "cell_type": "code",
      "source": [
        "resultados_fabulas = {}\n",
        "\n",
        "for clave, palabras in topicos.items():\n",
        "    palabras_str = ', '.join(palabras[:20])\n",
        "\n",
        "    prompt = (\n",
        "    f\"Palabras clave: {palabras_str}.\\n\\n\"\n",
        "    \"Con base en estas palabras clave, describe en español la fábula de Esopo a la que pertenece. \"\n",
        "    \"Primero incluye un resumen en un solo enunciado. Después, escribe tres subtemas como enseñanzas o moralejas, numeradas del 1 al 3.\"\n",
        ")\n",
        "\n",
        "    resultado = text_generator(\n",
        "        prompt,\n",
        "        max_new_tokens=500,\n",
        "        do_sample=True,\n",
        "        temperature=0.7,\n",
        "        top_p=0.9\n",
        "    )[0][\"generated_text\"]\n",
        "\n",
        "    resultado = resultado.replace(prompt, '').strip()\n",
        "\n",
        "    resultados_fabulas[clave] = resultado\n"
      ],
      "metadata": {
        "id": "DzgtasBd874Y",
        "colab": {
          "base_uri": "https://localhost:8080/"
        },
        "outputId": "77af59ff-72b0-4f65-f255-f1eca27861de"
      },
      "execution_count": 19,
      "outputs": [
        {
          "output_type": "stream",
          "name": "stderr",
          "text": [
            "Setting `pad_token_id` to `eos_token_id`:2 for open-end generation.\n",
            "Setting `pad_token_id` to `eos_token_id`:2 for open-end generation.\n",
            "Setting `pad_token_id` to `eos_token_id`:2 for open-end generation.\n",
            "Setting `pad_token_id` to `eos_token_id`:2 for open-end generation.\n",
            "Setting `pad_token_id` to `eos_token_id`:2 for open-end generation.\n",
            "Setting `pad_token_id` to `eos_token_id`:2 for open-end generation.\n",
            "Setting `pad_token_id` to `eos_token_id`:2 for open-end generation.\n",
            "Setting `pad_token_id` to `eos_token_id`:2 for open-end generation.\n",
            "Setting `pad_token_id` to `eos_token_id`:2 for open-end generation.\n",
            "Setting `pad_token_id` to `eos_token_id`:2 for open-end generation.\n"
          ]
        }
      ]
    },
    {
      "cell_type": "code",
      "source": [
        "for clave, texto in resultados_fabulas.items():\n",
        "    print(f\"\\nFÁBULA: {clave}\")\n",
        "    print(\"-\" * 50)\n",
        "    print(texto)\n",
        "    print(\"\\n\" + \"=\" * 50)\n"
      ],
      "metadata": {
        "id": "Y22bix09Vhxc",
        "colab": {
          "base_uri": "https://localhost:8080/"
        },
        "outputId": "656318d7-db89-42b5-a9d3-19982528db7c"
      },
      "execution_count": 20,
      "outputs": [
        {
          "output_type": "stream",
          "name": "stdout",
          "text": [
            "\n",
            "FÁBULA: fabula_1\n",
            "--------------------------------------------------\n",
            "Resumen:\n",
            "La fábula de \"El Perro y los Huevos\" es una de las más conocidas de Esopo. La historia gira alrededor de un perro astuto y un huevo engordado. Un perro se enorgullece de sus habilidades y promete dos huevos a un almeja en cambio de su caracol. Cuando el perro se da cuenta de que no puede cumplir su promesa, se arrepiente y reflexiona sobre cómo su orgullo le costó caro.\n",
            "\n",
            "Subtema 1:\n",
            "La orgullosa confianza en sí mismo puede llevar a la ruina. (La lección de la almeja: no confiar en las apariencias y planear a largo plazo.)\n",
            "\n",
            "Subtema 2:\n",
            "El cumplimiento de una promesa es importante y debe ser tomado seriamente. (La lección del perro: pensar antes de hablar y no prometer más de lo que se puede hacer.)\n",
            "\n",
            "Subtema 3:\n",
            "La reflexión y la introspección son valiosas para aprender de nuestros errores. (La lección del perro: sintiéndose arrepentido, el perro aprendió una lección importante que le sirvió para crecer.)\n",
            "\n",
            "La fábula completa:\n",
            "\n",
            "La fábula de \"El Perro y los Huevos\" es una de las más famosas de Esopo. Una vez había un perro que vivía en una granja. Este perro era muy astuto y orgulloso de su inteligencia. Un día, mientras caminaba por el río, encontró a una almeja. La almeja tenía un gran caracol y el perro le pidió: \"Dame dos huevos y te daré lo que quieras.\" La almeja, creyendo que el perro estaba bromeando, le dio dos huevos. Pero el perro no sabía cómo obtenerlos, ya que no podía tragarlos ni ponerlos en un nido. Cuando el per\n",
            "\n",
            "==================================================\n",
            "\n",
            "FÁBULA: fabula_2\n",
            "--------------------------------------------------\n",
            "Resumen: La Grulla, una ave sabia, le pregunta al Hueso, un hueso maldito que habla, si conoce a alguien que le pueda dar favores y le permitirá pasar por un estrecho pasaje. El Hueso menciona a Paga, un pago sano que vive en una corriente rápida y le ofrece muchos favores si la Grulla lo ayuda a entrar en el pasaje. La Grulla se da cuenta de que Paga solo habla y no puede cumplir sus promesas y decide no aceptar sus favores. Entonces, el Hueso le advierte que si la Grulla no lo ayuda, el malvado Lobo lo encontrará y lo atragantará en su garganta. Temiendo por su propia seguridad, la Grulla decide aceptar los favores de Paga y lo ayuda a pasar. Sin embargo, cuando el Lobo aparece, Paga no puede cumplir sus promesas y la Grulla queda atrapada en el pasaje.\n",
            "\n",
            "1. La Grulla aprendió que no debía confiar en las promesas de los que no tenían la capacidad de cumplirlas.\n",
            "2. El Hueso advirtió a la Grulla sobre el peligro que representaba el Lobo, enseñándole a ser vigilante y temer a los malos.\n",
            "3. La Grulla descubrió que aceptar favores de las personas inútiles puede llevar a una situación desagradable.\n",
            "\n",
            "Descripción: La fábula de Esopo titulada \"La Grulla y el Hueso\" es una historia que enseña a los oyentes la importancia de la honestidad y la prudencia. Una vez, la sabia Grulla, un día, se encontró con el Hueso, un hueso maldito que hablaba, y le preguntó si conocía a alguien que le permitiría pasar por un estrecho pasaje\n",
            "\n",
            "==================================================\n",
            "\n",
            "FÁBULA: fabula_3\n",
            "--------------------------------------------------\n",
            "Resumen:\n",
            "La Campanilla, una perra sabia y cariñosa, avisaba a los mayores de la presencia de los fanfarrones malditos que se acercaban a la plaza. Un carnicero, presumiendo de su presencia pública, se burló de ella y la llamó perra. La Campanilla respondió que era solo una perra, pero que sabía que el carnicero era un fanfarrón y que su maldad iba a ser su ruina. Cuando los fanfarrones llegaron, el carnicero se burló de ellos, pero pronto se arrepintió cuando se vieron obligados a pagar una multa pública.\n",
            "\n",
            "Subtema 1:\n",
            "La inteligencia y la sabiduría de una perra llamada Campanilla fueron cruciales para advertir a los mayores de la llegada de los fanfarrones malos. Aunque era una perra, era sabia y cariñosa, y su presencia era una protección para la comunidad.\n",
            "\n",
            "Subtema 2:\n",
            "El carnicero, presumiendo de su importancia pública, se burló de la Campanilla y se equivocó al creer que sus malas acciones serían despreciadas. Sin embargo, la justicia pública le enseñó una dura lección al hacerle pagar una multa por sus burlas.\n",
            "\n",
            "Subtema 3:\n",
            "La Campanilla, a pesar de ser una perra, era más inteligente y sabia que el carnicero. Su humildad y sabiduría la hicieron respetada y valiosa para la comunidad, encontrando la importancia en ser útil y amable a los demás.\n",
            "\n",
            "==================================================\n",
            "\n",
            "FÁBULA: fabula_4\n",
            "--------------------------------------------------\n",
            "Resumen: La fábula de Esopo \"El Perro y el León\" trata sobre un perro que se acuesta junto a un león herido y lesionado en el río. El león, inicialmente temeroso, se relaja con el perro y se convierten en amigos. Sin embargo, cuando el león está mejor, vuelve a su naturaleza salvaje y amenaza de matar al perro. El perro, recordando el reflejo de su amistad en el río, se enfrenta con valor al león.\n",
            "\n",
            "1. La primera enseñanza de esta fábula es que las apariencias engañan. El león, grande y peligroso por su naturaleza, se transforma en amigo del perro debido a su estado de vulnerabilidad. A veces, las personas que parecen peligrosas o desagradables pueden ser amigables y bondadosas en realidad.\n",
            "\n",
            "2. La segunda enseñanza es que las experiencias compartidas crean lazos de amistad. El perro y el león se convierten en amigos al compartir el espacio en el río y apoyarse mutuamente en momentos difíciles. La compartición de experiencias y momentos importantes puede fortalecer las relaciones y crear lazos duraderos.\n",
            "\n",
            "3. La tercera enseñanza es que el recuerdo de las buenas experiencias puede fortalecer a una persona en momentos difíciles. El perro se enfrenta con valor al león recordando la amistad que compartieron en el río. Los recuerdos de las buenas experiencias pueden darle fuerza y confianza a una persona para enfrentar las dificultades de la vida.\n",
            "\n",
            "==================================================\n",
            "\n",
            "FÁBULA: fabula_5\n",
            "--------------------------------------------------\n",
            "Resumen: Una vez, un caballo encontró a una cebada que estaba oculta en un campo, pero un lobo la descubrió y la comió. Cuando el caballo se quejó con su amigo, el burro, sobre lo sucedido, el burro le preguntó si había seguido los caminos bien y si había utilizado sus oídos para escuchar posibles ruidos de peligro antes de comer la cebada.\n",
            "\n",
            "1. La importancia de ser cauteloso y no actuar sin pensar en las consecuencias.\n",
            "2. La necesidad de utilizar todos los sentidos para evaluar situaciones potencialmente peligrosas.\n",
            "3. La importancia de ser amigo de quienes te adviertan sobre peligros.\n",
            "\n",
            "Fábula: Una vez, en un campo, un caballo descubrió una cebada oculta entre las hierbas. El caballo se emocionó al ver la cebada y, sin pensar en lo que podría estarle sucediendo alrededor, se comió la cebada. Sin embargo, su felicidad fue corta, ya que un lobo que se encontraba en el campo los oía y rondaba a los alrededores. El lobo, con sus ojos brillantes y hambriento, descubrió al caballo comiendo la cebada. El lobo, temerario y malvado, corrió hacia el caballo y lo dejó sin comida.\n",
            "\n",
            "El caballo, dolorido y enojado, se reunió con su amigo el burro. El caballo le contó a su amigo lo que había pasado y se quejó de que la cebada le había sido arrebatada por el lobo. El burro, sabio y prudente, le preguntó al caballo si había seguido el camino correcto y si había utilizado sus oídos para escuchar posibles ruidos de peligro antes de comer la cebada. El caballo se arrepintió de su imprudencia y se dio cuenta de que el burro era un buen amigo que lo\n",
            "\n",
            "==================================================\n",
            "\n",
            "FÁBULA: fabula_6\n",
            "--------------------------------------------------\n",
            "Resumen:\n",
            "Esopo, el sabio, relata la historia de un poderoso carnicero que tenía un perro y un lobo como mascotas. Un día, el carnicero dejó a los animales corriendo en la carnicería mientras él iba a la casa de una cliente. El lobo penetró en la carnicería y mató a todos los animales que encontró. Cuando el carnicero regresó, encontró a sus muertos animales y dijo: \"Quien soy yo para dejarles correr a vosotros cuando me he ido?\". Entonces, el perro dijo: \"Tú, amo, eres el carnicero, y debes esperar a que algo suceda antes de dejarte a tus animales correr\".\n",
            "\n",
            "Subtemas:\n",
            "\n",
            "1. La imprudencia y la consecuencia: El carnicero deja a sus animales corriendo en la carnicería, lo que lleva a la muerte de todos ellos.\n",
            "2. El conocimiento y el poder: El perro, que no tiene poder físico, da consejo a su amo y salva su negocio.\n",
            "3. La prudencia y la prevención: El carnicero aprende una lección valiosa y deja de dejar a sus animales correr hasta que es seguro.\n",
            "\n",
            "Fábula completa:\n",
            "Esopo, el sabio, contaba una vez una historia de un poderoso carnicero que vivía en una aldea. Éste tenía dos mascotas: un perro y un lobo. El carnicero era un hombre fuerte y valiente, pero a veces olvidaba que la prudencia era más importante que el poder.\n",
            "\n",
            "Una tarde, el carnicero tuvo que atender una urgente llamada de una cliente. Aunque sabía que dejar a sus animales corriendo en la carnicería era peligroso, se despreocupó y se fue. Mientras él estaba fuera, el lobo, que era más fuerte y más inteligente que el perro\n",
            "\n",
            "==================================================\n",
            "\n",
            "FÁBULA: fabula_7\n",
            "--------------------------------------------------\n",
            "1. Una vez había un lobo que se disfrazó de oveja para engañar a las ovejas y comerlas. Pero una garganta de oveja llamada Grulla se dio cuenta de su truco y le pidió que se mostrase su cabeza. El lobo, infeliz, pidió permiso para ir al templo y le dio su cabeza a la oveja, quien la guardó hasta que volvió. Cuando el lobo regresó, encontró su cabeza en la boca de Grulla y huyó corriendo.\n",
            "\n",
            "2. (Moralía 1) El truco del lobo no funcionó porque Grulla era inteligente y sabia distinguir entre amigo y enemigo.\n",
            "3. (Moralía 2) La apariencia es engañosa, y uno no debe juzgar a alguien por su aspecto exterior.\n",
            "4. (Moralía 3) La astucia y la inteligencia son herramientas valiosas para sobrevivir y superar a los adversarios.\n",
            "\n",
            "Subtemas:\n",
            "1. La astucia de la oveja Grulla\n",
            "2. La apariencia engañosa del lobo\n",
            "3. La inteligencia y astucia de Grulla como herramientas de supervivencia.\n",
            "\n",
            "La fábula de Esopo \"El lobo y la oveja\": Una oveja inteligente llamada Grulla se dio cuenta de que un lobo se había disfrazado de oveja para engañarlas y comerlas. Grulla, sabia y astuta, le pidió que se mostrase su cabeza para comprobar su identidad. El lobo, decepcionado, pidió permiso para ir al templo y le dio su cabeza a Grulla. Cuando regresó, encontró su cabeza en la boca de Grulla y huyó corriendo.\n",
            "\n",
            "1. La astucia de la oveja Grulla: Grulla, con su inteligencia y astucia, fue\n",
            "\n",
            "==================================================\n",
            "\n",
            "FÁBULA: fabula_8\n",
            "--------------------------------------------------\n",
            "1. Una vez, un lobo engañó a un burro y lo hizo trabajar duro en el campo de cebada, mientras él comía y se reposaba. Cuando el burro se quejó, el lobo le dijo que la cebada solo podría ser molida si estaba en el camino y se masticaba. Cuando el burro se cansó, el lobo llevó la cebada al molino y la volvió a traer para comer.\n",
            "2. (Subtema 1) La enseñanza de esta historia es que los débiles son a menudo engañados por los fuertes y trabajan para ellos sin saberlo.\n",
            "3. (Subtema 2) El segundo subtema de la fábula es que el trabajo duro no siempre conduce a un resultado deseable, especialmente cuando la gente no es honesta con nosotros.\n",
            "4. (Subtema 3) El tercer subtema es que es mejor tener un amigo leal que un enemigo aparentemente amigo.\n",
            "\n",
            "El lobo engañó al burro engañando su inteligencia. El burro, en su deseo de aprovechar el conocimiento del lobo, trabajó duro en el campo de cebada, mientras que el lobo se reposaba y comía. Cuando el burro se quejó, el lobo le dijo que la cebada solo podía ser molida si estaba en el camino y se masticaba. Al final, el burro se cansó y el lobo llevó la cebada al molino y la volvió a traer para comer.\n",
            "\n",
            "1. La lección principal de esta historia es que los débiles son a menudo engañados por los fuertes y trabajan para ellos sin saberlo. (Subtema 1)\n",
            "2. El segundo subtema de la fábula es que el trabajo duro no siempre conduce a un resultado deseable, especialmente cuando la gente no es honesta con nosotros. (Subtema 2)\n",
            "\n",
            "==================================================\n",
            "\n",
            "FÁBULA: fabula_9\n",
            "--------------------------------------------------\n",
            "Resumen:\n",
            "El sabio Esopo relata la historia de un ser que era un cordero inocente, que vivía en un templo consagrado a Dios. Un lobo, que era perseguido por otros lobos por ser el mayor y más fuerte, se aprovechó de la inocencia del cordero y lo engulló. Cuando el lobo entró al templo, se le acercó un pequeño, que lo reprochó por su inmoralidad y decidió sacrificarlo en honor a Dios. El lobo, temiendo por su vida, decidió devolver a la víctima y huir.\n",
            "\n",
            "Subtema 1:\n",
            "La inocencia y la fe son vulnerables y deben ser protegidas. (El cordero era inocente y confiaba en estar seguro dentro del templo consagrado a Dios, pero fue atacado por el lobo.)\n",
            "\n",
            "Subtema 2:\n",
            "El poder y la fuerza no justifican la crueldad y la inmoralidad. (El lobo era el mayor y más fuerte entre sus congéneres, pero usó su poder para cometer una inmoralidad.)\n",
            "\n",
            "Subtema 3:\n",
            "La justicia y el honor son más importantes que la vida propia. (El pequeño, que era un sacerdote del templo, decidió sacrificar al lobo en honor a Dios y su justicia, en lugar de temer por su propia seguridad.)\n",
            "\n",
            "==================================================\n",
            "\n",
            "FÁBULA: fabula_10\n",
            "--------------------------------------------------\n",
            "Resumen:\n",
            "Un amigo llevó a otro amigo su perro y su caballo a pasar el verano en el campo, donde se alimentaban de cebada. El caminero, sin embargo, se detuvo en un pueblo por unos días. Al regresar, encontró que el perro y el caballo habían ido al pueblo, donde el carnicero los había matado y servido a sus clientes. El amigo creyó que era una broma y se fue a buscar a su otro amigo. Al llegar, encontró a su amigo con el estómago lleno de carne, disfrutando de la cena. El amigo se enfureció y se fue. Luego, el amigo encontró a un lobo y a un león, que le contaron que el carnicero había matado a su perro y caballo y lo habían comido. El amigo volvió a su amigo y le dijo la verdad. El amigo malvado, en cambio, no creyó la historia y continuó comiendo la carne. Más tarde, el amigo fue atacado por el lobo y el león, que se habían enojado porque había mentido sobre la muerte de sus amigos.\n",
            "\n",
            "Subtema 1: La confianza y la lealtad en los amigos\n",
            "La historia de Esopo \"El Amigo y el Perro\" enseña la importancia de la confianza y la lealtad en la amistad. Los amigos se confían mutuamente y deben estar dispuestos a protegerse mutuamente. Cuando uno de los amigos regresa de un viaje y descubre que sus animales han sido asesinados, debe creer en la verdad de su amigo antes de creer en las palabras de otros. La falta de confianza y lealtad puede causar la ruina de una amistad.\n",
            "\n",
            "Subtema 2: La importancia de la comunicación honesta\n",
            "La historia de Esopo \"El Amigo y el Perro\" también enseña la importancia de la comunicación honest\n",
            "\n",
            "==================================================\n"
          ]
        }
      ]
    },
    {
      "cell_type": "markdown",
      "source": [
        "# **Ejercicio 6:**"
      ],
      "metadata": {
        "id": "Kx-dZSFJz9cK"
      }
    },
    {
      "cell_type": "markdown",
      "source": [
        "* #### **Incluyan sus conclusiones de la actividad audio-a-texto:**\n",
        "\n",
        "La actividad permitió aplicar un flujo completo de procesamiento de lenguaje natural (NLP). Se inició con la transcripción de archivos de audio de las fábulas de Esopo y finalizó con la generación de resúmenes temáticos. Todo el proceso permitió comprender el potencial de los modelos actuales para el análisis de contenido de audio.\n",
        "\n",
        "Se utilizaron dos enfoques para la conversión de audio a texto: la mayoría de los audios fueron transcritos utilizando la API de Google Speech Recognition, pero debido a que en algunos de los casos se generaban textos incompletos, se trabajó también con el modelo Wav2Vec2 de Facebook (entrenada para el idioma español), el cual resultó ser una alternativa eficaz. Este desafío enfatizó la necesidad de adaptabilidad técnica en proyectos de NLP.\n",
        "\n",
        "Aunque las fábulas eran breves, se aplicaron procesos de limpieza, como la eliminación de stopwords, tildes y signos innecesarios. Este paso aseguró una entrada adecuada para los modelos de tópicos y a los LLM, mejorando así la coherencia y la calidad de los resultados.\n",
        "\n",
        "La aplicación del modelo LDA permitió extraer palabras clave relevantes por cada fábula, y demostró cómo los modelos probabilísticos pueden capturar tópicos dominantes aún en textos pequeños.\n",
        "\n",
        "Se decidió utilizar el modelo GPT-4o-mini, el cual generó descripciones sintéticas y subtemas para cada fábula, poniendo en evidencia la capacidad de los modelos de lenguaje para interpretar contextos y generar contenidos coherentes.\n",
        "\n",
        "Esta actividad no solo permitió aplicar técnicas avanzadas de PLN, sino también nos permitió reflexionar sobre las decisiones críticas del preprocesamiento y selección de modelos. La capacidad de ajustar herramientas según los desafíos de los datos, como por ejemplo, la calidad del audio o la complejidad del lenguaje fue un aprendizaje esencial."
      ],
      "metadata": {
        "id": "3w3usdaC0BCj"
      }
    },
    {
      "cell_type": "markdown",
      "source": [
        "# **Fin de la actividad LDA y LMM: audio-a-texto**"
      ],
      "metadata": {
        "id": "CtB5Q3m41YQ0"
      }
    }
  ]
}