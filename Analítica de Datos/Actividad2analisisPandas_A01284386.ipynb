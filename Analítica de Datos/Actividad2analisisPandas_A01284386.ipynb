{
  "cells": [
    {
      "cell_type": "markdown",
      "metadata": {
        "id": "SML-04QQLd9l"
      },
      "source": [
        "**MAESTRÍA EN INTELIGENCIA ARTIFICIAL APLICADA**\n",
        "\n",
        "**Curso: TC4029 - Ciencia y analítica de datos**\n",
        "\n",
        "Tecnológico de Monterrey\n",
        "\n",
        "Prof Grettel Barceló Alonso\n",
        "\n",
        "**Semana 2**\n",
        "Pandas para el análisis de datos en Python\n",
        "\n",
        "---"
      ]
    },
    {
      "cell_type": "markdown",
      "metadata": {
        "id": "6q35__bSBB3G"
      },
      "source": [
        "*   NOMBRE: Javier Alejandro Pérez Garza\n",
        "*   MATRÍCULA: A01284386\n"
      ]
    },
    {
      "cell_type": "markdown",
      "metadata": {
        "id": "AepY3wwtDXkc"
      },
      "source": [
        "---"
      ]
    },
    {
      "cell_type": "markdown",
      "metadata": {
        "id": "BumCtObqBqGr"
      },
      "source": [
        "En esta actividad usarás el archivo de datos `LaqnData.csv`. Cada fila de este conjunto de datos muestra un registro de medición, por hora, de uno de los siguientes cinco contaminantes del aire:\n",
        "\n",
        "*   `NO` (óxido nítrico)\n",
        "*   `NO2` (dióxido de nitrógeno)\n",
        "*   `NOX` (óxidos nitrosos)\n",
        "*   `PM10` (partículas suspendidas con un diámetro aerodinámico igual o menor a 10 micrómetros)\n",
        "*   `PM2.5` (partículas suspendidas con un diámetro aerodinámico igual o menor a 2.5 micrómetros)\n",
        "\n",
        "Los datos se recopilaron en una ubicación de Londres durante todo el año 2017.\n",
        "\n",
        "**NOTA IMPORTANTE:** Asegúrate de responder *explícitamente* todos los cuestionamientos.\n"
      ]
    },
    {
      "cell_type": "markdown",
      "metadata": {
        "id": "mqtTwAL3Mr44"
      },
      "source": [
        "1.\tDescarga el archivo: `LaqnData.csv` y guarda, en un dataframe (`air_df`), todos sus registros.\n",
        "*   Observa la estructura y contenido del dataframe con los atributos y métodos estudiados (`shape`, `columns`, `head()`, `tail()`, `dtypes`)"
      ]
    },
    {
      "cell_type": "code",
      "execution_count": 78,
      "metadata": {
        "id": "F5JognteLaJV"
      },
      "outputs": [],
      "source": [
        "import pandas as pd\n",
        "#Observar la estructura del DataFrame\n",
        "csv_path = 'LaqnData.csv'\n",
        "air_df = pd.read_csv(csv_path) #Llamar csv"
      ]
    },
    {
      "cell_type": "code",
      "execution_count": 79,
      "metadata": {},
      "outputs": [
        {
          "data": {
            "text/plain": [
              "(43800, 6)"
            ]
          },
          "execution_count": 79,
          "metadata": {},
          "output_type": "execute_result"
        }
      ],
      "source": [
        "air_df.shape #Tamaño del DataFrame"
      ]
    },
    {
      "cell_type": "code",
      "execution_count": 80,
      "metadata": {},
      "outputs": [
        {
          "data": {
            "text/plain": [
              "Index(['Site', 'Species', 'ReadingDateTime', 'Value', 'Units',\n",
              "       'Provisional or Ratified'],\n",
              "      dtype='object')"
            ]
          },
          "execution_count": 80,
          "metadata": {},
          "output_type": "execute_result"
        }
      ],
      "source": [
        "air_df.columns #Etiquetas de las columnas del DataFrame\n"
      ]
    },
    {
      "cell_type": "code",
      "execution_count": 81,
      "metadata": {},
      "outputs": [
        {
          "data": {
            "text/html": [
              "<div>\n",
              "<style scoped>\n",
              "    .dataframe tbody tr th:only-of-type {\n",
              "        vertical-align: middle;\n",
              "    }\n",
              "\n",
              "    .dataframe tbody tr th {\n",
              "        vertical-align: top;\n",
              "    }\n",
              "\n",
              "    .dataframe thead th {\n",
              "        text-align: right;\n",
              "    }\n",
              "</style>\n",
              "<table border=\"1\" class=\"dataframe\">\n",
              "  <thead>\n",
              "    <tr style=\"text-align: right;\">\n",
              "      <th></th>\n",
              "      <th>Site</th>\n",
              "      <th>Species</th>\n",
              "      <th>ReadingDateTime</th>\n",
              "      <th>Value</th>\n",
              "      <th>Units</th>\n",
              "      <th>Provisional or Ratified</th>\n",
              "    </tr>\n",
              "  </thead>\n",
              "  <tbody>\n",
              "    <tr>\n",
              "      <th>0</th>\n",
              "      <td>CT3</td>\n",
              "      <td>NO</td>\n",
              "      <td>01/01/2017 00:00</td>\n",
              "      <td>3.5</td>\n",
              "      <td>ug m-3</td>\n",
              "      <td>R</td>\n",
              "    </tr>\n",
              "    <tr>\n",
              "      <th>1</th>\n",
              "      <td>CT3</td>\n",
              "      <td>NO</td>\n",
              "      <td>01/01/2017 01:00</td>\n",
              "      <td>3.6</td>\n",
              "      <td>ug m-3</td>\n",
              "      <td>R</td>\n",
              "    </tr>\n",
              "    <tr>\n",
              "      <th>2</th>\n",
              "      <td>CT3</td>\n",
              "      <td>NO</td>\n",
              "      <td>01/01/2017 02:00</td>\n",
              "      <td>2.2</td>\n",
              "      <td>ug m-3</td>\n",
              "      <td>R</td>\n",
              "    </tr>\n",
              "    <tr>\n",
              "      <th>3</th>\n",
              "      <td>CT3</td>\n",
              "      <td>NO</td>\n",
              "      <td>01/01/2017 03:00</td>\n",
              "      <td>2.1</td>\n",
              "      <td>ug m-3</td>\n",
              "      <td>R</td>\n",
              "    </tr>\n",
              "    <tr>\n",
              "      <th>4</th>\n",
              "      <td>CT3</td>\n",
              "      <td>NO</td>\n",
              "      <td>01/01/2017 04:00</td>\n",
              "      <td>3.3</td>\n",
              "      <td>ug m-3</td>\n",
              "      <td>R</td>\n",
              "    </tr>\n",
              "  </tbody>\n",
              "</table>\n",
              "</div>"
            ],
            "text/plain": [
              "  Site Species   ReadingDateTime  Value   Units Provisional or Ratified\n",
              "0  CT3      NO  01/01/2017 00:00    3.5  ug m-3                       R\n",
              "1  CT3      NO  01/01/2017 01:00    3.6  ug m-3                       R\n",
              "2  CT3      NO  01/01/2017 02:00    2.2  ug m-3                       R\n",
              "3  CT3      NO  01/01/2017 03:00    2.1  ug m-3                       R\n",
              "4  CT3      NO  01/01/2017 04:00    3.3  ug m-3                       R"
            ]
          },
          "execution_count": 81,
          "metadata": {},
          "output_type": "execute_result"
        }
      ],
      "source": [
        "air_df.head() #Head del DataFrame"
      ]
    },
    {
      "cell_type": "code",
      "execution_count": 82,
      "metadata": {},
      "outputs": [
        {
          "data": {
            "text/html": [
              "<div>\n",
              "<style scoped>\n",
              "    .dataframe tbody tr th:only-of-type {\n",
              "        vertical-align: middle;\n",
              "    }\n",
              "\n",
              "    .dataframe tbody tr th {\n",
              "        vertical-align: top;\n",
              "    }\n",
              "\n",
              "    .dataframe thead th {\n",
              "        text-align: right;\n",
              "    }\n",
              "</style>\n",
              "<table border=\"1\" class=\"dataframe\">\n",
              "  <thead>\n",
              "    <tr style=\"text-align: right;\">\n",
              "      <th></th>\n",
              "      <th>Site</th>\n",
              "      <th>Species</th>\n",
              "      <th>ReadingDateTime</th>\n",
              "      <th>Value</th>\n",
              "      <th>Units</th>\n",
              "      <th>Provisional or Ratified</th>\n",
              "    </tr>\n",
              "  </thead>\n",
              "  <tbody>\n",
              "    <tr>\n",
              "      <th>43795</th>\n",
              "      <td>CT3</td>\n",
              "      <td>PM2.5</td>\n",
              "      <td>31/12/2017 19:00</td>\n",
              "      <td>-2.0</td>\n",
              "      <td>ug m-3</td>\n",
              "      <td>R</td>\n",
              "    </tr>\n",
              "    <tr>\n",
              "      <th>43796</th>\n",
              "      <td>CT3</td>\n",
              "      <td>PM2.5</td>\n",
              "      <td>31/12/2017 20:00</td>\n",
              "      <td>6.0</td>\n",
              "      <td>ug m-3</td>\n",
              "      <td>R</td>\n",
              "    </tr>\n",
              "    <tr>\n",
              "      <th>43797</th>\n",
              "      <td>CT3</td>\n",
              "      <td>PM2.5</td>\n",
              "      <td>31/12/2017 21:00</td>\n",
              "      <td>5.0</td>\n",
              "      <td>ug m-3</td>\n",
              "      <td>R</td>\n",
              "    </tr>\n",
              "    <tr>\n",
              "      <th>43798</th>\n",
              "      <td>CT3</td>\n",
              "      <td>PM2.5</td>\n",
              "      <td>31/12/2017 22:00</td>\n",
              "      <td>5.0</td>\n",
              "      <td>ug m-3</td>\n",
              "      <td>R</td>\n",
              "    </tr>\n",
              "    <tr>\n",
              "      <th>43799</th>\n",
              "      <td>CT3</td>\n",
              "      <td>PM2.5</td>\n",
              "      <td>31/12/2017 23:00</td>\n",
              "      <td>6.0</td>\n",
              "      <td>ug m-3</td>\n",
              "      <td>R</td>\n",
              "    </tr>\n",
              "  </tbody>\n",
              "</table>\n",
              "</div>"
            ],
            "text/plain": [
              "      Site Species   ReadingDateTime  Value   Units Provisional or Ratified\n",
              "43795  CT3   PM2.5  31/12/2017 19:00   -2.0  ug m-3                       R\n",
              "43796  CT3   PM2.5  31/12/2017 20:00    6.0  ug m-3                       R\n",
              "43797  CT3   PM2.5  31/12/2017 21:00    5.0  ug m-3                       R\n",
              "43798  CT3   PM2.5  31/12/2017 22:00    5.0  ug m-3                       R\n",
              "43799  CT3   PM2.5  31/12/2017 23:00    6.0  ug m-3                       R"
            ]
          },
          "execution_count": 82,
          "metadata": {},
          "output_type": "execute_result"
        }
      ],
      "source": [
        "air_df.tail() #Tail del Dataframe"
      ]
    },
    {
      "cell_type": "code",
      "execution_count": 83,
      "metadata": {},
      "outputs": [
        {
          "data": {
            "text/plain": [
              "Site                        object\n",
              "Species                     object\n",
              "ReadingDateTime             object\n",
              "Value                      float64\n",
              "Units                       object\n",
              "Provisional or Ratified     object\n",
              "dtype: object"
            ]
          },
          "execution_count": 83,
          "metadata": {},
          "output_type": "execute_result"
        }
      ],
      "source": [
        "air_df.dtypes #Tipo de dato para cada columna del DataFrame"
      ]
    },
    {
      "cell_type": "markdown",
      "metadata": {},
      "source": [
        "*   Calcula el porcentaje de valores faltantes por columna."
      ]
    },
    {
      "cell_type": "code",
      "execution_count": 84,
      "metadata": {},
      "outputs": [
        {
          "data": {
            "text/plain": [
              "Value    3230\n",
              "dtype: int64"
            ]
          },
          "execution_count": 84,
          "metadata": {},
          "output_type": "execute_result"
        }
      ],
      "source": [
        "# Calcula el número de valores faltantes por cada columna\n",
        "miss_values_count = air_df.isnull().sum(min_count=1)\n",
        "miss_values_count = miss_values_count[miss_values_count != 0]\n",
        "miss_values_count"
      ]
    },
    {
      "cell_type": "code",
      "execution_count": 85,
      "metadata": {},
      "outputs": [
        {
          "data": {
            "text/plain": [
              "Value    7.374429\n",
              "dtype: float64"
            ]
          },
          "execution_count": 85,
          "metadata": {},
          "output_type": "execute_result"
        }
      ],
      "source": [
        "#Calcula el porcentaje de valores faltantes por cada columna\n",
        "percentage =  (miss_values_count / len(air_df)) * 100\n",
        "percentage"
      ]
    },
    {
      "cell_type": "markdown",
      "metadata": {},
      "source": [
        "<span style=\"color: #FF8C00;\">_Se obtiene un porcenetaje de valores faltantes de 7.37% en la columna de `Value`._</span>"
      ]
    },
    {
      "cell_type": "markdown",
      "metadata": {
        "id": "APrlS185Cw-K"
      },
      "source": [
        "2.\tObtén la cantidad de valores únicos por columna (`nunique()`) para responder:"
      ]
    },
    {
      "cell_type": "code",
      "execution_count": 86,
      "metadata": {
        "id": "Ke0EGLVaCwm6"
      },
      "outputs": [
        {
          "data": {
            "text/plain": [
              "Site                          1\n",
              "Species                       5\n",
              "ReadingDateTime            8760\n",
              "Value                      1847\n",
              "Units                         3\n",
              "Provisional or Ratified       1\n",
              "dtype: int64"
            ]
          },
          "execution_count": 86,
          "metadata": {},
          "output_type": "execute_result"
        }
      ],
      "source": [
        "# Cantidad de valores únicos por columna\n",
        "unique_values = air_df.nunique()\n",
        "unique_values"
      ]
    },
    {
      "cell_type": "markdown",
      "metadata": {},
      "source": [
        "*   ¿Cuántas mediciones se hicieron?"
      ]
    },
    {
      "cell_type": "code",
      "execution_count": 87,
      "metadata": {},
      "outputs": [
        {
          "data": {
            "text/plain": [
              "(40570, 6)"
            ]
          },
          "execution_count": 87,
          "metadata": {},
          "output_type": "execute_result"
        }
      ],
      "source": [
        "# Eliminar filas con al menos un valor faltante del DataFrame\n",
        "air_df = air_df.dropna()\n",
        "air_df.shape #Tamaño del DataFrame"
      ]
    },
    {
      "cell_type": "code",
      "execution_count": 88,
      "metadata": {},
      "outputs": [
        {
          "data": {
            "text/plain": [
              "40570"
            ]
          },
          "execution_count": 88,
          "metadata": {},
          "output_type": "execute_result"
        }
      ],
      "source": [
        "#Número de mediciones\n",
        "measurements_count = len(air_df)\n",
        "measurements_count"
      ]
    },
    {
      "cell_type": "markdown",
      "metadata": {},
      "source": [
        "<span style=\"color: #FF8C00;\">_Suponiendo que al tener un valor faltante en la columna de `Value` no se cuenta como el haber hecho una medición; aun así, contando valores duplicados, se realizaron 40570 mediciones._</span>"
      ]
    },
    {
      "cell_type": "code",
      "execution_count": 89,
      "metadata": {},
      "outputs": [
        {
          "data": {
            "text/plain": [
              "1847"
            ]
          },
          "execution_count": 89,
          "metadata": {},
          "output_type": "execute_result"
        }
      ],
      "source": [
        "# Cantidad de valores únicos en la columna Value\n",
        "unique_values_value = air_df['Value'].nunique()\n",
        "unique_values_value"
      ]
    },
    {
      "cell_type": "markdown",
      "metadata": {},
      "source": [
        "<span style=\"color: #FF8C00;\">_Dentro de esas 40570, se realizaron 1847 mediciones de manera única._</span>"
      ]
    },
    {
      "cell_type": "markdown",
      "metadata": {},
      "source": [
        "*   ¿Cuántos contaminantes del aire (`Species`) se analizaron?"
      ]
    },
    {
      "cell_type": "code",
      "execution_count": 90,
      "metadata": {},
      "outputs": [
        {
          "data": {
            "text/plain": [
              "5"
            ]
          },
          "execution_count": 90,
          "metadata": {},
          "output_type": "execute_result"
        }
      ],
      "source": [
        "# Cantidad de valores únicos en la columna Species\n",
        "unique_values_species = air_df['Species'].nunique()\n",
        "unique_values_species"
      ]
    },
    {
      "cell_type": "markdown",
      "metadata": {},
      "source": [
        "<span style=\"color: #FF8C00;\">_Se analizaron 5 contaminantes del aire._</span>"
      ]
    },
    {
      "cell_type": "markdown",
      "metadata": {},
      "source": [
        "*   ¿Qué columnas no agregan ningún valor informativo porque el mismo valor en todo el conjunto de datos? Elimínalas del dataframe."
      ]
    },
    {
      "cell_type": "markdown",
      "metadata": {},
      "source": [
        "<span style=\"color: #FF8C00;\">_De acuerdo a `nunique()`, las columnas `Site` y `Provisional or Ratified` tienen el mismo valor en todo el conjunto de datos._</span>"
      ]
    },
    {
      "cell_type": "code",
      "execution_count": 91,
      "metadata": {},
      "outputs": [
        {
          "data": {
            "text/plain": [
              "Index(['Species', 'ReadingDateTime', 'Value', 'Units'], dtype='object')"
            ]
          },
          "execution_count": 91,
          "metadata": {},
          "output_type": "execute_result"
        }
      ],
      "source": [
        "#Eliminar columnas Site y Provisional or Ratified\n",
        "air_df = air_df.drop(columns=['Site', 'Provisional or Ratified'])\n",
        "air_df.columns #Etiquetas de las columnas del DataFrame"
      ]
    },
    {
      "cell_type": "markdown",
      "metadata": {},
      "source": [
        "*   La columna `Units` tampoco posee valor informativo. Verifícalo con la función `unique()` y elimínala del dataframe."
      ]
    },
    {
      "cell_type": "code",
      "execution_count": 92,
      "metadata": {},
      "outputs": [
        {
          "data": {
            "text/plain": [
              "array(['ug m-3', 'ug m-3 as NO2', 'ug/m3'], dtype=object)"
            ]
          },
          "execution_count": 92,
          "metadata": {},
          "output_type": "execute_result"
        }
      ],
      "source": [
        "unique_verified_units=air_df['Units'].unique()\n",
        "unique_verified_units"
      ]
    },
    {
      "cell_type": "code",
      "execution_count": 93,
      "metadata": {},
      "outputs": [
        {
          "data": {
            "text/plain": [
              "3"
            ]
          },
          "execution_count": 93,
          "metadata": {},
          "output_type": "execute_result"
        }
      ],
      "source": [
        "# Cantidad de valores únicos en la columna Units\n",
        "unique_values_units= air_df['Units'].nunique()\n",
        "unique_values_units"
      ]
    },
    {
      "cell_type": "code",
      "execution_count": 94,
      "metadata": {},
      "outputs": [
        {
          "data": {
            "text/plain": [
              "Index(['Species', 'ReadingDateTime', 'Value'], dtype='object')"
            ]
          },
          "execution_count": 94,
          "metadata": {},
          "output_type": "execute_result"
        }
      ],
      "source": [
        "#Eliminar columna Units\n",
        "air_df = air_df.drop(columns=['Units'])\n",
        "air_df.columns #Etiquetas de las columnas del DataFrame"
      ]
    },
    {
      "cell_type": "markdown",
      "metadata": {
        "id": "zEddCwHWEJZ7"
      },
      "source": [
        "3.\tRealiza el conteo de valores por categoría (`value_counts()`) para la columna `Species` y determina si las lecturas de cada contaminante coincide con el total de mediciones."
      ]
    },
    {
      "cell_type": "code",
      "execution_count": 95,
      "metadata": {
        "id": "inCKasmZEPsv"
      },
      "outputs": [
        {
          "data": {
            "text/plain": [
              "Species\n",
              "NO       8660\n",
              "NO2      8660\n",
              "NOX      8660\n",
              "PM10     8657\n",
              "PM2.5    5933\n",
              "Name: count, dtype: int64"
            ]
          },
          "execution_count": 95,
          "metadata": {},
          "output_type": "execute_result"
        }
      ],
      "source": [
        "#Conteo de valores por categoría para la columna Species\n",
        "count_category=air_df['Species'].value_counts()\n",
        "count_category"
      ]
    },
    {
      "cell_type": "code",
      "execution_count": 96,
      "metadata": {},
      "outputs": [
        {
          "data": {
            "text/plain": [
              "5"
            ]
          },
          "execution_count": 96,
          "metadata": {},
          "output_type": "execute_result"
        }
      ],
      "source": [
        "#Número de categorías diferentes\n",
        "len(count_category)"
      ]
    },
    {
      "cell_type": "markdown",
      "metadata": {},
      "source": [
        "<span style=\"color: #FF8C00;\">_Si coincide que hay 5 valores para la columna `Species`._</span>"
      ]
    },
    {
      "cell_type": "code",
      "execution_count": 97,
      "metadata": {},
      "outputs": [
        {
          "name": "stdout",
          "output_type": "stream",
          "text": [
            "40570\n"
          ]
        }
      ],
      "source": [
        "#Conteo Total de Mediciones\n",
        "cumulative_count = count_category.sum()\n",
        "print(cumulative_count)"
      ]
    },
    {
      "cell_type": "markdown",
      "metadata": {},
      "source": [
        "<span style=\"color: #FF8C00;\">_Si coincide que hay 40570 mediciones en total._</span>"
      ]
    },
    {
      "cell_type": "markdown",
      "metadata": {
        "id": "zhJM6l1vETfI"
      },
      "source": [
        "4.\tUtiliza la función `groupby()` para determinar el promedio del valor por contaminante."
      ]
    },
    {
      "cell_type": "code",
      "execution_count": 98,
      "metadata": {
        "id": "zstyHahSETJK"
      },
      "outputs": [
        {
          "data": {
            "text/html": [
              "<div>\n",
              "<style scoped>\n",
              "    .dataframe tbody tr th:only-of-type {\n",
              "        vertical-align: middle;\n",
              "    }\n",
              "\n",
              "    .dataframe tbody tr th {\n",
              "        vertical-align: top;\n",
              "    }\n",
              "\n",
              "    .dataframe thead th {\n",
              "        text-align: right;\n",
              "    }\n",
              "</style>\n",
              "<table border=\"1\" class=\"dataframe\">\n",
              "  <thead>\n",
              "    <tr style=\"text-align: right;\">\n",
              "      <th></th>\n",
              "      <th>Species</th>\n",
              "      <th>Average Value</th>\n",
              "    </tr>\n",
              "  </thead>\n",
              "  <tbody>\n",
              "    <tr>\n",
              "      <th>0</th>\n",
              "      <td>NO</td>\n",
              "      <td>15.045115</td>\n",
              "    </tr>\n",
              "    <tr>\n",
              "      <th>1</th>\n",
              "      <td>NO2</td>\n",
              "      <td>38.010185</td>\n",
              "    </tr>\n",
              "    <tr>\n",
              "      <th>2</th>\n",
              "      <td>NOX</td>\n",
              "      <td>61.078661</td>\n",
              "    </tr>\n",
              "    <tr>\n",
              "      <th>3</th>\n",
              "      <td>PM10</td>\n",
              "      <td>22.551704</td>\n",
              "    </tr>\n",
              "    <tr>\n",
              "      <th>4</th>\n",
              "      <td>PM2.5</td>\n",
              "      <td>14.999831</td>\n",
              "    </tr>\n",
              "  </tbody>\n",
              "</table>\n",
              "</div>"
            ],
            "text/plain": [
              "  Species  Average Value\n",
              "0      NO      15.045115\n",
              "1     NO2      38.010185\n",
              "2     NOX      61.078661\n",
              "3    PM10      22.551704\n",
              "4   PM2.5      14.999831"
            ]
          },
          "execution_count": 98,
          "metadata": {},
          "output_type": "execute_result"
        }
      ],
      "source": [
        "# Calcular el promedio de Value para cada categoría de Species\n",
        "average_values = air_df.groupby('Species')['Value'].mean()\n",
        "#Mostrar Encabezados\n",
        "average_values_df = average_values.reset_index()\n",
        "average_values_df.columns = ['Species', 'Average Value']\n",
        "average_values_df"
      ]
    },
    {
      "cell_type": "markdown",
      "metadata": {
        "id": "GY2ux-Q_EV7J"
      },
      "source": [
        "5.\tEl conjunto de datos está en un formato largo. Aplique la función apropiada para cambiarlo al formato ancho (`ReadingDateTime` como índice y cada contaminante en una columna). Nombre el dataframe resultante como `pvt_df`."
      ]
    },
    {
      "cell_type": "code",
      "execution_count": 99,
      "metadata": {
        "id": "1IETxb9vFIF-"
      },
      "outputs": [
        {
          "data": {
            "text/html": [
              "<div>\n",
              "<style scoped>\n",
              "    .dataframe tbody tr th:only-of-type {\n",
              "        vertical-align: middle;\n",
              "    }\n",
              "\n",
              "    .dataframe tbody tr th {\n",
              "        vertical-align: top;\n",
              "    }\n",
              "\n",
              "    .dataframe thead th {\n",
              "        text-align: right;\n",
              "    }\n",
              "</style>\n",
              "<table border=\"1\" class=\"dataframe\">\n",
              "  <thead>\n",
              "    <tr style=\"text-align: right;\">\n",
              "      <th>Species</th>\n",
              "      <th>NO</th>\n",
              "      <th>NO2</th>\n",
              "      <th>NOX</th>\n",
              "      <th>PM10</th>\n",
              "      <th>PM2.5</th>\n",
              "    </tr>\n",
              "    <tr>\n",
              "      <th>ReadingDateTime</th>\n",
              "      <th></th>\n",
              "      <th></th>\n",
              "      <th></th>\n",
              "      <th></th>\n",
              "      <th></th>\n",
              "    </tr>\n",
              "  </thead>\n",
              "  <tbody>\n",
              "    <tr>\n",
              "      <th>01/01/2017 00:00</th>\n",
              "      <td>3.5</td>\n",
              "      <td>30.8</td>\n",
              "      <td>36.2</td>\n",
              "      <td>35.7</td>\n",
              "      <td>NaN</td>\n",
              "    </tr>\n",
              "    <tr>\n",
              "      <th>01/01/2017 01:00</th>\n",
              "      <td>3.6</td>\n",
              "      <td>31.5</td>\n",
              "      <td>37.0</td>\n",
              "      <td>28.5</td>\n",
              "      <td>NaN</td>\n",
              "    </tr>\n",
              "    <tr>\n",
              "      <th>01/01/2017 02:00</th>\n",
              "      <td>2.2</td>\n",
              "      <td>27.3</td>\n",
              "      <td>30.7</td>\n",
              "      <td>22.7</td>\n",
              "      <td>NaN</td>\n",
              "    </tr>\n",
              "    <tr>\n",
              "      <th>01/01/2017 03:00</th>\n",
              "      <td>2.1</td>\n",
              "      <td>23.5</td>\n",
              "      <td>26.8</td>\n",
              "      <td>20.5</td>\n",
              "      <td>NaN</td>\n",
              "    </tr>\n",
              "    <tr>\n",
              "      <th>01/01/2017 04:00</th>\n",
              "      <td>3.3</td>\n",
              "      <td>28.0</td>\n",
              "      <td>33.0</td>\n",
              "      <td>22.1</td>\n",
              "      <td>NaN</td>\n",
              "    </tr>\n",
              "  </tbody>\n",
              "</table>\n",
              "</div>"
            ],
            "text/plain": [
              "Species            NO   NO2   NOX  PM10  PM2.5\n",
              "ReadingDateTime                               \n",
              "01/01/2017 00:00  3.5  30.8  36.2  35.7    NaN\n",
              "01/01/2017 01:00  3.6  31.5  37.0  28.5    NaN\n",
              "01/01/2017 02:00  2.2  27.3  30.7  22.7    NaN\n",
              "01/01/2017 03:00  2.1  23.5  26.8  20.5    NaN\n",
              "01/01/2017 04:00  3.3  28.0  33.0  22.1    NaN"
            ]
          },
          "execution_count": 99,
          "metadata": {},
          "output_type": "execute_result"
        }
      ],
      "source": [
        "# Usar pivot_table si hay duplicados se toma promedio\n",
        "pvt_df = air_df.pivot_table(index='ReadingDateTime', columns='Species', values='Value', aggfunc='mean')\n",
        "pvt_df.head()"
      ]
    },
    {
      "cell_type": "markdown",
      "metadata": {
        "id": "JmbiBXqFFIZx"
      },
      "source": [
        "6.\tA través de la función `describe()` responde:\n",
        "\n",
        "*   ¿Cuál es el mayor valor de `NO2` registrado? ¿A qué día pertenece?"
      ]
    },
    {
      "cell_type": "code",
      "execution_count": 100,
      "metadata": {},
      "outputs": [
        {
          "data": {
            "text/plain": [
              "count    8660.000000\n",
              "mean       38.010185\n",
              "std        18.580841\n",
              "min         2.800000\n",
              "25%        23.800000\n",
              "50%        35.300000\n",
              "75%        49.900000\n",
              "max       120.200000\n",
              "Name: NO2, dtype: float64"
            ]
          },
          "execution_count": 100,
          "metadata": {},
          "output_type": "execute_result"
        }
      ],
      "source": [
        "pvt_df['NO2'].describe().T"
      ]
    },
    {
      "cell_type": "code",
      "execution_count": 101,
      "metadata": {
        "id": "_qWYoEx3Fbod"
      },
      "outputs": [
        {
          "name": "stdout",
          "output_type": "stream",
          "text": [
            "120.2\n"
          ]
        }
      ],
      "source": [
        "#Calcular mayor valor para NO2\n",
        "max_NO2 = pvt_df['NO2'].max()\n",
        "print(max_NO2)"
      ]
    },
    {
      "cell_type": "code",
      "execution_count": 102,
      "metadata": {},
      "outputs": [
        {
          "data": {
            "text/plain": [
              "'24/01/2017 19:00'"
            ]
          },
          "execution_count": 102,
          "metadata": {},
          "output_type": "execute_result"
        }
      ],
      "source": [
        "#Ver a que dia pertenece\n",
        "day_max_NO2 = pvt_df['NO2'].idxmax()\n",
        "day_max_NO2"
      ]
    },
    {
      "cell_type": "code",
      "execution_count": 103,
      "metadata": {},
      "outputs": [
        {
          "name": "stdout",
          "output_type": "stream",
          "text": [
            "120.2\n"
          ]
        }
      ],
      "source": [
        "#Revisar\n",
        "date_check_NO2 = pvt_df.loc['24/01/2017 19:00']\n",
        "print(date_check_NO2['NO2'])"
      ]
    },
    {
      "cell_type": "markdown",
      "metadata": {},
      "source": [
        "<span style=\"color: #FF8C00;\">_El mayor valor de `NO2` registrado es de 120.2 ug m-3, y se realizó el día 24/01/2017 19:00._</span>"
      ]
    },
    {
      "cell_type": "markdown",
      "metadata": {},
      "source": [
        "*   ¿Cuál es el menor valor de `PM10` registrado?¿A qué día pertenece?"
      ]
    },
    {
      "cell_type": "code",
      "execution_count": 104,
      "metadata": {},
      "outputs": [
        {
          "data": {
            "text/plain": [
              "count    8657.000000\n",
              "mean       22.551704\n",
              "std        15.344755\n",
              "min        -5.600000\n",
              "25%        13.900000\n",
              "50%        19.500000\n",
              "75%        27.300000\n",
              "max       633.099980\n",
              "Name: PM10, dtype: float64"
            ]
          },
          "execution_count": 104,
          "metadata": {},
          "output_type": "execute_result"
        }
      ],
      "source": [
        "pvt_df['PM10'].describe().T"
      ]
    },
    {
      "cell_type": "code",
      "execution_count": 105,
      "metadata": {},
      "outputs": [
        {
          "name": "stdout",
          "output_type": "stream",
          "text": [
            "-5.6\n"
          ]
        }
      ],
      "source": [
        "#Calcular menor valor para PM10\n",
        "min_PM10 = pvt_df['PM10'].min()\n",
        "print(min_PM10)"
      ]
    },
    {
      "cell_type": "code",
      "execution_count": 106,
      "metadata": {},
      "outputs": [
        {
          "data": {
            "text/plain": [
              "'12/09/2017 23:00'"
            ]
          },
          "execution_count": 106,
          "metadata": {},
          "output_type": "execute_result"
        }
      ],
      "source": [
        "#Ver a que dia pertenece\n",
        "day_min_PM10 = pvt_df['PM10'].idxmin()\n",
        "day_min_PM10"
      ]
    },
    {
      "cell_type": "code",
      "execution_count": 107,
      "metadata": {},
      "outputs": [
        {
          "name": "stdout",
          "output_type": "stream",
          "text": [
            "-5.6\n"
          ]
        }
      ],
      "source": [
        "#Revisar\n",
        "date_check_PM10 = pvt_df.loc['12/09/2017 23:00']\n",
        "print(date_check_PM10['PM10'])"
      ]
    },
    {
      "cell_type": "markdown",
      "metadata": {},
      "source": [
        "<span style=\"color: #FF8C00;\">_El menor valor de `PM10` registrado es de -5.6 ug m-3, y se realizó el día 12/09/2017 23:00._</span>"
      ]
    },
    {
      "cell_type": "markdown",
      "metadata": {},
      "source": [
        "*   ¿Cuál es la mediana del `NO`? ¿Cómo se interpreta?"
      ]
    },
    {
      "cell_type": "code",
      "execution_count": 108,
      "metadata": {},
      "outputs": [
        {
          "data": {
            "text/plain": [
              "count    8660.000000\n",
              "mean       15.045115\n",
              "std        26.678565\n",
              "min        -2.000000\n",
              "25%         3.100000\n",
              "50%         7.100000\n",
              "75%        15.500000\n",
              "max       401.799990\n",
              "Name: NO, dtype: float64"
            ]
          },
          "execution_count": 108,
          "metadata": {},
          "output_type": "execute_result"
        }
      ],
      "source": [
        "pvt_df['NO'].describe().T"
      ]
    },
    {
      "cell_type": "code",
      "execution_count": 109,
      "metadata": {},
      "outputs": [
        {
          "name": "stdout",
          "output_type": "stream",
          "text": [
            "7.1\n"
          ]
        }
      ],
      "source": [
        "median_NO = pvt_df['NO'].median()\n",
        "print(median_NO)"
      ]
    },
    {
      "cell_type": "markdown",
      "metadata": {},
      "source": [
        "<span style=\"color: #FF8C00;\">_En un set de valores ordenados, la mediana es el valor que se encuentra en el centro de la distribución de los datos, otra forma de nombrarla es como el segundo cuartil de los datos. Por lo que una mediana de `NO` de 7.1 ug m-3 representa el valor central en la distribución de la concentración de este contaminante. A partir de este dato se pueden obtener valores atípicos dentro de la distribución._</span>"
      ]
    },
    {
      "cell_type": "markdown",
      "metadata": {},
      "source": [
        "*   ¿Cuál es el primer cuartil de `PM2.5`? ¿Qué significa?"
      ]
    },
    {
      "cell_type": "code",
      "execution_count": 110,
      "metadata": {},
      "outputs": [
        {
          "data": {
            "text/plain": [
              "count    5933.000000\n",
              "mean       14.999831\n",
              "std        13.558588\n",
              "min        -8.000000\n",
              "25%         7.000000\n",
              "50%        11.000000\n",
              "75%        18.000000\n",
              "max       128.000000\n",
              "Name: PM2.5, dtype: float64"
            ]
          },
          "execution_count": 110,
          "metadata": {},
          "output_type": "execute_result"
        }
      ],
      "source": [
        "pvt_df['PM2.5'].describe().T"
      ]
    },
    {
      "cell_type": "code",
      "execution_count": 111,
      "metadata": {},
      "outputs": [
        {
          "name": "stdout",
          "output_type": "stream",
          "text": [
            "7.0\n"
          ]
        }
      ],
      "source": [
        "first_quartile_PM2_5 = pvt_df['PM2.5'].quantile(0.25)\n",
        "print(first_quartile_PM2_5)"
      ]
    },
    {
      "cell_type": "markdown",
      "metadata": {},
      "source": [
        "<span style=\"color: #FF8C00;\">_El primer cuartil de un set de datos es un valor estadístico que divide el 25% inferior de un conjunto de datos ordenados. Es decir, si el primer cuartil de la concentración de `PM2.5` es de 7.0 ug m-3, esto significa que el 25% de los datos está por debajo de este valor, y el 75% de los datos está por encima de él._</span>"
      ]
    },
    {
      "cell_type": "markdown",
      "metadata": {
        "id": "Rki16hYaFd9p"
      },
      "source": [
        "7.\tDibuja un histograma para cada columna de `pvt_df`. ¿Qué contaminante tiene mayor variabilidad?"
      ]
    },
    {
      "cell_type": "markdown",
      "metadata": {},
      "source": [
        "<span style=\"color: #FF8C00;\">_Sin `matplotlib`:_</span>"
      ]
    },
    {
      "cell_type": "code",
      "execution_count": 112,
      "metadata": {},
      "outputs": [
        {
          "data": {
            "text/plain": [
              "array([[<Axes: title={'center': 'NO'}>, <Axes: title={'center': 'NO2'}>,\n",
              "        <Axes: title={'center': 'NOX'}>],\n",
              "       [<Axes: title={'center': 'PM10'}>,\n",
              "        <Axes: title={'center': 'PM2.5'}>, <Axes: >]], dtype=object)"
            ]
          },
          "execution_count": 112,
          "metadata": {},
          "output_type": "execute_result"
        },
        {
          "data": {
            "image/png": "[encoded data removed]",
            "text/plain": [
              "<Figure size 1500x1000 with 6 Axes>"
            ]
          },
          "metadata": {},
          "output_type": "display_data"
        }
      ],
      "source": [
        "# Dibujar histogramas para cada columna de pvt_df\n",
        "pvt_df.hist(bins=20, figsize=(15, 10), layout=(len(pvt_df.columns)//3 + 1, 3))"
      ]
    },
    {
      "cell_type": "markdown",
      "metadata": {},
      "source": [
        "<span style=\"color: #FF8C00;\">_Con `matplotlib` para agregar labels:_</span>"
      ]
    },
    {
      "cell_type": "code",
      "execution_count": 113,
      "metadata": {
        "id": "NaGkunSeFfn8"
      },
      "outputs": [
        {
          "data": {
            "image/png": "[encoded data removed]",
            "text/plain": [
              "<Figure size 1500x1000 with 6 Axes>"
            ]
          },
          "metadata": {},
          "output_type": "display_data"
        }
      ],
      "source": [
        "import matplotlib.pyplot as plt\n",
        "\n",
        "# Dibujar histogramas para cada columna de pvt_df\n",
        "pvt_df.hist(bins=20, figsize=(15, 10), layout=(len(pvt_df.columns)//3 + 1, 3))\n",
        "plt.suptitle('Histogramas de Contaminantes del Aire')\n",
        "\n",
        "# Agregar etiquetas a los ejes\n",
        "for ax, col in zip(plt.gcf().axes, pvt_df.columns):\n",
        "    ax.set_title(col)  # Poner el nombre de la columna como título del histograma\n",
        "    ax.set_xlabel('Concentración (ug m-3)')  # Etiqueta del eje x\n",
        "    ax.set_ylabel('Frecuencia')     # Etiqueta del eje y\n",
        "\n",
        "plt.tight_layout(rect=[0, 0, 1, 0.96])\n",
        "plt.show()\n"
      ]
    },
    {
      "cell_type": "markdown",
      "metadata": {},
      "source": [
        "<span style=\"color: #FF8C00;\">_El `NO2` tiene mayor variabilidad en los datos._</span>"
      ]
    },
    {
      "cell_type": "markdown",
      "metadata": {
        "id": "2hJ4LzP3fgvy"
      },
      "source": [
        "8.\tEjecuta el siguiente código y comenta qué hace cada línea:"
      ]
    },
    {
      "cell_type": "markdown",
      "metadata": {},
      "source": [
        "<span style=\"color: #FF8C00;\">_Esta primer parte del codigo divide la columna `ReadingDateTime` del DataFrame `air_df` en fecha y hora usando el comando `.str.split()` con el espacio como separador para indicar lo que debe ser separado y coloca las nuevas partes en columnas independientes. De la misma manera se renombran las dos nuevas columnas como `Date` y `Time` con el comando `.columns`_.</span>"
      ]
    },
    {
      "cell_type": "code",
      "execution_count": 114,
      "metadata": {
        "id": "goQuWzNVfomA"
      },
      "outputs": [
        {
          "data": {
            "text/html": [
              "<div>\n",
              "<style scoped>\n",
              "    .dataframe tbody tr th:only-of-type {\n",
              "        vertical-align: middle;\n",
              "    }\n",
              "\n",
              "    .dataframe tbody tr th {\n",
              "        vertical-align: top;\n",
              "    }\n",
              "\n",
              "    .dataframe thead th {\n",
              "        text-align: right;\n",
              "    }\n",
              "</style>\n",
              "<table border=\"1\" class=\"dataframe\">\n",
              "  <thead>\n",
              "    <tr style=\"text-align: right;\">\n",
              "      <th></th>\n",
              "      <th>Date</th>\n",
              "      <th>Time</th>\n",
              "    </tr>\n",
              "  </thead>\n",
              "  <tbody>\n",
              "    <tr>\n",
              "      <th>0</th>\n",
              "      <td>01/01/2017</td>\n",
              "      <td>00:00</td>\n",
              "    </tr>\n",
              "    <tr>\n",
              "      <th>1</th>\n",
              "      <td>01/01/2017</td>\n",
              "      <td>01:00</td>\n",
              "    </tr>\n",
              "    <tr>\n",
              "      <th>2</th>\n",
              "      <td>01/01/2017</td>\n",
              "      <td>02:00</td>\n",
              "    </tr>\n",
              "    <tr>\n",
              "      <th>3</th>\n",
              "      <td>01/01/2017</td>\n",
              "      <td>03:00</td>\n",
              "    </tr>\n",
              "    <tr>\n",
              "      <th>4</th>\n",
              "      <td>01/01/2017</td>\n",
              "      <td>04:00</td>\n",
              "    </tr>\n",
              "    <tr>\n",
              "      <th>...</th>\n",
              "      <td>...</td>\n",
              "      <td>...</td>\n",
              "    </tr>\n",
              "    <tr>\n",
              "      <th>43795</th>\n",
              "      <td>31/12/2017</td>\n",
              "      <td>19:00</td>\n",
              "    </tr>\n",
              "    <tr>\n",
              "      <th>43796</th>\n",
              "      <td>31/12/2017</td>\n",
              "      <td>20:00</td>\n",
              "    </tr>\n",
              "    <tr>\n",
              "      <th>43797</th>\n",
              "      <td>31/12/2017</td>\n",
              "      <td>21:00</td>\n",
              "    </tr>\n",
              "    <tr>\n",
              "      <th>43798</th>\n",
              "      <td>31/12/2017</td>\n",
              "      <td>22:00</td>\n",
              "    </tr>\n",
              "    <tr>\n",
              "      <th>43799</th>\n",
              "      <td>31/12/2017</td>\n",
              "      <td>23:00</td>\n",
              "    </tr>\n",
              "  </tbody>\n",
              "</table>\n",
              "<p>40570 rows × 2 columns</p>\n",
              "</div>"
            ],
            "text/plain": [
              "             Date   Time\n",
              "0      01/01/2017  00:00\n",
              "1      01/01/2017  01:00\n",
              "2      01/01/2017  02:00\n",
              "3      01/01/2017  03:00\n",
              "4      01/01/2017  04:00\n",
              "...           ...    ...\n",
              "43795  31/12/2017  19:00\n",
              "43796  31/12/2017  20:00\n",
              "43797  31/12/2017  21:00\n",
              "43798  31/12/2017  22:00\n",
              "43799  31/12/2017  23:00\n",
              "\n",
              "[40570 rows x 2 columns]"
            ]
          },
          "execution_count": 114,
          "metadata": {},
          "output_type": "execute_result"
        }
      ],
      "source": [
        "datetime_df = air_df.ReadingDateTime.str.split(' ',expand=True)\n",
        "datetime_df.columns = ['Date','Time']\n",
        "datetime_df\n"
      ]
    },
    {
      "cell_type": "markdown",
      "metadata": {},
      "source": [
        "<span style=\"color: #FF8C00;\">_Esta segunda parte del codigo es similar a la primera, ya que divide la columna `Date` del DataFrame `datetime_df` en día, mes y año usando el comando `.str.split()` con el `/` como separador y coloca las partes en columnas separadas. De la misma manera se renombran las tres nuevas columnas con el comando `.columns` como `Day`, `Month` y `Year`._</span>"
      ]
    },
    {
      "cell_type": "code",
      "execution_count": 115,
      "metadata": {},
      "outputs": [
        {
          "data": {
            "text/html": [
              "<div>\n",
              "<style scoped>\n",
              "    .dataframe tbody tr th:only-of-type {\n",
              "        vertical-align: middle;\n",
              "    }\n",
              "\n",
              "    .dataframe tbody tr th {\n",
              "        vertical-align: top;\n",
              "    }\n",
              "\n",
              "    .dataframe thead th {\n",
              "        text-align: right;\n",
              "    }\n",
              "</style>\n",
              "<table border=\"1\" class=\"dataframe\">\n",
              "  <thead>\n",
              "    <tr style=\"text-align: right;\">\n",
              "      <th></th>\n",
              "      <th>Day</th>\n",
              "      <th>Month</th>\n",
              "      <th>Year</th>\n",
              "    </tr>\n",
              "  </thead>\n",
              "  <tbody>\n",
              "    <tr>\n",
              "      <th>0</th>\n",
              "      <td>01</td>\n",
              "      <td>01</td>\n",
              "      <td>2017</td>\n",
              "    </tr>\n",
              "    <tr>\n",
              "      <th>1</th>\n",
              "      <td>01</td>\n",
              "      <td>01</td>\n",
              "      <td>2017</td>\n",
              "    </tr>\n",
              "    <tr>\n",
              "      <th>2</th>\n",
              "      <td>01</td>\n",
              "      <td>01</td>\n",
              "      <td>2017</td>\n",
              "    </tr>\n",
              "    <tr>\n",
              "      <th>3</th>\n",
              "      <td>01</td>\n",
              "      <td>01</td>\n",
              "      <td>2017</td>\n",
              "    </tr>\n",
              "    <tr>\n",
              "      <th>4</th>\n",
              "      <td>01</td>\n",
              "      <td>01</td>\n",
              "      <td>2017</td>\n",
              "    </tr>\n",
              "    <tr>\n",
              "      <th>...</th>\n",
              "      <td>...</td>\n",
              "      <td>...</td>\n",
              "      <td>...</td>\n",
              "    </tr>\n",
              "    <tr>\n",
              "      <th>43795</th>\n",
              "      <td>31</td>\n",
              "      <td>12</td>\n",
              "      <td>2017</td>\n",
              "    </tr>\n",
              "    <tr>\n",
              "      <th>43796</th>\n",
              "      <td>31</td>\n",
              "      <td>12</td>\n",
              "      <td>2017</td>\n",
              "    </tr>\n",
              "    <tr>\n",
              "      <th>43797</th>\n",
              "      <td>31</td>\n",
              "      <td>12</td>\n",
              "      <td>2017</td>\n",
              "    </tr>\n",
              "    <tr>\n",
              "      <th>43798</th>\n",
              "      <td>31</td>\n",
              "      <td>12</td>\n",
              "      <td>2017</td>\n",
              "    </tr>\n",
              "    <tr>\n",
              "      <th>43799</th>\n",
              "      <td>31</td>\n",
              "      <td>12</td>\n",
              "      <td>2017</td>\n",
              "    </tr>\n",
              "  </tbody>\n",
              "</table>\n",
              "<p>40570 rows × 3 columns</p>\n",
              "</div>"
            ],
            "text/plain": [
              "      Day Month  Year\n",
              "0      01    01  2017\n",
              "1      01    01  2017\n",
              "2      01    01  2017\n",
              "3      01    01  2017\n",
              "4      01    01  2017\n",
              "...    ..   ...   ...\n",
              "43795  31    12  2017\n",
              "43796  31    12  2017\n",
              "43797  31    12  2017\n",
              "43798  31    12  2017\n",
              "43799  31    12  2017\n",
              "\n",
              "[40570 rows x 3 columns]"
            ]
          },
          "execution_count": 115,
          "metadata": {},
          "output_type": "execute_result"
        }
      ],
      "source": [
        "date_df = datetime_df.Date.str.split('/',expand=True)\n",
        "date_df.columns = ['Day','Month','Year']\n",
        "date_df"
      ]
    },
    {
      "cell_type": "markdown",
      "metadata": {},
      "source": [
        "<span style=\"color: #FF8C00;\">_Esta nueva línea de código une el DataFrame `air_df` con `date_df` y agrega la solamente la columna `Time` de `datetime_df` con el comando `.join()`. De la misma manera, con el comando `.drop` se eliminan las columnas `ReadingDateTime` y `Year` del nuevo DataFrame. Finalmente, nombra las columnas `Month`, `Day`, `Time`, y `Species` como nuevo índice del DataFrame con el comando `.set_index`._</span>"
      ]
    },
    {
      "cell_type": "code",
      "execution_count": 116,
      "metadata": {},
      "outputs": [
        {
          "data": {
            "text/html": [
              "<div>\n",
              "<style scoped>\n",
              "    .dataframe tbody tr th:only-of-type {\n",
              "        vertical-align: middle;\n",
              "    }\n",
              "\n",
              "    .dataframe tbody tr th {\n",
              "        vertical-align: top;\n",
              "    }\n",
              "\n",
              "    .dataframe thead th {\n",
              "        text-align: right;\n",
              "    }\n",
              "</style>\n",
              "<table border=\"1\" class=\"dataframe\">\n",
              "  <thead>\n",
              "    <tr style=\"text-align: right;\">\n",
              "      <th></th>\n",
              "      <th></th>\n",
              "      <th></th>\n",
              "      <th></th>\n",
              "      <th>Value</th>\n",
              "    </tr>\n",
              "    <tr>\n",
              "      <th>Month</th>\n",
              "      <th>Day</th>\n",
              "      <th>Time</th>\n",
              "      <th>Species</th>\n",
              "      <th></th>\n",
              "    </tr>\n",
              "  </thead>\n",
              "  <tbody>\n",
              "    <tr>\n",
              "      <th rowspan=\"5\" valign=\"top\">01</th>\n",
              "      <th rowspan=\"5\" valign=\"top\">01</th>\n",
              "      <th>00:00</th>\n",
              "      <th>NO</th>\n",
              "      <td>3.5</td>\n",
              "    </tr>\n",
              "    <tr>\n",
              "      <th>01:00</th>\n",
              "      <th>NO</th>\n",
              "      <td>3.6</td>\n",
              "    </tr>\n",
              "    <tr>\n",
              "      <th>02:00</th>\n",
              "      <th>NO</th>\n",
              "      <td>2.2</td>\n",
              "    </tr>\n",
              "    <tr>\n",
              "      <th>03:00</th>\n",
              "      <th>NO</th>\n",
              "      <td>2.1</td>\n",
              "    </tr>\n",
              "    <tr>\n",
              "      <th>04:00</th>\n",
              "      <th>NO</th>\n",
              "      <td>3.3</td>\n",
              "    </tr>\n",
              "    <tr>\n",
              "      <th>...</th>\n",
              "      <th>...</th>\n",
              "      <th>...</th>\n",
              "      <th>...</th>\n",
              "      <td>...</td>\n",
              "    </tr>\n",
              "    <tr>\n",
              "      <th rowspan=\"5\" valign=\"top\">12</th>\n",
              "      <th rowspan=\"5\" valign=\"top\">31</th>\n",
              "      <th>19:00</th>\n",
              "      <th>PM2.5</th>\n",
              "      <td>-2.0</td>\n",
              "    </tr>\n",
              "    <tr>\n",
              "      <th>20:00</th>\n",
              "      <th>PM2.5</th>\n",
              "      <td>6.0</td>\n",
              "    </tr>\n",
              "    <tr>\n",
              "      <th>21:00</th>\n",
              "      <th>PM2.5</th>\n",
              "      <td>5.0</td>\n",
              "    </tr>\n",
              "    <tr>\n",
              "      <th>22:00</th>\n",
              "      <th>PM2.5</th>\n",
              "      <td>5.0</td>\n",
              "    </tr>\n",
              "    <tr>\n",
              "      <th>23:00</th>\n",
              "      <th>PM2.5</th>\n",
              "      <td>6.0</td>\n",
              "    </tr>\n",
              "  </tbody>\n",
              "</table>\n",
              "<p>40570 rows × 1 columns</p>\n",
              "</div>"
            ],
            "text/plain": [
              "                         Value\n",
              "Month Day Time  Species       \n",
              "01    01  00:00 NO         3.5\n",
              "          01:00 NO         3.6\n",
              "          02:00 NO         2.2\n",
              "          03:00 NO         2.1\n",
              "          04:00 NO         3.3\n",
              "...                        ...\n",
              "12    31  19:00 PM2.5     -2.0\n",
              "          20:00 PM2.5      6.0\n",
              "          21:00 PM2.5      5.0\n",
              "          22:00 PM2.5      5.0\n",
              "          23:00 PM2.5      6.0\n",
              "\n",
              "[40570 rows x 1 columns]"
            ]
          },
          "execution_count": 116,
          "metadata": {},
          "output_type": "execute_result"
        }
      ],
      "source": [
        "air_df = air_df.join(date_df).join(datetime_df.Time).drop(columns=['ReadingDateTime','Year'])\n",
        "air_df = air_df.set_index(['Month','Day','Time','Species'])\n",
        "air_df"
      ]
    },
    {
      "cell_type": "markdown",
      "metadata": {
        "id": "37E3dol8fpik"
      },
      "source": [
        "9. Ejecuta la siguiente instrucción y compara su salida con la del código anterior (ejercicio 8). ¿Son iguales?"
      ]
    },
    {
      "cell_type": "code",
      "execution_count": 117,
      "metadata": {
        "id": "cgbAxJrvfweW"
      },
      "outputs": [
        {
          "data": {
            "text/html": [
              "<div>\n",
              "<style scoped>\n",
              "    .dataframe tbody tr th:only-of-type {\n",
              "        vertical-align: middle;\n",
              "    }\n",
              "\n",
              "    .dataframe tbody tr th {\n",
              "        vertical-align: top;\n",
              "    }\n",
              "\n",
              "    .dataframe thead tr th {\n",
              "        text-align: left;\n",
              "    }\n",
              "\n",
              "    .dataframe thead tr:last-of-type th {\n",
              "        text-align: right;\n",
              "    }\n",
              "</style>\n",
              "<table border=\"1\" class=\"dataframe\">\n",
              "  <thead>\n",
              "    <tr>\n",
              "      <th></th>\n",
              "      <th></th>\n",
              "      <th></th>\n",
              "      <th colspan=\"5\" halign=\"left\">Value</th>\n",
              "    </tr>\n",
              "    <tr>\n",
              "      <th></th>\n",
              "      <th></th>\n",
              "      <th>Species</th>\n",
              "      <th>NO</th>\n",
              "      <th>NO2</th>\n",
              "      <th>NOX</th>\n",
              "      <th>PM10</th>\n",
              "      <th>PM2.5</th>\n",
              "    </tr>\n",
              "    <tr>\n",
              "      <th>Month</th>\n",
              "      <th>Day</th>\n",
              "      <th>Time</th>\n",
              "      <th></th>\n",
              "      <th></th>\n",
              "      <th></th>\n",
              "      <th></th>\n",
              "      <th></th>\n",
              "    </tr>\n",
              "  </thead>\n",
              "  <tbody>\n",
              "    <tr>\n",
              "      <th rowspan=\"5\" valign=\"top\">01</th>\n",
              "      <th rowspan=\"5\" valign=\"top\">01</th>\n",
              "      <th>00:00</th>\n",
              "      <td>3.5</td>\n",
              "      <td>30.8</td>\n",
              "      <td>36.2</td>\n",
              "      <td>35.7</td>\n",
              "      <td>NaN</td>\n",
              "    </tr>\n",
              "    <tr>\n",
              "      <th>01:00</th>\n",
              "      <td>3.6</td>\n",
              "      <td>31.5</td>\n",
              "      <td>37.0</td>\n",
              "      <td>28.5</td>\n",
              "      <td>NaN</td>\n",
              "    </tr>\n",
              "    <tr>\n",
              "      <th>02:00</th>\n",
              "      <td>2.2</td>\n",
              "      <td>27.3</td>\n",
              "      <td>30.7</td>\n",
              "      <td>22.7</td>\n",
              "      <td>NaN</td>\n",
              "    </tr>\n",
              "    <tr>\n",
              "      <th>03:00</th>\n",
              "      <td>2.1</td>\n",
              "      <td>23.5</td>\n",
              "      <td>26.8</td>\n",
              "      <td>20.5</td>\n",
              "      <td>NaN</td>\n",
              "    </tr>\n",
              "    <tr>\n",
              "      <th>04:00</th>\n",
              "      <td>3.3</td>\n",
              "      <td>28.0</td>\n",
              "      <td>33.0</td>\n",
              "      <td>22.1</td>\n",
              "      <td>NaN</td>\n",
              "    </tr>\n",
              "    <tr>\n",
              "      <th>...</th>\n",
              "      <th>...</th>\n",
              "      <th>...</th>\n",
              "      <td>...</td>\n",
              "      <td>...</td>\n",
              "      <td>...</td>\n",
              "      <td>...</td>\n",
              "      <td>...</td>\n",
              "    </tr>\n",
              "    <tr>\n",
              "      <th rowspan=\"5\" valign=\"top\">12</th>\n",
              "      <th rowspan=\"5\" valign=\"top\">31</th>\n",
              "      <th>19:00</th>\n",
              "      <td>0.7</td>\n",
              "      <td>17.5</td>\n",
              "      <td>18.5</td>\n",
              "      <td>16.3</td>\n",
              "      <td>-2.0</td>\n",
              "    </tr>\n",
              "    <tr>\n",
              "      <th>20:00</th>\n",
              "      <td>0.7</td>\n",
              "      <td>17.5</td>\n",
              "      <td>18.6</td>\n",
              "      <td>14.5</td>\n",
              "      <td>6.0</td>\n",
              "    </tr>\n",
              "    <tr>\n",
              "      <th>21:00</th>\n",
              "      <td>0.7</td>\n",
              "      <td>14.1</td>\n",
              "      <td>15.1</td>\n",
              "      <td>8.6</td>\n",
              "      <td>5.0</td>\n",
              "    </tr>\n",
              "    <tr>\n",
              "      <th>22:00</th>\n",
              "      <td>1.1</td>\n",
              "      <td>22.0</td>\n",
              "      <td>23.6</td>\n",
              "      <td>12.5</td>\n",
              "      <td>5.0</td>\n",
              "    </tr>\n",
              "    <tr>\n",
              "      <th>23:00</th>\n",
              "      <td>0.9</td>\n",
              "      <td>19.4</td>\n",
              "      <td>20.7</td>\n",
              "      <td>10.4</td>\n",
              "      <td>6.0</td>\n",
              "    </tr>\n",
              "  </tbody>\n",
              "</table>\n",
              "<p>8737 rows × 5 columns</p>\n",
              "</div>"
            ],
            "text/plain": [
              "                Value                        \n",
              "Species            NO   NO2   NOX  PM10 PM2.5\n",
              "Month Day Time                               \n",
              "01    01  00:00   3.5  30.8  36.2  35.7   NaN\n",
              "          01:00   3.6  31.5  37.0  28.5   NaN\n",
              "          02:00   2.2  27.3  30.7  22.7   NaN\n",
              "          03:00   2.1  23.5  26.8  20.5   NaN\n",
              "          04:00   3.3  28.0  33.0  22.1   NaN\n",
              "...               ...   ...   ...   ...   ...\n",
              "12    31  19:00   0.7  17.5  18.5  16.3  -2.0\n",
              "          20:00   0.7  17.5  18.6  14.5   6.0\n",
              "          21:00   0.7  14.1  15.1   8.6   5.0\n",
              "          22:00   1.1  22.0  23.6  12.5   5.0\n",
              "          23:00   0.9  19.4  20.7  10.4   6.0\n",
              "\n",
              "[8737 rows x 5 columns]"
            ]
          },
          "execution_count": 117,
          "metadata": {},
          "output_type": "execute_result"
        }
      ],
      "source": [
        "air_df.unstack()"
      ]
    },
    {
      "cell_type": "markdown",
      "metadata": {},
      "source": [
        "<span style=\"color: #FF8C00;\">_Las salidas entre el código de la pregunta 8 y 9 definititvamente no son iguales. Si bien en el ejercicio 8 se muestran todas las mediciones de `Species` en formato fila, en el ejercicio 9 se muestran en columnas, mostrando el mismo número de datos, solo que de una manera bastante diferente. En mi opinión, la manera de visualizar del ejercicio 9 muestra más información ya que muestra el `Value` para cada hora de cada contaminante, no así en el código del ejercicio 8 que se muestra en un formato donde hay que buscar especificamente el `Value` para cada hora de cada contaminante medido._</span>"
      ]
    },
    {
      "cell_type": "markdown",
      "metadata": {
        "id": "K1vWLX2ffxHV"
      },
      "source": [
        "10.\tExplica cuáles son las diferencias y similitudes entre el par `melt()/pivot()` y el par `stack()/unstack()`. Si tuvieras que elegir una contraparte para `melt()` entre `stack()/unstack()`, ¿cuál elegirías? ¿Por qué?"
      ]
    },
    {
      "cell_type": "markdown",
      "metadata": {},
      "source": [
        "*   <span style=\"color: #FF8C00;\">    _Similitudes._</span>\n",
        "\n",
        "<span style=\"color: #FF8C00;\">    _La similitud más importante entre ambos pares de comandos es que permiten cambiar DataFrames entre formatos largo y ancho, a la vez que ambos pares pertenecen a la paquetería de Pandas._</span>\n",
        "\n",
        "*   <span style=\"color: #FF8C00;\">    _Diferencias._</span>\n",
        "\n",
        "<span style=\"color: #FF8C00;\">    _El par `stack()/unstack()` pueden manejar objetos con índices múltiples, por otro lado, el par `melt()/pivot()` es más general con los objetos en los que trabaja; es decir, son más comúnmente usados para transformar DataFrames en datos \"planos\" sin índices jerárquicos. Este segundo par funciona en datos donde hay una columna como variable de identificación, mientras que las otras columnas son variables medidas. Si bien, el resultado del par `stack()/unstack()` es un DataFrame con índices múltiples, con el par `melt()/pivot()` se obtiene un resultado de solo dos columnas, una con la 'variable' y otra solo con el 'valor' asociado a la variable._</span>\n",
        "\n",
        "<span style=\"color: #FF8C00;\">    _Finalmente, la contraparte para `melt()` es `stack()` ya que ambos transforman datos de ancho a largo. Elegir entre ambas depende mucho del contexto y de los tipos de datos con los que se trabaje, aún así considero que en análisis como los hechos en el presente `stack()` es más útil que `melt()` por el hecho de trabajar con índices múltiples y su forma de arrojar el resultado. Sin embargo, en caso de querer analizar datos planos, donde sólo hay una columna de identificación y otra de medida, también es posible utilizar `melt()`._</span>"
      ]
    }
  ],
  "metadata": {
    "colab": {
      "provenance": []
    },
    "kernelspec": {
      "display_name": "Python 3",
      "name": "python3"
    },
    "language_info": {
      "codemirror_mode": {
        "name": "ipython",
        "version": 3
      },
      "file_extension": ".py",
      "mimetype": "text/x-python",
      "name": "python",
      "nbconvert_exporter": "python",
      "pygments_lexer": "ipython3",
      "version": "3.12.6"
    }
  },
  "nbformat": 4,
  "nbformat_minor": 0
}
